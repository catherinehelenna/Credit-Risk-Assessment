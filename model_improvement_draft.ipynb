{
 "cells": [
  {
   "cell_type": "markdown",
   "metadata": {},
   "source": [
    "# **1. PERKENALAN**"
   ]
  },
  {
   "cell_type": "markdown",
   "metadata": {},
   "source": [
    "---\n",
    "# <center>**CreditGuide: Your Trustworthy Defaulter Detector**</center>\n",
    "\n",
    "\n",
    "#### <center>by Catherine Helenna Mulyadi</center>\n",
    "\n",
    "---\n",
    "\n",
    "Tujuan dari program ini adalah untuk membuat model klasifikasi default_payment_next_month berdasarkan dataset yang disediakan. Dataset yang akan digunakan berasal dari Google BigQuery Public Dataset dengan tabel credit_card_default. Dataset dapat diakses dengan membuka tab `bigquery-public-data` => `ml_datasets` => `credit_card_default`.\n",
    "\n",
    "Di dalam tabel ini, terdapat beberapa informasi penting terkait informasi transaksi yang dilakukan oleh pengguna kartu kredit. Informasi tersebut meliputi sex, limit_balance, education_level,marital_status, tingkat payment delay (pay_angka), jumlah amount of bill statement (amt), dan default_payment_next_month (dinyatakan tidak membayar tagihan kredit tepat waktu atau tidak).\n",
    "\n",
    "Informasi tambahan berkaitan default payment: bila nasabah dinyatakan default oleh bank, maka nasabah dapat dikenakan penalti pembayaran tambahan, peningkatan bunga utang, nilai negatif pada skor kredit (jadi makin sulit untuk meminjam uang), dan penyitaan aset.\n",
    "\n",
    "---\n"
   ]
  },
  {
   "cell_type": "markdown",
   "metadata": {},
   "source": [
    "### <center>**Informasi mengenai data tiap kolom dari dataset**</center>\n",
    "---\n",
    "\n",
    "- limit_balance\t(Amount of given credit in NT dollars (includes individual and family/supplementary credit))\n",
    "- sex\t(Gender (1=male, 2=female))\n",
    "- education_level\t(Education Level (1=graduate school, 2=university, 3=high school, 4=others, 5=unknown, 6=unknown))\n",
    "- marital_status (Marital status (1=married, 2=single, 3=others))\n",
    "- age\t(Age in years)\n",
    "- pay_0 (Repayment status in September, 2005 (-1=pay duly=> atau sesuai tenggat waktu, 1=payment delay for one month, 2=payment delay for two months, ... 8=payment delay for eight months, 9=payment delay for nine months and above))\n",
    "- pay_2\t(Repayment status in August, 2005 (scale same as above))\n",
    "- pay_3\t(Repayment status in July, 2005 (scale same as above))\n",
    "- pay_4\t(Repayment status in June, 2005 (scale same as above))\n",
    "- pay_5\t(Repayment status in May, 2005 (scale same as above))\n",
    "- pay_6\t(Repayment status in April, 2005 (scale same as above))\n",
    "- bill_amt_1\t(Amount of bill statement in September, 2005 (NT dollar))\n",
    "- bill_amt_2\t(Amount of bill statement in August, 2005 (NT dollar))\n",
    "- bill_amt_3\t(Amount of bill statement in July, 2005 (NT dollar))\n",
    "- bill_amt_4\t(Amount of bill statement in June, 2005 (NT dollar))\n",
    "- bill_amt_5\t(Amount of bill statement in May, 2005 (NT dollar))\n",
    "- bill_amt_6\t(Amount of bill statement in April, 2005 (NT dollar))\n",
    "- pay_amt_1\t(Amount of previous payment in September, 2005 (NT dollar))\n",
    "- pay_amt_2\t(Amount of previous payment in August, 2005 (NT dollar))\n",
    "- pay_amt_3\t(Amount of previous payment in July, 2005 (NT dollar))\n",
    "- pay_amt_4\t(Amount of previous payment in June, 2005 (NT dollar))\n",
    "- pay_amt_5\t(Amount of previous payment in May, 2005 (NT dollar))\n",
    "- pay_amt_6\t(Amount of previous payment in April, 2005 (NT dollar))\n",
    "- default_payment_next_month\tDefault payment (1=yes, 0=no)\n"
   ]
  },
  {
   "cell_type": "markdown",
   "metadata": {},
   "source": [
    "======================================================================================================================================================================================================================================"
   ]
  },
  {
   "cell_type": "markdown",
   "metadata": {},
   "source": [
    "# 2. **QUERY SQL**"
   ]
  },
  {
   "cell_type": "markdown",
   "metadata": {},
   "source": [
    "## Proses Pengambilan Data Menggunakan Big Query"
   ]
  },
  {
   "cell_type": "markdown",
   "metadata": {},
   "source": [
    "```sql\n",
    "----------------------------------------------------------------------\n",
    "--                INISIASI KONEKSI KE BIG QUERY\n",
    "----------------------------------------------------------------------\n",
    "from google.colab import auth\n",
    "from google.cloud import bigquery\n",
    "auth.authenticate_user()\n",
    "print('Authenticated')\n",
    "\n",
    "project_id_akun = \"project1-sql-ngc-6\" -- menggunakan project id sendiri\n",
    "client = bigquery.Client(project=project_id_akun)\n",
    "\n",
    "----------------------------------------------------------------------\n",
    "--    QUERY UNTUK PENGAMBILAN DATA SESUAI FORMAT YANG DIMINTA\n",
    "----------------------------------------------------------------------\n",
    "\n",
    "df = client.query('''\n",
    "SELECT\n",
    "  CAST(sex AS INTEGER) AS sex,\n",
    "  CAST(education_level AS INTEGER) AS education_level,\n",
    "  CAST(marital_status AS INTEGER) AS marital_status,\n",
    "  limit_balance,\n",
    "  pay_0,\n",
    "  pay_2,\n",
    "  pay_3,\n",
    "  pay_4,\n",
    "  CAST(pay_5 AS FLOAT64) AS pay_5,\n",
    "  CAST(pay_6 AS FLOAT64) AS pay_6,\n",
    "  bill_amt_1,\n",
    "  bill_amt_2,\n",
    "  bill_amt_3,\n",
    "  bill_amt_4,\n",
    "  bill_amt_5,\n",
    "  bill_amt_6,\n",
    "  pay_amt_1,\n",
    "  pay_amt_2,\n",
    "  pay_amt_3,\n",
    "  pay_amt_4,\n",
    "  pay_amt_5,\n",
    "  pay_amt_6,\n",
    "  CAST(default_payment_next_month AS INTEGER) AS default_payment_next_month\n",
    "FROM `bigquery-public-data.ml_datasets.credit_card_default`\n",
    "LIMIT 54000\n",
    "WHERE ''').to_dataframe()\n",
    "```"
   ]
  },
  {
   "cell_type": "markdown",
   "metadata": {},
   "source": [
    "## Query Untuk Menunjukkan Data 10 teratas dan 10 terbawah"
   ]
  },
  {
   "cell_type": "markdown",
   "metadata": {},
   "source": [
    "```sql\n",
    "--Mengambil data 10 teratas dan terbawah\n",
    "first_last_rows = ('''WITH numbered_rows AS (\n",
    "    SELECT\n",
    "        *,\n",
    "        ROW_NUMBER() OVER () AS row_number,\n",
    "        COUNT(*) OVER () AS sum_rows\n",
    "    FROM `bigquery-public-data.ml_datasets.credit_card_default`\n",
    ")\n",
    "SELECT *\n",
    "FROM numbered_rows\n",
    "WHERE row_number <= 10\n",
    "   OR row_number > (sum_rows - 10);''')\n",
    "\n",
    "\n",
    "--Menunjukkan hasil dalam bentuk dataframe\n",
    "first_last_rows_show = client.query(first_last_rows).to_dataframe()\n",
    "first_last_rows_show\n",
    "\n",
    "```"
   ]
  },
  {
   "cell_type": "markdown",
   "metadata": {},
   "source": [
    "# 3. **IMPORT LIBRARIES**"
   ]
  },
  {
   "cell_type": "code",
   "execution_count": 2,
   "metadata": {},
   "outputs": [],
   "source": [
    "# untuk EDA\n",
    "import pandas as pd\n",
    "import numpy as np\n",
    "import seaborn as sns\n",
    "import matplotlib.pyplot as plt\n",
    "from scipy import stats\n",
    "\n",
    "# untuk feature engineering\n",
    "from sklearn.model_selection import train_test_split\n",
    "from sklearn.preprocessing import StandardScaler\n",
    "\n",
    "# for dimensionality reduction\n",
    "from sklearn.decomposition import PCA\n",
    "\n",
    "# for data balancing\n",
    "from collections import Counter\n",
    "from sklearn.utils import resample\n",
    "from imblearn.over_sampling import SMOTENC\n",
    "\n",
    "# untuk model training\n",
    "from sklearn.pipeline import Pipeline\n",
    "from sklearn.model_selection import RandomizedSearchCV,GridSearchCV\n",
    "from sklearn.svm import SVC\n",
    "from sklearn.neighbors import KNeighborsClassifier\n",
    "from sklearn.linear_model import LogisticRegression\n",
    "\n",
    "\n",
    "# untuk model evaluation\n",
    "from sklearn.metrics import ConfusionMatrixDisplay\n",
    "from sklearn.metrics import confusion_matrix\n",
    "from sklearn.metrics import classification_report\n",
    "from sklearn.metrics import roc_curve, roc_auc_score\n",
    "\n",
    "# untuk model saving\n",
    "import pickle"
   ]
  },
  {
   "cell_type": "markdown",
   "metadata": {},
   "source": [
    "# 4.**DATA LOADING**"
   ]
  },
  {
   "cell_type": "code",
   "execution_count": 3,
   "metadata": {},
   "outputs": [
    {
     "data": {
      "text/html": [
       "<div>\n",
       "<style scoped>\n",
       "    .dataframe tbody tr th:only-of-type {\n",
       "        vertical-align: middle;\n",
       "    }\n",
       "\n",
       "    .dataframe tbody tr th {\n",
       "        vertical-align: top;\n",
       "    }\n",
       "\n",
       "    .dataframe thead th {\n",
       "        text-align: right;\n",
       "    }\n",
       "</style>\n",
       "<table border=\"1\" class=\"dataframe\">\n",
       "  <thead>\n",
       "    <tr style=\"text-align: right;\">\n",
       "      <th></th>\n",
       "      <th>sex</th>\n",
       "      <th>education_level</th>\n",
       "      <th>marital_status</th>\n",
       "      <th>limit_balance</th>\n",
       "      <th>pay_0</th>\n",
       "      <th>pay_2</th>\n",
       "      <th>pay_3</th>\n",
       "      <th>pay_4</th>\n",
       "      <th>pay_5</th>\n",
       "      <th>pay_6</th>\n",
       "      <th>...</th>\n",
       "      <th>bill_amt_4</th>\n",
       "      <th>bill_amt_5</th>\n",
       "      <th>bill_amt_6</th>\n",
       "      <th>pay_amt_1</th>\n",
       "      <th>pay_amt_2</th>\n",
       "      <th>pay_amt_3</th>\n",
       "      <th>pay_amt_4</th>\n",
       "      <th>pay_amt_5</th>\n",
       "      <th>pay_amt_6</th>\n",
       "      <th>default_payment_next_month</th>\n",
       "    </tr>\n",
       "  </thead>\n",
       "  <tbody>\n",
       "    <tr>\n",
       "      <th>0</th>\n",
       "      <td>1</td>\n",
       "      <td>6</td>\n",
       "      <td>1</td>\n",
       "      <td>80000.0</td>\n",
       "      <td>0.0</td>\n",
       "      <td>0.0</td>\n",
       "      <td>0.0</td>\n",
       "      <td>0.0</td>\n",
       "      <td>0.0</td>\n",
       "      <td>0.0</td>\n",
       "      <td>...</td>\n",
       "      <td>29296.0</td>\n",
       "      <td>26210.0</td>\n",
       "      <td>17643.0</td>\n",
       "      <td>2545.0</td>\n",
       "      <td>2208.0</td>\n",
       "      <td>1336.0</td>\n",
       "      <td>2232.0</td>\n",
       "      <td>542.0</td>\n",
       "      <td>348.0</td>\n",
       "      <td>1</td>\n",
       "    </tr>\n",
       "    <tr>\n",
       "      <th>1</th>\n",
       "      <td>1</td>\n",
       "      <td>4</td>\n",
       "      <td>1</td>\n",
       "      <td>200000.0</td>\n",
       "      <td>0.0</td>\n",
       "      <td>0.0</td>\n",
       "      <td>0.0</td>\n",
       "      <td>0.0</td>\n",
       "      <td>0.0</td>\n",
       "      <td>0.0</td>\n",
       "      <td>...</td>\n",
       "      <td>50146.0</td>\n",
       "      <td>50235.0</td>\n",
       "      <td>48984.0</td>\n",
       "      <td>1689.0</td>\n",
       "      <td>2164.0</td>\n",
       "      <td>2500.0</td>\n",
       "      <td>3480.0</td>\n",
       "      <td>2500.0</td>\n",
       "      <td>3000.0</td>\n",
       "      <td>0</td>\n",
       "    </tr>\n",
       "    <tr>\n",
       "      <th>2</th>\n",
       "      <td>2</td>\n",
       "      <td>6</td>\n",
       "      <td>2</td>\n",
       "      <td>20000.0</td>\n",
       "      <td>0.0</td>\n",
       "      <td>0.0</td>\n",
       "      <td>0.0</td>\n",
       "      <td>0.0</td>\n",
       "      <td>0.0</td>\n",
       "      <td>0.0</td>\n",
       "      <td>...</td>\n",
       "      <td>1434.0</td>\n",
       "      <td>500.0</td>\n",
       "      <td>0.0</td>\n",
       "      <td>4641.0</td>\n",
       "      <td>1019.0</td>\n",
       "      <td>900.0</td>\n",
       "      <td>0.0</td>\n",
       "      <td>1500.0</td>\n",
       "      <td>0.0</td>\n",
       "      <td>1</td>\n",
       "    </tr>\n",
       "    <tr>\n",
       "      <th>3</th>\n",
       "      <td>2</td>\n",
       "      <td>4</td>\n",
       "      <td>2</td>\n",
       "      <td>260000.0</td>\n",
       "      <td>0.0</td>\n",
       "      <td>0.0</td>\n",
       "      <td>0.0</td>\n",
       "      <td>0.0</td>\n",
       "      <td>0.0</td>\n",
       "      <td>0.0</td>\n",
       "      <td>...</td>\n",
       "      <td>27821.0</td>\n",
       "      <td>30767.0</td>\n",
       "      <td>29890.0</td>\n",
       "      <td>5000.0</td>\n",
       "      <td>5000.0</td>\n",
       "      <td>1137.0</td>\n",
       "      <td>5000.0</td>\n",
       "      <td>1085.0</td>\n",
       "      <td>5000.0</td>\n",
       "      <td>0</td>\n",
       "    </tr>\n",
       "    <tr>\n",
       "      <th>4</th>\n",
       "      <td>1</td>\n",
       "      <td>4</td>\n",
       "      <td>2</td>\n",
       "      <td>150000.0</td>\n",
       "      <td>0.0</td>\n",
       "      <td>0.0</td>\n",
       "      <td>0.0</td>\n",
       "      <td>-1.0</td>\n",
       "      <td>0.0</td>\n",
       "      <td>0.0</td>\n",
       "      <td>...</td>\n",
       "      <td>150464.0</td>\n",
       "      <td>143375.0</td>\n",
       "      <td>146411.0</td>\n",
       "      <td>4019.0</td>\n",
       "      <td>146896.0</td>\n",
       "      <td>157436.0</td>\n",
       "      <td>4600.0</td>\n",
       "      <td>4709.0</td>\n",
       "      <td>5600.0</td>\n",
       "      <td>0</td>\n",
       "    </tr>\n",
       "    <tr>\n",
       "      <th>...</th>\n",
       "      <td>...</td>\n",
       "      <td>...</td>\n",
       "      <td>...</td>\n",
       "      <td>...</td>\n",
       "      <td>...</td>\n",
       "      <td>...</td>\n",
       "      <td>...</td>\n",
       "      <td>...</td>\n",
       "      <td>...</td>\n",
       "      <td>...</td>\n",
       "      <td>...</td>\n",
       "      <td>...</td>\n",
       "      <td>...</td>\n",
       "      <td>...</td>\n",
       "      <td>...</td>\n",
       "      <td>...</td>\n",
       "      <td>...</td>\n",
       "      <td>...</td>\n",
       "      <td>...</td>\n",
       "      <td>...</td>\n",
       "      <td>...</td>\n",
       "    </tr>\n",
       "    <tr>\n",
       "      <th>2960</th>\n",
       "      <td>2</td>\n",
       "      <td>3</td>\n",
       "      <td>2</td>\n",
       "      <td>80000.0</td>\n",
       "      <td>-1.0</td>\n",
       "      <td>-1.0</td>\n",
       "      <td>-1.0</td>\n",
       "      <td>-2.0</td>\n",
       "      <td>-2.0</td>\n",
       "      <td>-2.0</td>\n",
       "      <td>...</td>\n",
       "      <td>0.0</td>\n",
       "      <td>0.0</td>\n",
       "      <td>0.0</td>\n",
       "      <td>2800.0</td>\n",
       "      <td>0.0</td>\n",
       "      <td>0.0</td>\n",
       "      <td>0.0</td>\n",
       "      <td>0.0</td>\n",
       "      <td>0.0</td>\n",
       "      <td>0</td>\n",
       "    </tr>\n",
       "    <tr>\n",
       "      <th>2961</th>\n",
       "      <td>2</td>\n",
       "      <td>3</td>\n",
       "      <td>1</td>\n",
       "      <td>50000.0</td>\n",
       "      <td>-1.0</td>\n",
       "      <td>-1.0</td>\n",
       "      <td>-1.0</td>\n",
       "      <td>-1.0</td>\n",
       "      <td>-2.0</td>\n",
       "      <td>-2.0</td>\n",
       "      <td>...</td>\n",
       "      <td>0.0</td>\n",
       "      <td>0.0</td>\n",
       "      <td>0.0</td>\n",
       "      <td>300.0</td>\n",
       "      <td>5880.0</td>\n",
       "      <td>0.0</td>\n",
       "      <td>0.0</td>\n",
       "      <td>0.0</td>\n",
       "      <td>0.0</td>\n",
       "      <td>1</td>\n",
       "    </tr>\n",
       "    <tr>\n",
       "      <th>2962</th>\n",
       "      <td>2</td>\n",
       "      <td>2</td>\n",
       "      <td>1</td>\n",
       "      <td>450000.0</td>\n",
       "      <td>-2.0</td>\n",
       "      <td>-2.0</td>\n",
       "      <td>-2.0</td>\n",
       "      <td>-2.0</td>\n",
       "      <td>-2.0</td>\n",
       "      <td>-2.0</td>\n",
       "      <td>...</td>\n",
       "      <td>390.0</td>\n",
       "      <td>390.0</td>\n",
       "      <td>390.0</td>\n",
       "      <td>390.0</td>\n",
       "      <td>780.0</td>\n",
       "      <td>390.0</td>\n",
       "      <td>390.0</td>\n",
       "      <td>390.0</td>\n",
       "      <td>390.0</td>\n",
       "      <td>1</td>\n",
       "    </tr>\n",
       "    <tr>\n",
       "      <th>2963</th>\n",
       "      <td>2</td>\n",
       "      <td>2</td>\n",
       "      <td>1</td>\n",
       "      <td>50000.0</td>\n",
       "      <td>-2.0</td>\n",
       "      <td>-2.0</td>\n",
       "      <td>-2.0</td>\n",
       "      <td>-2.0</td>\n",
       "      <td>-2.0</td>\n",
       "      <td>-2.0</td>\n",
       "      <td>...</td>\n",
       "      <td>390.0</td>\n",
       "      <td>390.0</td>\n",
       "      <td>0.0</td>\n",
       "      <td>390.0</td>\n",
       "      <td>390.0</td>\n",
       "      <td>390.0</td>\n",
       "      <td>390.0</td>\n",
       "      <td>0.0</td>\n",
       "      <td>780.0</td>\n",
       "      <td>0</td>\n",
       "    </tr>\n",
       "    <tr>\n",
       "      <th>2964</th>\n",
       "      <td>2</td>\n",
       "      <td>2</td>\n",
       "      <td>1</td>\n",
       "      <td>290000.0</td>\n",
       "      <td>1.0</td>\n",
       "      <td>-2.0</td>\n",
       "      <td>-2.0</td>\n",
       "      <td>-2.0</td>\n",
       "      <td>-2.0</td>\n",
       "      <td>-2.0</td>\n",
       "      <td>...</td>\n",
       "      <td>3184.0</td>\n",
       "      <td>390.0</td>\n",
       "      <td>390.0</td>\n",
       "      <td>10000.0</td>\n",
       "      <td>800.0</td>\n",
       "      <td>3184.0</td>\n",
       "      <td>390.0</td>\n",
       "      <td>390.0</td>\n",
       "      <td>6617.0</td>\n",
       "      <td>0</td>\n",
       "    </tr>\n",
       "  </tbody>\n",
       "</table>\n",
       "<p>2965 rows × 23 columns</p>\n",
       "</div>"
      ],
      "text/plain": [
       "      sex  education_level  marital_status  limit_balance  pay_0  pay_2  \\\n",
       "0       1                6               1        80000.0    0.0    0.0   \n",
       "1       1                4               1       200000.0    0.0    0.0   \n",
       "2       2                6               2        20000.0    0.0    0.0   \n",
       "3       2                4               2       260000.0    0.0    0.0   \n",
       "4       1                4               2       150000.0    0.0    0.0   \n",
       "...   ...              ...             ...            ...    ...    ...   \n",
       "2960    2                3               2        80000.0   -1.0   -1.0   \n",
       "2961    2                3               1        50000.0   -1.0   -1.0   \n",
       "2962    2                2               1       450000.0   -2.0   -2.0   \n",
       "2963    2                2               1        50000.0   -2.0   -2.0   \n",
       "2964    2                2               1       290000.0    1.0   -2.0   \n",
       "\n",
       "      pay_3  pay_4  pay_5  pay_6  ...  bill_amt_4  bill_amt_5  bill_amt_6  \\\n",
       "0       0.0    0.0    0.0    0.0  ...     29296.0     26210.0     17643.0   \n",
       "1       0.0    0.0    0.0    0.0  ...     50146.0     50235.0     48984.0   \n",
       "2       0.0    0.0    0.0    0.0  ...      1434.0       500.0         0.0   \n",
       "3       0.0    0.0    0.0    0.0  ...     27821.0     30767.0     29890.0   \n",
       "4       0.0   -1.0    0.0    0.0  ...    150464.0    143375.0    146411.0   \n",
       "...     ...    ...    ...    ...  ...         ...         ...         ...   \n",
       "2960   -1.0   -2.0   -2.0   -2.0  ...         0.0         0.0         0.0   \n",
       "2961   -1.0   -1.0   -2.0   -2.0  ...         0.0         0.0         0.0   \n",
       "2962   -2.0   -2.0   -2.0   -2.0  ...       390.0       390.0       390.0   \n",
       "2963   -2.0   -2.0   -2.0   -2.0  ...       390.0       390.0         0.0   \n",
       "2964   -2.0   -2.0   -2.0   -2.0  ...      3184.0       390.0       390.0   \n",
       "\n",
       "      pay_amt_1  pay_amt_2  pay_amt_3  pay_amt_4  pay_amt_5  pay_amt_6  \\\n",
       "0        2545.0     2208.0     1336.0     2232.0      542.0      348.0   \n",
       "1        1689.0     2164.0     2500.0     3480.0     2500.0     3000.0   \n",
       "2        4641.0     1019.0      900.0        0.0     1500.0        0.0   \n",
       "3        5000.0     5000.0     1137.0     5000.0     1085.0     5000.0   \n",
       "4        4019.0   146896.0   157436.0     4600.0     4709.0     5600.0   \n",
       "...         ...        ...        ...        ...        ...        ...   \n",
       "2960     2800.0        0.0        0.0        0.0        0.0        0.0   \n",
       "2961      300.0     5880.0        0.0        0.0        0.0        0.0   \n",
       "2962      390.0      780.0      390.0      390.0      390.0      390.0   \n",
       "2963      390.0      390.0      390.0      390.0        0.0      780.0   \n",
       "2964    10000.0      800.0     3184.0      390.0      390.0     6617.0   \n",
       "\n",
       "      default_payment_next_month  \n",
       "0                              1  \n",
       "1                              0  \n",
       "2                              1  \n",
       "3                              0  \n",
       "4                              0  \n",
       "...                          ...  \n",
       "2960                           0  \n",
       "2961                           1  \n",
       "2962                           1  \n",
       "2963                           0  \n",
       "2964                           0  \n",
       "\n",
       "[2965 rows x 23 columns]"
      ]
     },
     "execution_count": 3,
     "metadata": {},
     "output_type": "execute_result"
    }
   ],
   "source": [
    "# read the csv file\n",
    "main_data = pd.read_csv('client_data.csv')\n",
    "\n",
    "# show data\n",
    "main_data"
   ]
  },
  {
   "cell_type": "code",
   "execution_count": 4,
   "metadata": {},
   "outputs": [
    {
     "name": "stdout",
     "output_type": "stream",
     "text": [
      "<class 'pandas.core.frame.DataFrame'>\n",
      "RangeIndex: 2965 entries, 0 to 2964\n",
      "Data columns (total 23 columns):\n",
      " #   Column                      Non-Null Count  Dtype  \n",
      "---  ------                      --------------  -----  \n",
      " 0   sex                         2965 non-null   int64  \n",
      " 1   education_level             2965 non-null   int64  \n",
      " 2   marital_status              2965 non-null   int64  \n",
      " 3   limit_balance               2965 non-null   float64\n",
      " 4   pay_0                       2965 non-null   float64\n",
      " 5   pay_2                       2965 non-null   float64\n",
      " 6   pay_3                       2965 non-null   float64\n",
      " 7   pay_4                       2965 non-null   float64\n",
      " 8   pay_5                       2965 non-null   float64\n",
      " 9   pay_6                       2965 non-null   float64\n",
      " 10  bill_amt_1                  2965 non-null   float64\n",
      " 11  bill_amt_2                  2965 non-null   float64\n",
      " 12  bill_amt_3                  2965 non-null   float64\n",
      " 13  bill_amt_4                  2965 non-null   float64\n",
      " 14  bill_amt_5                  2965 non-null   float64\n",
      " 15  bill_amt_6                  2965 non-null   float64\n",
      " 16  pay_amt_1                   2965 non-null   float64\n",
      " 17  pay_amt_2                   2965 non-null   float64\n",
      " 18  pay_amt_3                   2965 non-null   float64\n",
      " 19  pay_amt_4                   2965 non-null   float64\n",
      " 20  pay_amt_5                   2965 non-null   float64\n",
      " 21  pay_amt_6                   2965 non-null   float64\n",
      " 22  default_payment_next_month  2965 non-null   int64  \n",
      "dtypes: float64(19), int64(4)\n",
      "memory usage: 532.9 KB\n"
     ]
    }
   ],
   "source": [
    "# check the general information of the data\n",
    "main_data.info()"
   ]
  },
  {
   "cell_type": "code",
   "execution_count": 4,
   "metadata": {},
   "outputs": [
    {
     "data": {
      "text/plain": [
       "array([ 0.,  2.,  1., -1., -2.,  3.,  4.,  5.,  6.,  7.,  8.])"
      ]
     },
     "execution_count": 4,
     "metadata": {},
     "output_type": "execute_result"
    }
   ],
   "source": [
    "main_data['pay_0'].unique()"
   ]
  },
  {
   "cell_type": "markdown",
   "metadata": {},
   "source": [
    "### **INSIGHT:**\n",
    "- There are 2965 data with 23 columns. Each column has no missing data.\n",
    "- There are 11 unique values in pay_0; there is no description about the meaning of 0 and -2."
   ]
  },
  {
   "cell_type": "markdown",
   "metadata": {},
   "source": [
    "# 5. **EXPLORATORY DATA ANALYSIS (EDA)**"
   ]
  },
  {
   "cell_type": "markdown",
   "metadata": {},
   "source": [
    "### **Grouping jumlah nasabah pengguna kartu kredit berdasarkan gender**\n",
    "- Tujuan: Membandingkan apakah wanita / pria memiliki pemakaian kartu kredit lebih banyak atau tidak\n",
    "- Metode: Menggunakan bar graph."
   ]
  },
  {
   "cell_type": "code",
   "execution_count": 9,
   "metadata": {},
   "outputs": [
    {
     "data": {
      "text/html": [
       "<div>\n",
       "<style scoped>\n",
       "    .dataframe tbody tr th:only-of-type {\n",
       "        vertical-align: middle;\n",
       "    }\n",
       "\n",
       "    .dataframe tbody tr th {\n",
       "        vertical-align: top;\n",
       "    }\n",
       "\n",
       "    .dataframe thead th {\n",
       "        text-align: right;\n",
       "    }\n",
       "</style>\n",
       "<table border=\"1\" class=\"dataframe\">\n",
       "  <thead>\n",
       "    <tr style=\"text-align: right;\">\n",
       "      <th></th>\n",
       "      <th>sex</th>\n",
       "      <th>count</th>\n",
       "    </tr>\n",
       "  </thead>\n",
       "  <tbody>\n",
       "    <tr>\n",
       "      <th>0</th>\n",
       "      <td>1</td>\n",
       "      <td>1163</td>\n",
       "    </tr>\n",
       "    <tr>\n",
       "      <th>1</th>\n",
       "      <td>2</td>\n",
       "      <td>1802</td>\n",
       "    </tr>\n",
       "  </tbody>\n",
       "</table>\n",
       "</div>"
      ],
      "text/plain": [
       "   sex  count\n",
       "0    1   1163\n",
       "1    2   1802"
      ]
     },
     "execution_count": 9,
     "metadata": {},
     "output_type": "execute_result"
    }
   ],
   "source": [
    "# membuat dataframe baru\n",
    "\n",
    "customer_gender = pd.DataFrame(main_data.groupby('sex')['sex'].value_counts().reset_index())\n",
    "\n",
    "customer_gender"
   ]
  },
  {
   "cell_type": "code",
   "execution_count": 10,
   "metadata": {},
   "outputs": [
    {
     "data": {
      "text/html": [
       "<div>\n",
       "<style scoped>\n",
       "    .dataframe tbody tr th:only-of-type {\n",
       "        vertical-align: middle;\n",
       "    }\n",
       "\n",
       "    .dataframe tbody tr th {\n",
       "        vertical-align: top;\n",
       "    }\n",
       "\n",
       "    .dataframe thead th {\n",
       "        text-align: right;\n",
       "    }\n",
       "</style>\n",
       "<table border=\"1\" class=\"dataframe\">\n",
       "  <thead>\n",
       "    <tr style=\"text-align: right;\">\n",
       "      <th></th>\n",
       "      <th>sex</th>\n",
       "      <th>number_of_customers</th>\n",
       "    </tr>\n",
       "  </thead>\n",
       "  <tbody>\n",
       "    <tr>\n",
       "      <th>0</th>\n",
       "      <td>1</td>\n",
       "      <td>1163</td>\n",
       "    </tr>\n",
       "    <tr>\n",
       "      <th>1</th>\n",
       "      <td>2</td>\n",
       "      <td>1802</td>\n",
       "    </tr>\n",
       "  </tbody>\n",
       "</table>\n",
       "</div>"
      ],
      "text/plain": [
       "   sex  number_of_customers\n",
       "0    1                 1163\n",
       "1    2                 1802"
      ]
     },
     "execution_count": 10,
     "metadata": {},
     "output_type": "execute_result"
    }
   ],
   "source": [
    "# mengubah nama label dari count => number_of_customers\n",
    "customer_gender.rename(columns={'count':'number_of_customers'},inplace = True)\n",
    "\n",
    "customer_gender"
   ]
  },
  {
   "cell_type": "code",
   "execution_count": 11,
   "metadata": {},
   "outputs": [
    {
     "data": {
      "text/html": [
       "<div>\n",
       "<style scoped>\n",
       "    .dataframe tbody tr th:only-of-type {\n",
       "        vertical-align: middle;\n",
       "    }\n",
       "\n",
       "    .dataframe tbody tr th {\n",
       "        vertical-align: top;\n",
       "    }\n",
       "\n",
       "    .dataframe thead th {\n",
       "        text-align: right;\n",
       "    }\n",
       "</style>\n",
       "<table border=\"1\" class=\"dataframe\">\n",
       "  <thead>\n",
       "    <tr style=\"text-align: right;\">\n",
       "      <th></th>\n",
       "      <th>sex</th>\n",
       "      <th>number_of_customers</th>\n",
       "    </tr>\n",
       "  </thead>\n",
       "  <tbody>\n",
       "    <tr>\n",
       "      <th>0</th>\n",
       "      <td>Male</td>\n",
       "      <td>1163</td>\n",
       "    </tr>\n",
       "    <tr>\n",
       "      <th>1</th>\n",
       "      <td>Female</td>\n",
       "      <td>1802</td>\n",
       "    </tr>\n",
       "  </tbody>\n",
       "</table>\n",
       "</div>"
      ],
      "text/plain": [
       "      sex  number_of_customers\n",
       "0    Male                 1163\n",
       "1  Female                 1802"
      ]
     },
     "execution_count": 11,
     "metadata": {},
     "output_type": "execute_result"
    }
   ],
   "source": [
    "# mengubah nilai angka pada sex (gender) menjadi string\n",
    "\n",
    "customer_gender['sex'] = customer_gender['sex'].replace(1,'Male')\n",
    "customer_gender['sex'] = customer_gender['sex'].replace(2,'Female')\n",
    "\n",
    "customer_gender"
   ]
  },
  {
   "cell_type": "code",
   "execution_count": 12,
   "metadata": {},
   "outputs": [
    {
     "data": {
      "image/png": "[encoded data removed]",
      "text/plain": [
       "<Figure size 640x480 with 1 Axes>"
      ]
     },
     "metadata": {},
     "output_type": "display_data"
    }
   ],
   "source": [
    "# mendefinisikan values x dan y\n",
    "x_values = customer_gender['sex']\n",
    "y_values = customer_gender['number_of_customers']\n",
    "\n",
    "# Definisikan warna berdasarkan gender\n",
    "colors = ['lightblue' if s == 'Male' else 'pink' for s in customer_gender['sex']]\n",
    "\n",
    "# plotting dengan bar graph\n",
    "plt.bar(x_values,y_values,color=colors)\n",
    "\n",
    "# menambahkan label pada axisnya\n",
    "plt.xlabel('Gender')\n",
    "plt.ylabel('Number of Customers')\n",
    "plt.title('Number of Customers for Each Gender')\n",
    "\n",
    "# display the graph\n",
    "\n",
    "plt.show()\n"
   ]
  },
  {
   "cell_type": "markdown",
   "metadata": {},
   "source": [
    "### **INSIGHT:**\n",
    "- Berdasarkan hasil bar graph, ditemukan bahwa jumlah nasabah wanita (Female) lebih banyak daripada pria (Male). Perbedaan jumlah nasabah wanita dan pria adalah 1802-1163 = 639 nasabah."
   ]
  },
  {
   "cell_type": "markdown",
   "metadata": {},
   "source": [
    "### **Melihat hubungan antara gender dan jumlah limit kartu kredit**\n",
    "- Tujuan: Mengamati apakah gender mempengaruhi nilai limit kartu kredit atau tidak.\n",
    "- Metode: Menggunakan box plot untuk melihat variasi limit kartu kredit setiap gender. Melakukan ANOVA test untuk melihat hubungan tersebut.\n",
    "\n",
    "Hipotesis ANOVA Test\n",
    "\n",
    "    H0: Tidak ada perbedaan signifikan untuk jumlah limit kartu kredit (limit_balance) berdasarkan gender.\n",
    "\n",
    "\n",
    "    H1: Terdapat perbedaan signifikan untuk jumlah limit kartu kredit (limit_balance) berdasarkan gender.\n",
    "\n",
    "\n",
    "    Catatan: p-value < 0.05 maka H0 ditolak dan H1 diterima"
   ]
  },
  {
   "cell_type": "code",
   "execution_count": 13,
   "metadata": {},
   "outputs": [
    {
     "data": {
      "text/html": [
       "<div>\n",
       "<style scoped>\n",
       "    .dataframe tbody tr th:only-of-type {\n",
       "        vertical-align: middle;\n",
       "    }\n",
       "\n",
       "    .dataframe tbody tr th {\n",
       "        vertical-align: top;\n",
       "    }\n",
       "\n",
       "    .dataframe thead th {\n",
       "        text-align: right;\n",
       "    }\n",
       "</style>\n",
       "<table border=\"1\" class=\"dataframe\">\n",
       "  <thead>\n",
       "    <tr style=\"text-align: right;\">\n",
       "      <th></th>\n",
       "      <th>sex</th>\n",
       "      <th>limit_balance</th>\n",
       "    </tr>\n",
       "  </thead>\n",
       "  <tbody>\n",
       "    <tr>\n",
       "      <th>0</th>\n",
       "      <td>1</td>\n",
       "      <td>80000.0</td>\n",
       "    </tr>\n",
       "    <tr>\n",
       "      <th>1</th>\n",
       "      <td>1</td>\n",
       "      <td>200000.0</td>\n",
       "    </tr>\n",
       "    <tr>\n",
       "      <th>2</th>\n",
       "      <td>2</td>\n",
       "      <td>20000.0</td>\n",
       "    </tr>\n",
       "    <tr>\n",
       "      <th>3</th>\n",
       "      <td>2</td>\n",
       "      <td>260000.0</td>\n",
       "    </tr>\n",
       "    <tr>\n",
       "      <th>4</th>\n",
       "      <td>1</td>\n",
       "      <td>150000.0</td>\n",
       "    </tr>\n",
       "    <tr>\n",
       "      <th>...</th>\n",
       "      <td>...</td>\n",
       "      <td>...</td>\n",
       "    </tr>\n",
       "    <tr>\n",
       "      <th>2960</th>\n",
       "      <td>2</td>\n",
       "      <td>80000.0</td>\n",
       "    </tr>\n",
       "    <tr>\n",
       "      <th>2961</th>\n",
       "      <td>2</td>\n",
       "      <td>50000.0</td>\n",
       "    </tr>\n",
       "    <tr>\n",
       "      <th>2962</th>\n",
       "      <td>2</td>\n",
       "      <td>450000.0</td>\n",
       "    </tr>\n",
       "    <tr>\n",
       "      <th>2963</th>\n",
       "      <td>2</td>\n",
       "      <td>50000.0</td>\n",
       "    </tr>\n",
       "    <tr>\n",
       "      <th>2964</th>\n",
       "      <td>2</td>\n",
       "      <td>290000.0</td>\n",
       "    </tr>\n",
       "  </tbody>\n",
       "</table>\n",
       "<p>2965 rows × 2 columns</p>\n",
       "</div>"
      ],
      "text/plain": [
       "      sex  limit_balance\n",
       "0       1        80000.0\n",
       "1       1       200000.0\n",
       "2       2        20000.0\n",
       "3       2       260000.0\n",
       "4       1       150000.0\n",
       "...   ...            ...\n",
       "2960    2        80000.0\n",
       "2961    2        50000.0\n",
       "2962    2       450000.0\n",
       "2963    2        50000.0\n",
       "2964    2       290000.0\n",
       "\n",
       "[2965 rows x 2 columns]"
      ]
     },
     "execution_count": 13,
     "metadata": {},
     "output_type": "execute_result"
    }
   ],
   "source": [
    "# membuat dataframe baru\n",
    "\n",
    "data = {'sex': main_data['sex'], 'limit_balance':main_data['limit_balance']}\n",
    "variasi_harga = pd.DataFrame(data).reset_index(drop=True)\n",
    "\n",
    "variasi_harga"
   ]
  },
  {
   "cell_type": "code",
   "execution_count": 14,
   "metadata": {},
   "outputs": [
    {
     "data": {
      "text/plain": [
       "array([1, 2])"
      ]
     },
     "execution_count": 14,
     "metadata": {},
     "output_type": "execute_result"
    }
   ],
   "source": [
    "variasi_harga['sex'].unique()"
   ]
  },
  {
   "cell_type": "code",
   "execution_count": 15,
   "metadata": {},
   "outputs": [
    {
     "data": {
      "text/html": [
       "<div>\n",
       "<style scoped>\n",
       "    .dataframe tbody tr th:only-of-type {\n",
       "        vertical-align: middle;\n",
       "    }\n",
       "\n",
       "    .dataframe tbody tr th {\n",
       "        vertical-align: top;\n",
       "    }\n",
       "\n",
       "    .dataframe thead th {\n",
       "        text-align: right;\n",
       "    }\n",
       "</style>\n",
       "<table border=\"1\" class=\"dataframe\">\n",
       "  <thead>\n",
       "    <tr style=\"text-align: right;\">\n",
       "      <th></th>\n",
       "      <th>sex</th>\n",
       "      <th>new_sex</th>\n",
       "      <th>limit_balance</th>\n",
       "    </tr>\n",
       "  </thead>\n",
       "  <tbody>\n",
       "    <tr>\n",
       "      <th>0</th>\n",
       "      <td>1</td>\n",
       "      <td>Male</td>\n",
       "      <td>80000.0</td>\n",
       "    </tr>\n",
       "    <tr>\n",
       "      <th>1</th>\n",
       "      <td>1</td>\n",
       "      <td>Male</td>\n",
       "      <td>200000.0</td>\n",
       "    </tr>\n",
       "    <tr>\n",
       "      <th>2</th>\n",
       "      <td>2</td>\n",
       "      <td>Female</td>\n",
       "      <td>20000.0</td>\n",
       "    </tr>\n",
       "    <tr>\n",
       "      <th>3</th>\n",
       "      <td>2</td>\n",
       "      <td>Female</td>\n",
       "      <td>260000.0</td>\n",
       "    </tr>\n",
       "    <tr>\n",
       "      <th>4</th>\n",
       "      <td>1</td>\n",
       "      <td>Male</td>\n",
       "      <td>150000.0</td>\n",
       "    </tr>\n",
       "    <tr>\n",
       "      <th>...</th>\n",
       "      <td>...</td>\n",
       "      <td>...</td>\n",
       "      <td>...</td>\n",
       "    </tr>\n",
       "    <tr>\n",
       "      <th>2960</th>\n",
       "      <td>2</td>\n",
       "      <td>Female</td>\n",
       "      <td>80000.0</td>\n",
       "    </tr>\n",
       "    <tr>\n",
       "      <th>2961</th>\n",
       "      <td>2</td>\n",
       "      <td>Female</td>\n",
       "      <td>50000.0</td>\n",
       "    </tr>\n",
       "    <tr>\n",
       "      <th>2962</th>\n",
       "      <td>2</td>\n",
       "      <td>Female</td>\n",
       "      <td>450000.0</td>\n",
       "    </tr>\n",
       "    <tr>\n",
       "      <th>2963</th>\n",
       "      <td>2</td>\n",
       "      <td>Female</td>\n",
       "      <td>50000.0</td>\n",
       "    </tr>\n",
       "    <tr>\n",
       "      <th>2964</th>\n",
       "      <td>2</td>\n",
       "      <td>Female</td>\n",
       "      <td>290000.0</td>\n",
       "    </tr>\n",
       "  </tbody>\n",
       "</table>\n",
       "<p>2965 rows × 3 columns</p>\n",
       "</div>"
      ],
      "text/plain": [
       "      sex new_sex  limit_balance\n",
       "0       1    Male        80000.0\n",
       "1       1    Male       200000.0\n",
       "2       2  Female        20000.0\n",
       "3       2  Female       260000.0\n",
       "4       1    Male       150000.0\n",
       "...   ...     ...            ...\n",
       "2960    2  Female        80000.0\n",
       "2961    2  Female        50000.0\n",
       "2962    2  Female       450000.0\n",
       "2963    2  Female        50000.0\n",
       "2964    2  Female       290000.0\n",
       "\n",
       "[2965 rows x 3 columns]"
      ]
     },
     "execution_count": 15,
     "metadata": {},
     "output_type": "execute_result"
    }
   ],
   "source": [
    "# menambah kolom baru untuk konversi ke string dari angka\n",
    "variasi_harga.insert(1,'new_sex','no values')\n",
    "variasi_harga.loc[variasi_harga['sex'] == 1,'new_sex'] = 'Male'\n",
    "variasi_harga.loc[variasi_harga['sex'] == 2,'new_sex'] = 'Female'\n",
    "\n",
    "\n",
    "variasi_harga"
   ]
  },
  {
   "cell_type": "code",
   "execution_count": 16,
   "metadata": {},
   "outputs": [
    {
     "data": {
      "text/html": [
       "<div>\n",
       "<style scoped>\n",
       "    .dataframe tbody tr th:only-of-type {\n",
       "        vertical-align: middle;\n",
       "    }\n",
       "\n",
       "    .dataframe tbody tr th {\n",
       "        vertical-align: top;\n",
       "    }\n",
       "\n",
       "    .dataframe thead th {\n",
       "        text-align: right;\n",
       "    }\n",
       "</style>\n",
       "<table border=\"1\" class=\"dataframe\">\n",
       "  <thead>\n",
       "    <tr style=\"text-align: right;\">\n",
       "      <th></th>\n",
       "      <th>count</th>\n",
       "      <th>mean</th>\n",
       "      <th>std</th>\n",
       "      <th>min</th>\n",
       "      <th>25%</th>\n",
       "      <th>50%</th>\n",
       "      <th>75%</th>\n",
       "      <th>max</th>\n",
       "    </tr>\n",
       "    <tr>\n",
       "      <th>new_sex</th>\n",
       "      <th></th>\n",
       "      <th></th>\n",
       "      <th></th>\n",
       "      <th></th>\n",
       "      <th></th>\n",
       "      <th></th>\n",
       "      <th></th>\n",
       "      <th></th>\n",
       "    </tr>\n",
       "  </thead>\n",
       "  <tbody>\n",
       "    <tr>\n",
       "      <th>Female</th>\n",
       "      <td>1802.0</td>\n",
       "      <td>166237.513873</td>\n",
       "      <td>120500.737472</td>\n",
       "      <td>10000.0</td>\n",
       "      <td>70000.0</td>\n",
       "      <td>150000.0</td>\n",
       "      <td>230000.0</td>\n",
       "      <td>750000.0</td>\n",
       "    </tr>\n",
       "    <tr>\n",
       "      <th>Male</th>\n",
       "      <td>1163.0</td>\n",
       "      <td>158925.193465</td>\n",
       "      <td>131671.226755</td>\n",
       "      <td>10000.0</td>\n",
       "      <td>50000.0</td>\n",
       "      <td>120000.0</td>\n",
       "      <td>230000.0</td>\n",
       "      <td>800000.0</td>\n",
       "    </tr>\n",
       "  </tbody>\n",
       "</table>\n",
       "</div>"
      ],
      "text/plain": [
       "          count           mean            std      min      25%       50%  \\\n",
       "new_sex                                                                     \n",
       "Female   1802.0  166237.513873  120500.737472  10000.0  70000.0  150000.0   \n",
       "Male     1163.0  158925.193465  131671.226755  10000.0  50000.0  120000.0   \n",
       "\n",
       "              75%       max  \n",
       "new_sex                      \n",
       "Female   230000.0  750000.0  \n",
       "Male     230000.0  800000.0  "
      ]
     },
     "execution_count": 16,
     "metadata": {},
     "output_type": "execute_result"
    }
   ],
   "source": [
    "# statistika deskriptif limit_balance berdasarkan gender\n",
    "variasi_harga.groupby('new_sex')['limit_balance'].describe()"
   ]
  },
  {
   "cell_type": "code",
   "execution_count": 17,
   "metadata": {},
   "outputs": [
    {
     "data": {
      "image/png": "[encoded data removed]",
      "text/plain": [
       "<Figure size 640x480 with 1 Axes>"
      ]
     },
     "metadata": {},
     "output_type": "display_data"
    }
   ],
   "source": [
    "# make a box plot\n",
    "sns.boxplot(x='new_sex',y='limit_balance',data=variasi_harga)\n",
    "\n",
    "# memberikan label\n",
    "plt.xlabel('Gender')\n",
    "plt.ylabel('Limit Balance')\n",
    "plt.title('Box Plot Variasi Limit Balance berdasarkan Gender')\n",
    "\n",
    "# Displaying the plot\n",
    "plt.show()"
   ]
  },
  {
   "cell_type": "code",
   "execution_count": 18,
   "metadata": {},
   "outputs": [
    {
     "name": "stdout",
     "output_type": "stream",
     "text": [
      "P-value: 0.0\n"
     ]
    }
   ],
   "source": [
    "# ANOVA TEST\n",
    "res = stats.f_oneway(variasi_harga['sex'], variasi_harga['limit_balance'])\n",
    "print('P-value:',res.pvalue)"
   ]
  },
  {
   "cell_type": "markdown",
   "metadata": {},
   "source": [
    "### **INSIGHT:**\n",
    "\n",
    "- Hasil statistika deskriptif pada limit_balance setiap gender menunjukkan bahwa Female memiliki rata-rata limit_balance daripada Male (166237 > 158926). Namun, variance limit_balance Male serta limit_balance tertinggi lebih tinggi daripada Female (800000 > 750000).\n",
    "\n",
    "- Melalui boxplot, terlihat lebih jelas bahwa limit_balance tiap gender memiliki rata-rata serta nilai kuartil yang mirip. Akan tetapi, jumlah outlier limit_balance pada kategori Female lebih banyak daripada Male.\n",
    "\n",
    "- Hasil ANOVA test menyatakan bahwa jumlah limit_balance berbeda berdasarkan gender karena p-value = 0."
   ]
  },
  {
   "cell_type": "markdown",
   "metadata": {},
   "source": [
    "### **Check Linear Relationship between Features and Target**\n",
    "- Purpose: To see if PCA can be used in feature engineering.\n",
    "- Method: Correlation matrix."
   ]
  },
  {
   "cell_type": "code",
   "execution_count": 21,
   "metadata": {},
   "outputs": [],
   "source": [
    "# create correlation matrix\n",
    "correlation_matrix_data = main_data.corr()"
   ]
  },
  {
   "cell_type": "code",
   "execution_count": 23,
   "metadata": {},
   "outputs": [
    {
     "data": {
      "image/png": "[encoded data removed]",
      "text/plain": [
       "<Figure size 1000x1000 with 2 Axes>"
      ]
     },
     "metadata": {},
     "output_type": "display_data"
    }
   ],
   "source": [
    "# create heatmap showing the correlation matrix\n",
    "plt.figure(figsize=(10,10))\n",
    "sns.heatmap(correlation_matrix_data,annot=False,cmap='Pastel2',fmt=\".2f\",linewidth=0.5)\n",
    "plt.title('Heatmap of Linear Correlation Matrix')\n",
    "plt.show()"
   ]
  },
  {
   "cell_type": "markdown",
   "metadata": {},
   "source": [
    "### **INSIGHT:**\n",
    "\n",
    "- As all columns are either having weak linear relationship (pink, blue, or light green) with the target variable (default_payment_next_month) or no relationship (orange), it is concluded that PCA can be used.\n",
    "- The features about amount of bill statement from the bank are highly linearly correlated with one another (coefficient is near to 1; grey color)."
   ]
  },
  {
   "cell_type": "markdown",
   "metadata": {},
   "source": [
    "# **6. FEATURE ENGINEERING**"
   ]
  },
  {
   "cell_type": "markdown",
   "metadata": {},
   "source": [
    "## i. **Feature Creation**\n",
    "- Spliting dataset."
   ]
  },
  {
   "cell_type": "code",
   "execution_count": 5,
   "metadata": {},
   "outputs": [],
   "source": [
    "# Define X and y values\n",
    "X = main_data.drop('default_payment_next_month',axis = 1)\n",
    "y = main_data['default_payment_next_month']"
   ]
  },
  {
   "cell_type": "code",
   "execution_count": 6,
   "metadata": {},
   "outputs": [],
   "source": [
    "# Splitting datasets\n",
    "X_train, X_test, y_train, y_test = train_test_split(X, y, test_size=0.2, random_state=21)"
   ]
  },
  {
   "cell_type": "code",
   "execution_count": 7,
   "metadata": {},
   "outputs": [
    {
     "name": "stdout",
     "output_type": "stream",
     "text": [
      "Before undersampling:  Counter({0: 1852, 1: 520})\n"
     ]
    }
   ],
   "source": [
    "# Check how many data is classified as default (1) and non-default (0)\n",
    "print('Before undersampling: ', Counter(y_train))"
   ]
  },
  {
   "cell_type": "markdown",
   "metadata": {},
   "source": [
    "## ii. **Data Balancing**\n",
    "`Objective`: to reduce bias on the major class when doing classification tasks.\n",
    "\n",
    "`Method`: undersampling, SMOTE-NC"
   ]
  },
  {
   "cell_type": "markdown",
   "metadata": {},
   "source": [
    "### a. Undersampling the major class (default = 0)"
   ]
  },
  {
   "cell_type": "code",
   "execution_count": 8,
   "metadata": {},
   "outputs": [],
   "source": [
    "# undersampling process\n",
    "# combine the features and target variable into a dataframe\n",
    "train_df = pd.concat([X_train,y_train], axis = 1)\n",
    "\n",
    "# separate the majority and minority classes in the dataset\n",
    "majority_data = train_df[train_df['default_payment_next_month']==0]\n",
    "minority_data = train_df[train_df['default_payment_next_month']==1]\n",
    "\n",
    "# decide how many data to keep in the majority class\n",
    "n_samples = len(minority_data)\n",
    "\n",
    "# perform undersampling\n",
    "downsampling_majority = resample(majority_data,\n",
    "                                 replace = False,\n",
    "                                 n_samples = n_samples,\n",
    "                                 random_state = 21)\n",
    "\n",
    "# combine the majority data with minority data\n",
    "undersampling_result = pd.concat([downsampling_majority,minority_data])\n",
    "\n",
    "# redefine the train set\n",
    "X_train_resampled = undersampling_result.drop('default_payment_next_month', axis = 1)\n",
    "y_train_resampled = undersampling_result['default_payment_next_month']"
   ]
  },
  {
   "cell_type": "code",
   "execution_count": 9,
   "metadata": {},
   "outputs": [
    {
     "name": "stdout",
     "output_type": "stream",
     "text": [
      "After undersampling: Counter({0: 520, 1: 520})\n"
     ]
    }
   ],
   "source": [
    "# see if the data is already balanced or not\n",
    "print('After undersampling:', Counter(y_train_resampled))"
   ]
  },
  {
   "cell_type": "markdown",
   "metadata": {},
   "source": [
    "### b. Oversampling Minor Class (default = 1) with SMOTE-NC"
   ]
  },
  {
   "cell_type": "code",
   "execution_count": 10,
   "metadata": {},
   "outputs": [],
   "source": [
    "# data balancing\n",
    "categorical_features_indices =[0,1,2,3,4,5,6,7,8,9,10,16,17,18,19,20,21]\n",
    "\n",
    "# Initialize SMOTENC\n",
    "smote_nc = SMOTENC(categorical_features=categorical_features_indices, random_state=42)\n",
    "\n",
    "# Apply SMOTENC to the training data only\n",
    "X_train_resampled_2, y_train_resampled_2 = smote_nc.fit_resample(X_train, y_train)"
   ]
  },
  {
   "cell_type": "code",
   "execution_count": 13,
   "metadata": {},
   "outputs": [
    {
     "name": "stdout",
     "output_type": "stream",
     "text": [
      "After oversampling: Counter({0: 1852, 1: 1852})\n"
     ]
    }
   ],
   "source": [
    "# see if the data is already balanced or not\n",
    "print('After oversampling:', Counter(y_train_resampled_2))"
   ]
  },
  {
   "cell_type": "markdown",
   "metadata": {},
   "source": [
    "### c. Use Original Data"
   ]
  },
  {
   "cell_type": "code",
   "execution_count": 11,
   "metadata": {},
   "outputs": [
    {
     "data": {
      "text/html": [
       "<div>\n",
       "<style scoped>\n",
       "    .dataframe tbody tr th:only-of-type {\n",
       "        vertical-align: middle;\n",
       "    }\n",
       "\n",
       "    .dataframe tbody tr th {\n",
       "        vertical-align: top;\n",
       "    }\n",
       "\n",
       "    .dataframe thead th {\n",
       "        text-align: right;\n",
       "    }\n",
       "</style>\n",
       "<table border=\"1\" class=\"dataframe\">\n",
       "  <thead>\n",
       "    <tr style=\"text-align: right;\">\n",
       "      <th></th>\n",
       "      <th>sex</th>\n",
       "      <th>education_level</th>\n",
       "      <th>marital_status</th>\n",
       "      <th>limit_balance</th>\n",
       "      <th>pay_0</th>\n",
       "      <th>pay_2</th>\n",
       "      <th>pay_3</th>\n",
       "      <th>pay_4</th>\n",
       "      <th>pay_5</th>\n",
       "      <th>pay_6</th>\n",
       "      <th>...</th>\n",
       "      <th>bill_amt_3</th>\n",
       "      <th>bill_amt_4</th>\n",
       "      <th>bill_amt_5</th>\n",
       "      <th>bill_amt_6</th>\n",
       "      <th>pay_amt_1</th>\n",
       "      <th>pay_amt_2</th>\n",
       "      <th>pay_amt_3</th>\n",
       "      <th>pay_amt_4</th>\n",
       "      <th>pay_amt_5</th>\n",
       "      <th>pay_amt_6</th>\n",
       "    </tr>\n",
       "  </thead>\n",
       "  <tbody>\n",
       "    <tr>\n",
       "      <th>118</th>\n",
       "      <td>1</td>\n",
       "      <td>1</td>\n",
       "      <td>2</td>\n",
       "      <td>300000.0</td>\n",
       "      <td>0.0</td>\n",
       "      <td>0.0</td>\n",
       "      <td>0.0</td>\n",
       "      <td>0.0</td>\n",
       "      <td>0.0</td>\n",
       "      <td>0.0</td>\n",
       "      <td>...</td>\n",
       "      <td>31180.0</td>\n",
       "      <td>19507.0</td>\n",
       "      <td>18169.0</td>\n",
       "      <td>18533.0</td>\n",
       "      <td>4103.0</td>\n",
       "      <td>1427.0</td>\n",
       "      <td>600.0</td>\n",
       "      <td>1200.0</td>\n",
       "      <td>2500.0</td>\n",
       "      <td>18000.0</td>\n",
       "    </tr>\n",
       "    <tr>\n",
       "      <th>794</th>\n",
       "      <td>2</td>\n",
       "      <td>2</td>\n",
       "      <td>1</td>\n",
       "      <td>160000.0</td>\n",
       "      <td>0.0</td>\n",
       "      <td>0.0</td>\n",
       "      <td>0.0</td>\n",
       "      <td>0.0</td>\n",
       "      <td>0.0</td>\n",
       "      <td>0.0</td>\n",
       "      <td>...</td>\n",
       "      <td>7035.0</td>\n",
       "      <td>4596.0</td>\n",
       "      <td>4635.0</td>\n",
       "      <td>2744.0</td>\n",
       "      <td>2000.0</td>\n",
       "      <td>1000.0</td>\n",
       "      <td>500.0</td>\n",
       "      <td>1000.0</td>\n",
       "      <td>1000.0</td>\n",
       "      <td>2000.0</td>\n",
       "    </tr>\n",
       "    <tr>\n",
       "      <th>1493</th>\n",
       "      <td>2</td>\n",
       "      <td>3</td>\n",
       "      <td>1</td>\n",
       "      <td>130000.0</td>\n",
       "      <td>-1.0</td>\n",
       "      <td>2.0</td>\n",
       "      <td>2.0</td>\n",
       "      <td>-1.0</td>\n",
       "      <td>0.0</td>\n",
       "      <td>-1.0</td>\n",
       "      <td>...</td>\n",
       "      <td>0.0</td>\n",
       "      <td>632.0</td>\n",
       "      <td>316.0</td>\n",
       "      <td>316.0</td>\n",
       "      <td>0.0</td>\n",
       "      <td>0.0</td>\n",
       "      <td>948.0</td>\n",
       "      <td>0.0</td>\n",
       "      <td>316.0</td>\n",
       "      <td>316.0</td>\n",
       "    </tr>\n",
       "    <tr>\n",
       "      <th>647</th>\n",
       "      <td>2</td>\n",
       "      <td>2</td>\n",
       "      <td>1</td>\n",
       "      <td>30000.0</td>\n",
       "      <td>0.0</td>\n",
       "      <td>0.0</td>\n",
       "      <td>0.0</td>\n",
       "      <td>0.0</td>\n",
       "      <td>0.0</td>\n",
       "      <td>0.0</td>\n",
       "      <td>...</td>\n",
       "      <td>22844.0</td>\n",
       "      <td>22101.0</td>\n",
       "      <td>19535.0</td>\n",
       "      <td>19580.0</td>\n",
       "      <td>1712.0</td>\n",
       "      <td>1400.0</td>\n",
       "      <td>442.0</td>\n",
       "      <td>391.0</td>\n",
       "      <td>500.0</td>\n",
       "      <td>0.0</td>\n",
       "    </tr>\n",
       "    <tr>\n",
       "      <th>2469</th>\n",
       "      <td>1</td>\n",
       "      <td>1</td>\n",
       "      <td>2</td>\n",
       "      <td>500000.0</td>\n",
       "      <td>0.0</td>\n",
       "      <td>0.0</td>\n",
       "      <td>0.0</td>\n",
       "      <td>-1.0</td>\n",
       "      <td>-1.0</td>\n",
       "      <td>-1.0</td>\n",
       "      <td>...</td>\n",
       "      <td>0.0</td>\n",
       "      <td>3887.0</td>\n",
       "      <td>0.0</td>\n",
       "      <td>7413.0</td>\n",
       "      <td>22650.0</td>\n",
       "      <td>0.0</td>\n",
       "      <td>3887.0</td>\n",
       "      <td>0.0</td>\n",
       "      <td>7413.0</td>\n",
       "      <td>0.0</td>\n",
       "    </tr>\n",
       "    <tr>\n",
       "      <th>...</th>\n",
       "      <td>...</td>\n",
       "      <td>...</td>\n",
       "      <td>...</td>\n",
       "      <td>...</td>\n",
       "      <td>...</td>\n",
       "      <td>...</td>\n",
       "      <td>...</td>\n",
       "      <td>...</td>\n",
       "      <td>...</td>\n",
       "      <td>...</td>\n",
       "      <td>...</td>\n",
       "      <td>...</td>\n",
       "      <td>...</td>\n",
       "      <td>...</td>\n",
       "      <td>...</td>\n",
       "      <td>...</td>\n",
       "      <td>...</td>\n",
       "      <td>...</td>\n",
       "      <td>...</td>\n",
       "      <td>...</td>\n",
       "      <td>...</td>\n",
       "    </tr>\n",
       "    <tr>\n",
       "      <th>2416</th>\n",
       "      <td>2</td>\n",
       "      <td>2</td>\n",
       "      <td>2</td>\n",
       "      <td>340000.0</td>\n",
       "      <td>-1.0</td>\n",
       "      <td>-1.0</td>\n",
       "      <td>-1.0</td>\n",
       "      <td>-1.0</td>\n",
       "      <td>-1.0</td>\n",
       "      <td>-1.0</td>\n",
       "      <td>...</td>\n",
       "      <td>4794.0</td>\n",
       "      <td>7819.0</td>\n",
       "      <td>332.0</td>\n",
       "      <td>16516.0</td>\n",
       "      <td>9318.0</td>\n",
       "      <td>5343.0</td>\n",
       "      <td>7819.0</td>\n",
       "      <td>332.0</td>\n",
       "      <td>16516.0</td>\n",
       "      <td>5000.0</td>\n",
       "    </tr>\n",
       "    <tr>\n",
       "      <th>48</th>\n",
       "      <td>1</td>\n",
       "      <td>1</td>\n",
       "      <td>2</td>\n",
       "      <td>310000.0</td>\n",
       "      <td>0.0</td>\n",
       "      <td>0.0</td>\n",
       "      <td>0.0</td>\n",
       "      <td>0.0</td>\n",
       "      <td>0.0</td>\n",
       "      <td>0.0</td>\n",
       "      <td>...</td>\n",
       "      <td>283847.0</td>\n",
       "      <td>290135.0</td>\n",
       "      <td>293350.0</td>\n",
       "      <td>300623.0</td>\n",
       "      <td>10010.0</td>\n",
       "      <td>11500.0</td>\n",
       "      <td>11015.0</td>\n",
       "      <td>11000.0</td>\n",
       "      <td>12000.0</td>\n",
       "      <td>23035.0</td>\n",
       "    </tr>\n",
       "    <tr>\n",
       "      <th>772</th>\n",
       "      <td>2</td>\n",
       "      <td>2</td>\n",
       "      <td>2</td>\n",
       "      <td>120000.0</td>\n",
       "      <td>0.0</td>\n",
       "      <td>0.0</td>\n",
       "      <td>0.0</td>\n",
       "      <td>0.0</td>\n",
       "      <td>0.0</td>\n",
       "      <td>0.0</td>\n",
       "      <td>...</td>\n",
       "      <td>9624.0</td>\n",
       "      <td>20129.0</td>\n",
       "      <td>10388.0</td>\n",
       "      <td>13316.0</td>\n",
       "      <td>1137.0</td>\n",
       "      <td>1514.0</td>\n",
       "      <td>1069.0</td>\n",
       "      <td>278.0</td>\n",
       "      <td>3000.0</td>\n",
       "      <td>0.0</td>\n",
       "    </tr>\n",
       "    <tr>\n",
       "      <th>1848</th>\n",
       "      <td>2</td>\n",
       "      <td>2</td>\n",
       "      <td>1</td>\n",
       "      <td>60000.0</td>\n",
       "      <td>0.0</td>\n",
       "      <td>0.0</td>\n",
       "      <td>2.0</td>\n",
       "      <td>2.0</td>\n",
       "      <td>2.0</td>\n",
       "      <td>2.0</td>\n",
       "      <td>...</td>\n",
       "      <td>39676.0</td>\n",
       "      <td>42407.0</td>\n",
       "      <td>41428.0</td>\n",
       "      <td>45576.0</td>\n",
       "      <td>4000.0</td>\n",
       "      <td>0.0</td>\n",
       "      <td>3700.0</td>\n",
       "      <td>0.0</td>\n",
       "      <td>5000.0</td>\n",
       "      <td>2000.0</td>\n",
       "    </tr>\n",
       "    <tr>\n",
       "      <th>1231</th>\n",
       "      <td>2</td>\n",
       "      <td>3</td>\n",
       "      <td>1</td>\n",
       "      <td>340000.0</td>\n",
       "      <td>0.0</td>\n",
       "      <td>-1.0</td>\n",
       "      <td>0.0</td>\n",
       "      <td>0.0</td>\n",
       "      <td>0.0</td>\n",
       "      <td>0.0</td>\n",
       "      <td>...</td>\n",
       "      <td>59375.0</td>\n",
       "      <td>60216.0</td>\n",
       "      <td>59842.0</td>\n",
       "      <td>46882.0</td>\n",
       "      <td>57301.0</td>\n",
       "      <td>3000.0</td>\n",
       "      <td>2600.0</td>\n",
       "      <td>1000.0</td>\n",
       "      <td>1817.0</td>\n",
       "      <td>11022.0</td>\n",
       "    </tr>\n",
       "  </tbody>\n",
       "</table>\n",
       "<p>2372 rows × 22 columns</p>\n",
       "</div>"
      ],
      "text/plain": [
       "      sex  education_level  marital_status  limit_balance  pay_0  pay_2  \\\n",
       "118     1                1               2       300000.0    0.0    0.0   \n",
       "794     2                2               1       160000.0    0.0    0.0   \n",
       "1493    2                3               1       130000.0   -1.0    2.0   \n",
       "647     2                2               1        30000.0    0.0    0.0   \n",
       "2469    1                1               2       500000.0    0.0    0.0   \n",
       "...   ...              ...             ...            ...    ...    ...   \n",
       "2416    2                2               2       340000.0   -1.0   -1.0   \n",
       "48      1                1               2       310000.0    0.0    0.0   \n",
       "772     2                2               2       120000.0    0.0    0.0   \n",
       "1848    2                2               1        60000.0    0.0    0.0   \n",
       "1231    2                3               1       340000.0    0.0   -1.0   \n",
       "\n",
       "      pay_3  pay_4  pay_5  pay_6  ...  bill_amt_3  bill_amt_4  bill_amt_5  \\\n",
       "118     0.0    0.0    0.0    0.0  ...     31180.0     19507.0     18169.0   \n",
       "794     0.0    0.0    0.0    0.0  ...      7035.0      4596.0      4635.0   \n",
       "1493    2.0   -1.0    0.0   -1.0  ...         0.0       632.0       316.0   \n",
       "647     0.0    0.0    0.0    0.0  ...     22844.0     22101.0     19535.0   \n",
       "2469    0.0   -1.0   -1.0   -1.0  ...         0.0      3887.0         0.0   \n",
       "...     ...    ...    ...    ...  ...         ...         ...         ...   \n",
       "2416   -1.0   -1.0   -1.0   -1.0  ...      4794.0      7819.0       332.0   \n",
       "48      0.0    0.0    0.0    0.0  ...    283847.0    290135.0    293350.0   \n",
       "772     0.0    0.0    0.0    0.0  ...      9624.0     20129.0     10388.0   \n",
       "1848    2.0    2.0    2.0    2.0  ...     39676.0     42407.0     41428.0   \n",
       "1231    0.0    0.0    0.0    0.0  ...     59375.0     60216.0     59842.0   \n",
       "\n",
       "      bill_amt_6  pay_amt_1  pay_amt_2  pay_amt_3  pay_amt_4  pay_amt_5  \\\n",
       "118      18533.0     4103.0     1427.0      600.0     1200.0     2500.0   \n",
       "794       2744.0     2000.0     1000.0      500.0     1000.0     1000.0   \n",
       "1493       316.0        0.0        0.0      948.0        0.0      316.0   \n",
       "647      19580.0     1712.0     1400.0      442.0      391.0      500.0   \n",
       "2469      7413.0    22650.0        0.0     3887.0        0.0     7413.0   \n",
       "...          ...        ...        ...        ...        ...        ...   \n",
       "2416     16516.0     9318.0     5343.0     7819.0      332.0    16516.0   \n",
       "48      300623.0    10010.0    11500.0    11015.0    11000.0    12000.0   \n",
       "772      13316.0     1137.0     1514.0     1069.0      278.0     3000.0   \n",
       "1848     45576.0     4000.0        0.0     3700.0        0.0     5000.0   \n",
       "1231     46882.0    57301.0     3000.0     2600.0     1000.0     1817.0   \n",
       "\n",
       "      pay_amt_6  \n",
       "118     18000.0  \n",
       "794      2000.0  \n",
       "1493      316.0  \n",
       "647         0.0  \n",
       "2469        0.0  \n",
       "...         ...  \n",
       "2416     5000.0  \n",
       "48      23035.0  \n",
       "772         0.0  \n",
       "1848     2000.0  \n",
       "1231    11022.0  \n",
       "\n",
       "[2372 rows x 22 columns]"
      ]
     },
     "execution_count": 11,
     "metadata": {},
     "output_type": "execute_result"
    }
   ],
   "source": [
    "# show the original train set\n",
    "X_train"
   ]
  },
  {
   "cell_type": "markdown",
   "metadata": {},
   "source": [
    "## ii. **Feature Extraction, Transformation, dan Selection**\n",
    "- Feature scaling and PCA for dimensionality reduction.\n",
    "- PCA is chosen since the features are still linearly related with the target variable and it's computationally lighter than UMAP and t-SNE."
   ]
  },
  {
   "cell_type": "markdown",
   "metadata": {},
   "source": [
    "### a. Undersampled Train Set"
   ]
  },
  {
   "cell_type": "code",
   "execution_count": 12,
   "metadata": {},
   "outputs": [
    {
     "data": {
      "text/html": [
       "<style>#sk-container-id-1 {color: black;background-color: white;}#sk-container-id-1 pre{padding: 0;}#sk-container-id-1 div.sk-toggleable {background-color: white;}#sk-container-id-1 label.sk-toggleable__label {cursor: pointer;display: block;width: 100%;margin-bottom: 0;padding: 0.3em;box-sizing: border-box;text-align: center;}#sk-container-id-1 label.sk-toggleable__label-arrow:before {content: \"▸\";float: left;margin-right: 0.25em;color: #696969;}#sk-container-id-1 label.sk-toggleable__label-arrow:hover:before {color: black;}#sk-container-id-1 div.sk-estimator:hover label.sk-toggleable__label-arrow:before {color: black;}#sk-container-id-1 div.sk-toggleable__content {max-height: 0;max-width: 0;overflow: hidden;text-align: left;background-color: #f0f8ff;}#sk-container-id-1 div.sk-toggleable__content pre {margin: 0.2em;color: black;border-radius: 0.25em;background-color: #f0f8ff;}#sk-container-id-1 input.sk-toggleable__control:checked~div.sk-toggleable__content {max-height: 200px;max-width: 100%;overflow: auto;}#sk-container-id-1 input.sk-toggleable__control:checked~label.sk-toggleable__label-arrow:before {content: \"▾\";}#sk-container-id-1 div.sk-estimator input.sk-toggleable__control:checked~label.sk-toggleable__label {background-color: #d4ebff;}#sk-container-id-1 div.sk-label input.sk-toggleable__control:checked~label.sk-toggleable__label {background-color: #d4ebff;}#sk-container-id-1 input.sk-hidden--visually {border: 0;clip: rect(1px 1px 1px 1px);clip: rect(1px, 1px, 1px, 1px);height: 1px;margin: -1px;overflow: hidden;padding: 0;position: absolute;width: 1px;}#sk-container-id-1 div.sk-estimator {font-family: monospace;background-color: #f0f8ff;border: 1px dotted black;border-radius: 0.25em;box-sizing: border-box;margin-bottom: 0.5em;}#sk-container-id-1 div.sk-estimator:hover {background-color: #d4ebff;}#sk-container-id-1 div.sk-parallel-item::after {content: \"\";width: 100%;border-bottom: 1px solid gray;flex-grow: 1;}#sk-container-id-1 div.sk-label:hover label.sk-toggleable__label {background-color: #d4ebff;}#sk-container-id-1 div.sk-serial::before {content: \"\";position: absolute;border-left: 1px solid gray;box-sizing: border-box;top: 0;bottom: 0;left: 50%;z-index: 0;}#sk-container-id-1 div.sk-serial {display: flex;flex-direction: column;align-items: center;background-color: white;padding-right: 0.2em;padding-left: 0.2em;position: relative;}#sk-container-id-1 div.sk-item {position: relative;z-index: 1;}#sk-container-id-1 div.sk-parallel {display: flex;align-items: stretch;justify-content: center;background-color: white;position: relative;}#sk-container-id-1 div.sk-item::before, #sk-container-id-1 div.sk-parallel-item::before {content: \"\";position: absolute;border-left: 1px solid gray;box-sizing: border-box;top: 0;bottom: 0;left: 50%;z-index: -1;}#sk-container-id-1 div.sk-parallel-item {display: flex;flex-direction: column;z-index: 1;position: relative;background-color: white;}#sk-container-id-1 div.sk-parallel-item:first-child::after {align-self: flex-end;width: 50%;}#sk-container-id-1 div.sk-parallel-item:last-child::after {align-self: flex-start;width: 50%;}#sk-container-id-1 div.sk-parallel-item:only-child::after {width: 0;}#sk-container-id-1 div.sk-dashed-wrapped {border: 1px dashed gray;margin: 0 0.4em 0.5em 0.4em;box-sizing: border-box;padding-bottom: 0.4em;background-color: white;}#sk-container-id-1 div.sk-label label {font-family: monospace;font-weight: bold;display: inline-block;line-height: 1.2em;}#sk-container-id-1 div.sk-label-container {text-align: center;}#sk-container-id-1 div.sk-container {/* jupyter's `normalize.less` sets `[hidden] { display: none; }` but bootstrap.min.css set `[hidden] { display: none !important; }` so we also need the `!important` here to be able to override the default hidden behavior on the sphinx rendered scikit-learn.org. See: https://github.com/scikit-learn/scikit-learn/issues/21755 */display: inline-block !important;position: relative;}#sk-container-id-1 div.sk-text-repr-fallback {display: none;}</style><div id=\"sk-container-id-1\" class=\"sk-top-container\"><div class=\"sk-text-repr-fallback\"><pre>PCA()</pre><b>In a Jupyter environment, please rerun this cell to show the HTML representation or trust the notebook. <br />On GitHub, the HTML representation is unable to render, please try loading this page with nbviewer.org.</b></div><div class=\"sk-container\" hidden><div class=\"sk-item\"><div class=\"sk-estimator sk-toggleable\"><input class=\"sk-toggleable__control sk-hidden--visually\" id=\"sk-estimator-id-1\" type=\"checkbox\" checked><label for=\"sk-estimator-id-1\" class=\"sk-toggleable__label sk-toggleable__label-arrow\">PCA</label><div class=\"sk-toggleable__content\"><pre>PCA()</pre></div></div></div></div></div>"
      ],
      "text/plain": [
       "PCA()"
      ]
     },
     "execution_count": 12,
     "metadata": {},
     "output_type": "execute_result"
    }
   ],
   "source": [
    "# Feature scaling with StandardScaler and PCA\n",
    "scaler_undersample = StandardScaler()\n",
    "X_train_resampled_scaled = scaler_undersample.fit_transform(X_train_resampled)\n",
    "pca_undersample = PCA()\n",
    "pca_undersample.fit(X_train_resampled_scaled)"
   ]
  },
  {
   "cell_type": "code",
   "execution_count": 13,
   "metadata": {},
   "outputs": [
    {
     "data": {
      "text/plain": [
       "Text(0, 0.5, 'Nilai Kumulatif Explained Variance Ratio')"
      ]
     },
     "execution_count": 13,
     "metadata": {},
     "output_type": "execute_result"
    },
    {
     "data": {
      "image/png": "[encoded data removed]",
      "text/plain": [
       "<Figure size 1500x500 with 1 Axes>"
      ]
     },
     "metadata": {},
     "output_type": "display_data"
    }
   ],
   "source": [
    "# Membuat plot untuk Cummulative of Explained Variance Ratio\n",
    "plt.figure(figsize=(15, 5))\n",
    "plt.subplot(1, 2, 1)\n",
    "plt.grid()\n",
    "plt.plot(range(1, 23), np.cumsum(pca_undersample.explained_variance_ratio_ * 100))\n",
    "plt.xlabel('Jumlah Features')\n",
    "plt.ylabel('Nilai Kumulatif Explained Variance Ratio')"
   ]
  },
  {
   "cell_type": "code",
   "execution_count": 15,
   "metadata": {},
   "outputs": [
    {
     "data": {
      "text/plain": [
       "Text(0, 0.5, 'Eigenvalues')"
      ]
     },
     "execution_count": 15,
     "metadata": {},
     "output_type": "execute_result"
    },
    {
     "data": {
      "image/png": "[encoded data removed]",
      "text/plain": [
       "<Figure size 640x480 with 1 Axes>"
      ]
     },
     "metadata": {},
     "output_type": "display_data"
    }
   ],
   "source": [
    "# Plot the Eigenvalues\n",
    "plt.subplot(1, 2, 2)\n",
    "plt.grid()\n",
    "plt.plot(range(1, 23), pca_undersample.explained_variance_ )\n",
    "plt.xlabel('Number of components')\n",
    "plt.ylabel('Eigenvalues')"
   ]
  },
  {
   "cell_type": "code",
   "execution_count": 55,
   "metadata": {},
   "outputs": [
    {
     "name": "stdout",
     "output_type": "stream",
     "text": [
      "Jumlah features yang akan digunakan jika mempertimbangkan cumulative explained variance ratio:  14\n"
     ]
    }
   ],
   "source": [
    "# Check jumlah feature yang akan digunakan bila ingin menyimpan 90 % dari total informasi\n",
    "cum_sum = np.cumsum(pca_undersample.explained_variance_ratio_)\n",
    "jumlah_features = np.argmax(cum_sum >= 0.95) + 1\n",
    "print(\"Jumlah features yang akan digunakan jika mempertimbangkan cumulative explained variance ratio: \",jumlah_features)"
   ]
  },
  {
   "cell_type": "code",
   "execution_count": 56,
   "metadata": {},
   "outputs": [],
   "source": [
    "# Lakukan PCA model training dengan jumlah komponen yang baru yaitu 14\n",
    "pca_undersampled = PCA(n_components=14)\n",
    "pca_undersampled.fit(X_train_resampled_scaled)\n",
    "\n",
    "# transform\n",
    "X_train_undersampled_pca = pca_undersampled.transform(X_train_resampled_scaled)"
   ]
  },
  {
   "cell_type": "code",
   "execution_count": 57,
   "metadata": {},
   "outputs": [],
   "source": [
    "# transform the test set\n",
    "X_test_resampled_scaled = scaler_undersample.transform(X_test)\n",
    "X_test_undersampled_pca = pca_undersampled.transform(X_test_resampled_scaled)"
   ]
  },
  {
   "cell_type": "markdown",
   "metadata": {},
   "source": [
    "### b. Oversampled Train Set"
   ]
  },
  {
   "cell_type": "code",
   "execution_count": 19,
   "metadata": {},
   "outputs": [
    {
     "data": {
      "text/html": [
       "<style>#sk-container-id-2 {color: black;background-color: white;}#sk-container-id-2 pre{padding: 0;}#sk-container-id-2 div.sk-toggleable {background-color: white;}#sk-container-id-2 label.sk-toggleable__label {cursor: pointer;display: block;width: 100%;margin-bottom: 0;padding: 0.3em;box-sizing: border-box;text-align: center;}#sk-container-id-2 label.sk-toggleable__label-arrow:before {content: \"▸\";float: left;margin-right: 0.25em;color: #696969;}#sk-container-id-2 label.sk-toggleable__label-arrow:hover:before {color: black;}#sk-container-id-2 div.sk-estimator:hover label.sk-toggleable__label-arrow:before {color: black;}#sk-container-id-2 div.sk-toggleable__content {max-height: 0;max-width: 0;overflow: hidden;text-align: left;background-color: #f0f8ff;}#sk-container-id-2 div.sk-toggleable__content pre {margin: 0.2em;color: black;border-radius: 0.25em;background-color: #f0f8ff;}#sk-container-id-2 input.sk-toggleable__control:checked~div.sk-toggleable__content {max-height: 200px;max-width: 100%;overflow: auto;}#sk-container-id-2 input.sk-toggleable__control:checked~label.sk-toggleable__label-arrow:before {content: \"▾\";}#sk-container-id-2 div.sk-estimator input.sk-toggleable__control:checked~label.sk-toggleable__label {background-color: #d4ebff;}#sk-container-id-2 div.sk-label input.sk-toggleable__control:checked~label.sk-toggleable__label {background-color: #d4ebff;}#sk-container-id-2 input.sk-hidden--visually {border: 0;clip: rect(1px 1px 1px 1px);clip: rect(1px, 1px, 1px, 1px);height: 1px;margin: -1px;overflow: hidden;padding: 0;position: absolute;width: 1px;}#sk-container-id-2 div.sk-estimator {font-family: monospace;background-color: #f0f8ff;border: 1px dotted black;border-radius: 0.25em;box-sizing: border-box;margin-bottom: 0.5em;}#sk-container-id-2 div.sk-estimator:hover {background-color: #d4ebff;}#sk-container-id-2 div.sk-parallel-item::after {content: \"\";width: 100%;border-bottom: 1px solid gray;flex-grow: 1;}#sk-container-id-2 div.sk-label:hover label.sk-toggleable__label {background-color: #d4ebff;}#sk-container-id-2 div.sk-serial::before {content: \"\";position: absolute;border-left: 1px solid gray;box-sizing: border-box;top: 0;bottom: 0;left: 50%;z-index: 0;}#sk-container-id-2 div.sk-serial {display: flex;flex-direction: column;align-items: center;background-color: white;padding-right: 0.2em;padding-left: 0.2em;position: relative;}#sk-container-id-2 div.sk-item {position: relative;z-index: 1;}#sk-container-id-2 div.sk-parallel {display: flex;align-items: stretch;justify-content: center;background-color: white;position: relative;}#sk-container-id-2 div.sk-item::before, #sk-container-id-2 div.sk-parallel-item::before {content: \"\";position: absolute;border-left: 1px solid gray;box-sizing: border-box;top: 0;bottom: 0;left: 50%;z-index: -1;}#sk-container-id-2 div.sk-parallel-item {display: flex;flex-direction: column;z-index: 1;position: relative;background-color: white;}#sk-container-id-2 div.sk-parallel-item:first-child::after {align-self: flex-end;width: 50%;}#sk-container-id-2 div.sk-parallel-item:last-child::after {align-self: flex-start;width: 50%;}#sk-container-id-2 div.sk-parallel-item:only-child::after {width: 0;}#sk-container-id-2 div.sk-dashed-wrapped {border: 1px dashed gray;margin: 0 0.4em 0.5em 0.4em;box-sizing: border-box;padding-bottom: 0.4em;background-color: white;}#sk-container-id-2 div.sk-label label {font-family: monospace;font-weight: bold;display: inline-block;line-height: 1.2em;}#sk-container-id-2 div.sk-label-container {text-align: center;}#sk-container-id-2 div.sk-container {/* jupyter's `normalize.less` sets `[hidden] { display: none; }` but bootstrap.min.css set `[hidden] { display: none !important; }` so we also need the `!important` here to be able to override the default hidden behavior on the sphinx rendered scikit-learn.org. See: https://github.com/scikit-learn/scikit-learn/issues/21755 */display: inline-block !important;position: relative;}#sk-container-id-2 div.sk-text-repr-fallback {display: none;}</style><div id=\"sk-container-id-2\" class=\"sk-top-container\"><div class=\"sk-text-repr-fallback\"><pre>PCA()</pre><b>In a Jupyter environment, please rerun this cell to show the HTML representation or trust the notebook. <br />On GitHub, the HTML representation is unable to render, please try loading this page with nbviewer.org.</b></div><div class=\"sk-container\" hidden><div class=\"sk-item\"><div class=\"sk-estimator sk-toggleable\"><input class=\"sk-toggleable__control sk-hidden--visually\" id=\"sk-estimator-id-2\" type=\"checkbox\" checked><label for=\"sk-estimator-id-2\" class=\"sk-toggleable__label sk-toggleable__label-arrow\">PCA</label><div class=\"sk-toggleable__content\"><pre>PCA()</pre></div></div></div></div></div>"
      ],
      "text/plain": [
       "PCA()"
      ]
     },
     "execution_count": 19,
     "metadata": {},
     "output_type": "execute_result"
    }
   ],
   "source": [
    "# Feature scaling with StandardScaler and PCA\n",
    "scaler_oversample = StandardScaler()\n",
    "X_train_oversample_scaled = scaler_oversample.fit_transform(X_train_resampled_2)\n",
    "pca_oversample = PCA()\n",
    "pca_oversample.fit(X_train_oversample_scaled)"
   ]
  },
  {
   "cell_type": "code",
   "execution_count": 20,
   "metadata": {},
   "outputs": [
    {
     "data": {
      "text/plain": [
       "Text(0, 0.5, 'Nilai Kumulatif Explained Variance Ratio')"
      ]
     },
     "execution_count": 20,
     "metadata": {},
     "output_type": "execute_result"
    },
    {
     "data": {
      "image/png": "[encoded data removed]",
      "text/plain": [
       "<Figure size 1500x500 with 1 Axes>"
      ]
     },
     "metadata": {},
     "output_type": "display_data"
    }
   ],
   "source": [
    "# Membuat plot untuk Cummulative of Explained Variance Ratio\n",
    "plt.figure(figsize=(15, 5))\n",
    "plt.subplot(1, 2, 1)\n",
    "plt.grid()\n",
    "plt.plot(range(1, 23), np.cumsum(pca_oversample.explained_variance_ratio_ * 100))\n",
    "plt.xlabel('Jumlah Features')\n",
    "plt.ylabel('Nilai Kumulatif Explained Variance Ratio')"
   ]
  },
  {
   "cell_type": "code",
   "execution_count": 21,
   "metadata": {},
   "outputs": [
    {
     "data": {
      "text/plain": [
       "Text(0, 0.5, 'Eigenvalues')"
      ]
     },
     "execution_count": 21,
     "metadata": {},
     "output_type": "execute_result"
    },
    {
     "data": {
      "image/png": "[encoded data removed]",
      "text/plain": [
       "<Figure size 640x480 with 1 Axes>"
      ]
     },
     "metadata": {},
     "output_type": "display_data"
    }
   ],
   "source": [
    "# Plot the Eigenvalues\n",
    "plt.subplot(1, 2, 2)\n",
    "plt.grid()\n",
    "plt.plot(range(1, 23), pca_oversample.explained_variance_ )\n",
    "plt.xlabel('Number of components')\n",
    "plt.ylabel('Eigenvalues')"
   ]
  },
  {
   "cell_type": "code",
   "execution_count": 58,
   "metadata": {},
   "outputs": [
    {
     "name": "stdout",
     "output_type": "stream",
     "text": [
      "Jumlah features yang akan digunakan jika mempertimbangkan cumulative explained variance ratio:  14\n"
     ]
    }
   ],
   "source": [
    "# Check jumlah feature yang akan digunakan bila ingin menyimpan 90 % dari total informasi\n",
    "cum_sum_2 = np.cumsum(pca_oversample.explained_variance_ratio_)\n",
    "jumlah_features = np.argmax(cum_sum_2 >= 0.95) + 1\n",
    "print(\"Jumlah features yang akan digunakan jika mempertimbangkan cumulative explained variance ratio: \",jumlah_features)"
   ]
  },
  {
   "cell_type": "code",
   "execution_count": 59,
   "metadata": {},
   "outputs": [],
   "source": [
    "# Lakukan PCA model training dengan jumlah komponen yang baru yaitu 14\n",
    "pca_oversampled = PCA(n_components=14)\n",
    "pca_oversampled.fit(X_train_oversample_scaled)\n",
    "\n",
    "# transform\n",
    "X_train_oversampled_pca = pca_undersampled.transform(X_train_oversample_scaled)"
   ]
  },
  {
   "cell_type": "code",
   "execution_count": 60,
   "metadata": {},
   "outputs": [],
   "source": [
    "# transform the test set\n",
    "X_test_oversampled_scaled = scaler_oversample.transform(X_test)\n",
    "X_test_oversampled_pca = pca_oversampled.transform(X_test_oversampled_scaled)"
   ]
  },
  {
   "cell_type": "markdown",
   "metadata": {},
   "source": [
    "### c. Original Train Set"
   ]
  },
  {
   "cell_type": "code",
   "execution_count": 92,
   "metadata": {},
   "outputs": [
    {
     "data": {
      "text/html": [
       "<style>#sk-container-id-13 {color: black;background-color: white;}#sk-container-id-13 pre{padding: 0;}#sk-container-id-13 div.sk-toggleable {background-color: white;}#sk-container-id-13 label.sk-toggleable__label {cursor: pointer;display: block;width: 100%;margin-bottom: 0;padding: 0.3em;box-sizing: border-box;text-align: center;}#sk-container-id-13 label.sk-toggleable__label-arrow:before {content: \"▸\";float: left;margin-right: 0.25em;color: #696969;}#sk-container-id-13 label.sk-toggleable__label-arrow:hover:before {color: black;}#sk-container-id-13 div.sk-estimator:hover label.sk-toggleable__label-arrow:before {color: black;}#sk-container-id-13 div.sk-toggleable__content {max-height: 0;max-width: 0;overflow: hidden;text-align: left;background-color: #f0f8ff;}#sk-container-id-13 div.sk-toggleable__content pre {margin: 0.2em;color: black;border-radius: 0.25em;background-color: #f0f8ff;}#sk-container-id-13 input.sk-toggleable__control:checked~div.sk-toggleable__content {max-height: 200px;max-width: 100%;overflow: auto;}#sk-container-id-13 input.sk-toggleable__control:checked~label.sk-toggleable__label-arrow:before {content: \"▾\";}#sk-container-id-13 div.sk-estimator input.sk-toggleable__control:checked~label.sk-toggleable__label {background-color: #d4ebff;}#sk-container-id-13 div.sk-label input.sk-toggleable__control:checked~label.sk-toggleable__label {background-color: #d4ebff;}#sk-container-id-13 input.sk-hidden--visually {border: 0;clip: rect(1px 1px 1px 1px);clip: rect(1px, 1px, 1px, 1px);height: 1px;margin: -1px;overflow: hidden;padding: 0;position: absolute;width: 1px;}#sk-container-id-13 div.sk-estimator {font-family: monospace;background-color: #f0f8ff;border: 1px dotted black;border-radius: 0.25em;box-sizing: border-box;margin-bottom: 0.5em;}#sk-container-id-13 div.sk-estimator:hover {background-color: #d4ebff;}#sk-container-id-13 div.sk-parallel-item::after {content: \"\";width: 100%;border-bottom: 1px solid gray;flex-grow: 1;}#sk-container-id-13 div.sk-label:hover label.sk-toggleable__label {background-color: #d4ebff;}#sk-container-id-13 div.sk-serial::before {content: \"\";position: absolute;border-left: 1px solid gray;box-sizing: border-box;top: 0;bottom: 0;left: 50%;z-index: 0;}#sk-container-id-13 div.sk-serial {display: flex;flex-direction: column;align-items: center;background-color: white;padding-right: 0.2em;padding-left: 0.2em;position: relative;}#sk-container-id-13 div.sk-item {position: relative;z-index: 1;}#sk-container-id-13 div.sk-parallel {display: flex;align-items: stretch;justify-content: center;background-color: white;position: relative;}#sk-container-id-13 div.sk-item::before, #sk-container-id-13 div.sk-parallel-item::before {content: \"\";position: absolute;border-left: 1px solid gray;box-sizing: border-box;top: 0;bottom: 0;left: 50%;z-index: -1;}#sk-container-id-13 div.sk-parallel-item {display: flex;flex-direction: column;z-index: 1;position: relative;background-color: white;}#sk-container-id-13 div.sk-parallel-item:first-child::after {align-self: flex-end;width: 50%;}#sk-container-id-13 div.sk-parallel-item:last-child::after {align-self: flex-start;width: 50%;}#sk-container-id-13 div.sk-parallel-item:only-child::after {width: 0;}#sk-container-id-13 div.sk-dashed-wrapped {border: 1px dashed gray;margin: 0 0.4em 0.5em 0.4em;box-sizing: border-box;padding-bottom: 0.4em;background-color: white;}#sk-container-id-13 div.sk-label label {font-family: monospace;font-weight: bold;display: inline-block;line-height: 1.2em;}#sk-container-id-13 div.sk-label-container {text-align: center;}#sk-container-id-13 div.sk-container {/* jupyter's `normalize.less` sets `[hidden] { display: none; }` but bootstrap.min.css set `[hidden] { display: none !important; }` so we also need the `!important` here to be able to override the default hidden behavior on the sphinx rendered scikit-learn.org. See: https://github.com/scikit-learn/scikit-learn/issues/21755 */display: inline-block !important;position: relative;}#sk-container-id-13 div.sk-text-repr-fallback {display: none;}</style><div id=\"sk-container-id-13\" class=\"sk-top-container\"><div class=\"sk-text-repr-fallback\"><pre>PCA()</pre><b>In a Jupyter environment, please rerun this cell to show the HTML representation or trust the notebook. <br />On GitHub, the HTML representation is unable to render, please try loading this page with nbviewer.org.</b></div><div class=\"sk-container\" hidden><div class=\"sk-item\"><div class=\"sk-estimator sk-toggleable\"><input class=\"sk-toggleable__control sk-hidden--visually\" id=\"sk-estimator-id-31\" type=\"checkbox\" checked><label for=\"sk-estimator-id-31\" class=\"sk-toggleable__label sk-toggleable__label-arrow\">PCA</label><div class=\"sk-toggleable__content\"><pre>PCA()</pre></div></div></div></div></div>"
      ],
      "text/plain": [
       "PCA()"
      ]
     },
     "execution_count": 92,
     "metadata": {},
     "output_type": "execute_result"
    }
   ],
   "source": [
    "# Feature scaling with StandardScaler and PCA\n",
    "scaler_fx = StandardScaler()\n",
    "X_train_scaled = scaler_fx.fit_transform(X_train)\n",
    "pca = PCA()\n",
    "pca.fit(X_train_scaled)"
   ]
  },
  {
   "cell_type": "code",
   "execution_count": 26,
   "metadata": {},
   "outputs": [
    {
     "data": {
      "text/plain": [
       "Text(0, 0.5, 'Nilai Kumulatif Explained Variance Ratio')"
      ]
     },
     "execution_count": 26,
     "metadata": {},
     "output_type": "execute_result"
    },
    {
     "data": {
      "image/png": "[encoded data removed]",
      "text/plain": [
       "<Figure size 1500x500 with 1 Axes>"
      ]
     },
     "metadata": {},
     "output_type": "display_data"
    }
   ],
   "source": [
    "# Membuat plot untuk Cummulative of Explained Variance Ratio\n",
    "plt.figure(figsize=(15, 5))\n",
    "plt.subplot(1, 2, 1)\n",
    "plt.grid()\n",
    "plt.plot(range(1, 23), np.cumsum(pca.explained_variance_ratio_ * 100))\n",
    "plt.xlabel('Jumlah Features')\n",
    "plt.ylabel('Nilai Kumulatif Explained Variance Ratio')"
   ]
  },
  {
   "cell_type": "code",
   "execution_count": 74,
   "metadata": {},
   "outputs": [
    {
     "name": "stdout",
     "output_type": "stream",
     "text": [
      "Jumlah features yang akan digunakan jika mempertimbangkan cumulative explained variance ratio:  18\n"
     ]
    }
   ],
   "source": [
    "# Check jumlah feature yang akan digunakan bila ingin menyimpan 90 % dari total informasi\n",
    "cum_sum_3 = np.cumsum(pca.explained_variance_ratio_)\n",
    "jumlah_features = np.argmax(cum_sum_3 >= 0.99) + 1\n",
    "print(\"Jumlah features yang akan digunakan jika mempertimbangkan cumulative explained variance ratio: \",jumlah_features)"
   ]
  },
  {
   "cell_type": "code",
   "execution_count": 91,
   "metadata": {},
   "outputs": [],
   "source": [
    "# Lakukan PCA model training dengan jumlah komponen yang baru yaitu 18\n",
    "scaler_fx = StandardScaler()\n",
    "pca_ori = PCA(n_components=18)\n",
    "pca_ori.fit(X_train_scaled)\n",
    "\n",
    "# transform\n",
    "X_train_ori_pca = pca_ori.transform(X_train_scaled)"
   ]
  },
  {
   "cell_type": "code",
   "execution_count": 89,
   "metadata": {},
   "outputs": [],
   "source": [
    "# transform the test set\n",
    "X_test_ori_scaled = scaler_oversample.transform(X_test)\n",
    "X_test_ori_pca = pca_oversampled.transform(X_test_ori_scaled)"
   ]
  },
  {
   "cell_type": "code",
   "execution_count": 90,
   "metadata": {},
   "outputs": [
    {
     "data": {
      "text/plain": [
       "(593, 14)"
      ]
     },
     "execution_count": 90,
     "metadata": {},
     "output_type": "execute_result"
    }
   ],
   "source": [
    "X_test_ori_pca.shape"
   ]
  },
  {
   "cell_type": "markdown",
   "metadata": {},
   "source": [
    "# **7. MODEL DEFINITION**"
   ]
  },
  {
   "cell_type": "markdown",
   "metadata": {},
   "source": [
    "Based on paper by Nicolas Suhadolnik, et al. in 2023, the most common credit risk classification methods are neural networks, support vector machines, fuzzy logic, logistic regression, decision trees, and ensemble methods. \n",
    "\n",
    "Meanwhile, Katie Shewell from Medium mentioned that logistic regression is widely used in the credit risk industry due to its simplicity.\n",
    "\n",
    "Apart from that, based on the previous modeling file, logistic regression showed the best performance.\n",
    "\n",
    "So, logistic regression with the same hyperparameter tuning setup will be used for this study. The performance of the model will be compared based on data balancing methods (undersampling, oversampling, and original).\n",
    "\n"
   ]
  },
  {
   "cell_type": "markdown",
   "metadata": {},
   "source": [
    "# **8. MODEL TRAINING**"
   ]
  },
  {
   "cell_type": "markdown",
   "metadata": {},
   "source": [
    "### <u>Logistic Regression Model</u>"
   ]
  },
  {
   "cell_type": "markdown",
   "metadata": {},
   "source": [
    "#### Without Pipeline"
   ]
  },
  {
   "cell_type": "code",
   "execution_count": 30,
   "metadata": {},
   "outputs": [
    {
     "ename": "ValueError",
     "evalue": "Found input variables with inconsistent numbers of samples: [2372, 1040]",
     "output_type": "error",
     "traceback": [
      "\u001b[0;31m---------------------------------------------------------------------------\u001b[0m",
      "\u001b[0;31mValueError\u001b[0m                                Traceback (most recent call last)",
      "Cell \u001b[0;32mIn[30], line 3\u001b[0m\n\u001b[1;32m      1\u001b[0m \u001b[38;5;66;03m# memanggil ML algorithm\u001b[39;00m\n\u001b[1;32m      2\u001b[0m model_logreg \u001b[38;5;241m=\u001b[39m LogisticRegression(penalty\u001b[38;5;241m=\u001b[39m\u001b[38;5;124m'\u001b[39m\u001b[38;5;124ml2\u001b[39m\u001b[38;5;124m'\u001b[39m, C\u001b[38;5;241m=\u001b[39m\u001b[38;5;241m1.0\u001b[39m, random_state\u001b[38;5;241m=\u001b[39m\u001b[38;5;241m0\u001b[39m)\n\u001b[0;32m----> 3\u001b[0m model_logreg\u001b[38;5;241m.\u001b[39mfit(X_train_scaled, y_train_resampled)\n\u001b[1;32m      5\u001b[0m \u001b[38;5;28mprint\u001b[39m(\u001b[38;5;124m'\u001b[39m\u001b[38;5;124mCoefficient : \u001b[39m\u001b[38;5;124m'\u001b[39m, model_logreg\u001b[38;5;241m.\u001b[39mcoef_)\n\u001b[1;32m      6\u001b[0m \u001b[38;5;28mprint\u001b[39m(\u001b[38;5;124m'\u001b[39m\u001b[38;5;124mIntercept   : \u001b[39m\u001b[38;5;124m'\u001b[39m, model_logreg\u001b[38;5;241m.\u001b[39mintercept_)\n",
      "File \u001b[0;32m~/anaconda3/lib/python3.11/site-packages/sklearn/linear_model/_logistic.py:1196\u001b[0m, in \u001b[0;36mLogisticRegression.fit\u001b[0;34m(self, X, y, sample_weight)\u001b[0m\n\u001b[1;32m   1193\u001b[0m \u001b[38;5;28;01melse\u001b[39;00m:\n\u001b[1;32m   1194\u001b[0m     _dtype \u001b[38;5;241m=\u001b[39m [np\u001b[38;5;241m.\u001b[39mfloat64, np\u001b[38;5;241m.\u001b[39mfloat32]\n\u001b[0;32m-> 1196\u001b[0m X, y \u001b[38;5;241m=\u001b[39m \u001b[38;5;28mself\u001b[39m\u001b[38;5;241m.\u001b[39m_validate_data(\n\u001b[1;32m   1197\u001b[0m     X,\n\u001b[1;32m   1198\u001b[0m     y,\n\u001b[1;32m   1199\u001b[0m     accept_sparse\u001b[38;5;241m=\u001b[39m\u001b[38;5;124m\"\u001b[39m\u001b[38;5;124mcsr\u001b[39m\u001b[38;5;124m\"\u001b[39m,\n\u001b[1;32m   1200\u001b[0m     dtype\u001b[38;5;241m=\u001b[39m_dtype,\n\u001b[1;32m   1201\u001b[0m     order\u001b[38;5;241m=\u001b[39m\u001b[38;5;124m\"\u001b[39m\u001b[38;5;124mC\u001b[39m\u001b[38;5;124m\"\u001b[39m,\n\u001b[1;32m   1202\u001b[0m     accept_large_sparse\u001b[38;5;241m=\u001b[39msolver \u001b[38;5;129;01mnot\u001b[39;00m \u001b[38;5;129;01min\u001b[39;00m [\u001b[38;5;124m\"\u001b[39m\u001b[38;5;124mliblinear\u001b[39m\u001b[38;5;124m\"\u001b[39m, \u001b[38;5;124m\"\u001b[39m\u001b[38;5;124msag\u001b[39m\u001b[38;5;124m\"\u001b[39m, \u001b[38;5;124m\"\u001b[39m\u001b[38;5;124msaga\u001b[39m\u001b[38;5;124m\"\u001b[39m],\n\u001b[1;32m   1203\u001b[0m )\n\u001b[1;32m   1204\u001b[0m check_classification_targets(y)\n\u001b[1;32m   1205\u001b[0m \u001b[38;5;28mself\u001b[39m\u001b[38;5;241m.\u001b[39mclasses_ \u001b[38;5;241m=\u001b[39m np\u001b[38;5;241m.\u001b[39munique(y)\n",
      "File \u001b[0;32m~/anaconda3/lib/python3.11/site-packages/sklearn/base.py:584\u001b[0m, in \u001b[0;36mBaseEstimator._validate_data\u001b[0;34m(self, X, y, reset, validate_separately, **check_params)\u001b[0m\n\u001b[1;32m    582\u001b[0m         y \u001b[38;5;241m=\u001b[39m check_array(y, input_name\u001b[38;5;241m=\u001b[39m\u001b[38;5;124m\"\u001b[39m\u001b[38;5;124my\u001b[39m\u001b[38;5;124m\"\u001b[39m, \u001b[38;5;241m*\u001b[39m\u001b[38;5;241m*\u001b[39mcheck_y_params)\n\u001b[1;32m    583\u001b[0m     \u001b[38;5;28;01melse\u001b[39;00m:\n\u001b[0;32m--> 584\u001b[0m         X, y \u001b[38;5;241m=\u001b[39m check_X_y(X, y, \u001b[38;5;241m*\u001b[39m\u001b[38;5;241m*\u001b[39mcheck_params)\n\u001b[1;32m    585\u001b[0m     out \u001b[38;5;241m=\u001b[39m X, y\n\u001b[1;32m    587\u001b[0m \u001b[38;5;28;01mif\u001b[39;00m \u001b[38;5;129;01mnot\u001b[39;00m no_val_X \u001b[38;5;129;01mand\u001b[39;00m check_params\u001b[38;5;241m.\u001b[39mget(\u001b[38;5;124m\"\u001b[39m\u001b[38;5;124mensure_2d\u001b[39m\u001b[38;5;124m\"\u001b[39m, \u001b[38;5;28;01mTrue\u001b[39;00m):\n",
      "File \u001b[0;32m~/anaconda3/lib/python3.11/site-packages/sklearn/utils/validation.py:1124\u001b[0m, in \u001b[0;36mcheck_X_y\u001b[0;34m(X, y, accept_sparse, accept_large_sparse, dtype, order, copy, force_all_finite, ensure_2d, allow_nd, multi_output, ensure_min_samples, ensure_min_features, y_numeric, estimator)\u001b[0m\n\u001b[1;32m   1106\u001b[0m X \u001b[38;5;241m=\u001b[39m check_array(\n\u001b[1;32m   1107\u001b[0m     X,\n\u001b[1;32m   1108\u001b[0m     accept_sparse\u001b[38;5;241m=\u001b[39maccept_sparse,\n\u001b[0;32m   (...)\u001b[0m\n\u001b[1;32m   1119\u001b[0m     input_name\u001b[38;5;241m=\u001b[39m\u001b[38;5;124m\"\u001b[39m\u001b[38;5;124mX\u001b[39m\u001b[38;5;124m\"\u001b[39m,\n\u001b[1;32m   1120\u001b[0m )\n\u001b[1;32m   1122\u001b[0m y \u001b[38;5;241m=\u001b[39m _check_y(y, multi_output\u001b[38;5;241m=\u001b[39mmulti_output, y_numeric\u001b[38;5;241m=\u001b[39my_numeric, estimator\u001b[38;5;241m=\u001b[39mestimator)\n\u001b[0;32m-> 1124\u001b[0m check_consistent_length(X, y)\n\u001b[1;32m   1126\u001b[0m \u001b[38;5;28;01mreturn\u001b[39;00m X, y\n",
      "File \u001b[0;32m~/anaconda3/lib/python3.11/site-packages/sklearn/utils/validation.py:397\u001b[0m, in \u001b[0;36mcheck_consistent_length\u001b[0;34m(*arrays)\u001b[0m\n\u001b[1;32m    395\u001b[0m uniques \u001b[38;5;241m=\u001b[39m np\u001b[38;5;241m.\u001b[39munique(lengths)\n\u001b[1;32m    396\u001b[0m \u001b[38;5;28;01mif\u001b[39;00m \u001b[38;5;28mlen\u001b[39m(uniques) \u001b[38;5;241m>\u001b[39m \u001b[38;5;241m1\u001b[39m:\n\u001b[0;32m--> 397\u001b[0m     \u001b[38;5;28;01mraise\u001b[39;00m \u001b[38;5;167;01mValueError\u001b[39;00m(\n\u001b[1;32m    398\u001b[0m         \u001b[38;5;124m\"\u001b[39m\u001b[38;5;124mFound input variables with inconsistent numbers of samples: \u001b[39m\u001b[38;5;132;01m%r\u001b[39;00m\u001b[38;5;124m\"\u001b[39m\n\u001b[1;32m    399\u001b[0m         \u001b[38;5;241m%\u001b[39m [\u001b[38;5;28mint\u001b[39m(l) \u001b[38;5;28;01mfor\u001b[39;00m l \u001b[38;5;129;01min\u001b[39;00m lengths]\n\u001b[1;32m    400\u001b[0m     )\n",
      "\u001b[0;31mValueError\u001b[0m: Found input variables with inconsistent numbers of samples: [2372, 1040]"
     ]
    }
   ],
   "source": [
    "# # memanggil ML algorithm\n",
    "# model_logreg = LogisticRegression(penalty='l2', C=1.0, random_state=0)\n",
    "# model_logreg.fit(X_train_scaled, y_train_resampled)\n",
    "\n",
    "# print('Coefficient : ', model_logreg.coef_)\n",
    "# print('Intercept   : ', model_logreg.intercept_)"
   ]
  },
  {
   "cell_type": "markdown",
   "metadata": {},
   "source": [
    "#### With Pipeline"
   ]
  },
  {
   "cell_type": "code",
   "execution_count": 64,
   "metadata": {},
   "outputs": [],
   "source": [
    "# define pipeline\n",
    "pipe_log = Pipeline([('logreg', LogisticRegression(random_state=42))])"
   ]
  },
  {
   "cell_type": "markdown",
   "metadata": {},
   "source": [
    "### a. Undersampled Trained Data"
   ]
  },
  {
   "cell_type": "code",
   "execution_count": 65,
   "metadata": {},
   "outputs": [
    {
     "data": {
      "text/html": [
       "<style>#sk-container-id-7 {color: black;background-color: white;}#sk-container-id-7 pre{padding: 0;}#sk-container-id-7 div.sk-toggleable {background-color: white;}#sk-container-id-7 label.sk-toggleable__label {cursor: pointer;display: block;width: 100%;margin-bottom: 0;padding: 0.3em;box-sizing: border-box;text-align: center;}#sk-container-id-7 label.sk-toggleable__label-arrow:before {content: \"▸\";float: left;margin-right: 0.25em;color: #696969;}#sk-container-id-7 label.sk-toggleable__label-arrow:hover:before {color: black;}#sk-container-id-7 div.sk-estimator:hover label.sk-toggleable__label-arrow:before {color: black;}#sk-container-id-7 div.sk-toggleable__content {max-height: 0;max-width: 0;overflow: hidden;text-align: left;background-color: #f0f8ff;}#sk-container-id-7 div.sk-toggleable__content pre {margin: 0.2em;color: black;border-radius: 0.25em;background-color: #f0f8ff;}#sk-container-id-7 input.sk-toggleable__control:checked~div.sk-toggleable__content {max-height: 200px;max-width: 100%;overflow: auto;}#sk-container-id-7 input.sk-toggleable__control:checked~label.sk-toggleable__label-arrow:before {content: \"▾\";}#sk-container-id-7 div.sk-estimator input.sk-toggleable__control:checked~label.sk-toggleable__label {background-color: #d4ebff;}#sk-container-id-7 div.sk-label input.sk-toggleable__control:checked~label.sk-toggleable__label {background-color: #d4ebff;}#sk-container-id-7 input.sk-hidden--visually {border: 0;clip: rect(1px 1px 1px 1px);clip: rect(1px, 1px, 1px, 1px);height: 1px;margin: -1px;overflow: hidden;padding: 0;position: absolute;width: 1px;}#sk-container-id-7 div.sk-estimator {font-family: monospace;background-color: #f0f8ff;border: 1px dotted black;border-radius: 0.25em;box-sizing: border-box;margin-bottom: 0.5em;}#sk-container-id-7 div.sk-estimator:hover {background-color: #d4ebff;}#sk-container-id-7 div.sk-parallel-item::after {content: \"\";width: 100%;border-bottom: 1px solid gray;flex-grow: 1;}#sk-container-id-7 div.sk-label:hover label.sk-toggleable__label {background-color: #d4ebff;}#sk-container-id-7 div.sk-serial::before {content: \"\";position: absolute;border-left: 1px solid gray;box-sizing: border-box;top: 0;bottom: 0;left: 50%;z-index: 0;}#sk-container-id-7 div.sk-serial {display: flex;flex-direction: column;align-items: center;background-color: white;padding-right: 0.2em;padding-left: 0.2em;position: relative;}#sk-container-id-7 div.sk-item {position: relative;z-index: 1;}#sk-container-id-7 div.sk-parallel {display: flex;align-items: stretch;justify-content: center;background-color: white;position: relative;}#sk-container-id-7 div.sk-item::before, #sk-container-id-7 div.sk-parallel-item::before {content: \"\";position: absolute;border-left: 1px solid gray;box-sizing: border-box;top: 0;bottom: 0;left: 50%;z-index: -1;}#sk-container-id-7 div.sk-parallel-item {display: flex;flex-direction: column;z-index: 1;position: relative;background-color: white;}#sk-container-id-7 div.sk-parallel-item:first-child::after {align-self: flex-end;width: 50%;}#sk-container-id-7 div.sk-parallel-item:last-child::after {align-self: flex-start;width: 50%;}#sk-container-id-7 div.sk-parallel-item:only-child::after {width: 0;}#sk-container-id-7 div.sk-dashed-wrapped {border: 1px dashed gray;margin: 0 0.4em 0.5em 0.4em;box-sizing: border-box;padding-bottom: 0.4em;background-color: white;}#sk-container-id-7 div.sk-label label {font-family: monospace;font-weight: bold;display: inline-block;line-height: 1.2em;}#sk-container-id-7 div.sk-label-container {text-align: center;}#sk-container-id-7 div.sk-container {/* jupyter's `normalize.less` sets `[hidden] { display: none; }` but bootstrap.min.css set `[hidden] { display: none !important; }` so we also need the `!important` here to be able to override the default hidden behavior on the sphinx rendered scikit-learn.org. See: https://github.com/scikit-learn/scikit-learn/issues/21755 */display: inline-block !important;position: relative;}#sk-container-id-7 div.sk-text-repr-fallback {display: none;}</style><div id=\"sk-container-id-7\" class=\"sk-top-container\"><div class=\"sk-text-repr-fallback\"><pre>GridSearchCV(cv=5,\n",
       "             estimator=Pipeline(steps=[(&#x27;logreg&#x27;,\n",
       "                                        LogisticRegression(random_state=42))]),\n",
       "             param_grid={&#x27;logreg__C&#x27;: [0.1, 0.5, 1, 10],\n",
       "                         &#x27;logreg__class_weight&#x27;: [{0: 1, 1: 5}, {0: 1.5, 1: 3},\n",
       "                                                  {0: 1.5, 1: 2.5},\n",
       "                                                  {0: 1.75, 1: 2.5}],\n",
       "                         &#x27;logreg__max_iter&#x27;: [100, 150, 200],\n",
       "                         &#x27;logreg__multi_class&#x27;: [&#x27;ovr&#x27;]})</pre><b>In a Jupyter environment, please rerun this cell to show the HTML representation or trust the notebook. <br />On GitHub, the HTML representation is unable to render, please try loading this page with nbviewer.org.</b></div><div class=\"sk-container\" hidden><div class=\"sk-item sk-dashed-wrapped\"><div class=\"sk-label-container\"><div class=\"sk-label sk-toggleable\"><input class=\"sk-toggleable__control sk-hidden--visually\" id=\"sk-estimator-id-13\" type=\"checkbox\" ><label for=\"sk-estimator-id-13\" class=\"sk-toggleable__label sk-toggleable__label-arrow\">GridSearchCV</label><div class=\"sk-toggleable__content\"><pre>GridSearchCV(cv=5,\n",
       "             estimator=Pipeline(steps=[(&#x27;logreg&#x27;,\n",
       "                                        LogisticRegression(random_state=42))]),\n",
       "             param_grid={&#x27;logreg__C&#x27;: [0.1, 0.5, 1, 10],\n",
       "                         &#x27;logreg__class_weight&#x27;: [{0: 1, 1: 5}, {0: 1.5, 1: 3},\n",
       "                                                  {0: 1.5, 1: 2.5},\n",
       "                                                  {0: 1.75, 1: 2.5}],\n",
       "                         &#x27;logreg__max_iter&#x27;: [100, 150, 200],\n",
       "                         &#x27;logreg__multi_class&#x27;: [&#x27;ovr&#x27;]})</pre></div></div></div><div class=\"sk-parallel\"><div class=\"sk-parallel-item\"><div class=\"sk-item\"><div class=\"sk-label-container\"><div class=\"sk-label sk-toggleable\"><input class=\"sk-toggleable__control sk-hidden--visually\" id=\"sk-estimator-id-14\" type=\"checkbox\" ><label for=\"sk-estimator-id-14\" class=\"sk-toggleable__label sk-toggleable__label-arrow\">estimator: Pipeline</label><div class=\"sk-toggleable__content\"><pre>Pipeline(steps=[(&#x27;logreg&#x27;, LogisticRegression(random_state=42))])</pre></div></div></div><div class=\"sk-serial\"><div class=\"sk-item\"><div class=\"sk-serial\"><div class=\"sk-item\"><div class=\"sk-estimator sk-toggleable\"><input class=\"sk-toggleable__control sk-hidden--visually\" id=\"sk-estimator-id-15\" type=\"checkbox\" ><label for=\"sk-estimator-id-15\" class=\"sk-toggleable__label sk-toggleable__label-arrow\">LogisticRegression</label><div class=\"sk-toggleable__content\"><pre>LogisticRegression(random_state=42)</pre></div></div></div></div></div></div></div></div></div></div></div></div>"
      ],
      "text/plain": [
       "GridSearchCV(cv=5,\n",
       "             estimator=Pipeline(steps=[('logreg',\n",
       "                                        LogisticRegression(random_state=42))]),\n",
       "             param_grid={'logreg__C': [0.1, 0.5, 1, 10],\n",
       "                         'logreg__class_weight': [{0: 1, 1: 5}, {0: 1.5, 1: 3},\n",
       "                                                  {0: 1.5, 1: 2.5},\n",
       "                                                  {0: 1.75, 1: 2.5}],\n",
       "                         'logreg__max_iter': [100, 150, 200],\n",
       "                         'logreg__multi_class': ['ovr']})"
      ]
     },
     "execution_count": 65,
     "metadata": {},
     "output_type": "execute_result"
    }
   ],
   "source": [
    "# Hyperparameter tuning\n",
    "grid_search_params = {\n",
    "    'logreg__C': [0.1,0.5, 1,10],\n",
    "    'logreg__multi_class':['ovr'],    # Hyperparameter untuk pilihan output binary\n",
    "    'logreg__class_weight':[{0:1,1:5},{0:1.5,1:3},{0:1.5,1:2.5},{0:1.75,1:2.5}],\n",
    "    'logreg__max_iter' : [100,150,200]\n",
    "}\n",
    "\n",
    "clf_undersampled = GridSearchCV(pipe_log, param_grid=grid_search_params, cv=5)\n",
    "clf_undersampled.fit(X_train_undersampled_pca, y_train_resampled)"
   ]
  },
  {
   "cell_type": "markdown",
   "metadata": {},
   "source": [
    "### b. Oversampled Trained Data"
   ]
  },
  {
   "cell_type": "code",
   "execution_count": 66,
   "metadata": {},
   "outputs": [
    {
     "data": {
      "text/html": [
       "<style>#sk-container-id-8 {color: black;background-color: white;}#sk-container-id-8 pre{padding: 0;}#sk-container-id-8 div.sk-toggleable {background-color: white;}#sk-container-id-8 label.sk-toggleable__label {cursor: pointer;display: block;width: 100%;margin-bottom: 0;padding: 0.3em;box-sizing: border-box;text-align: center;}#sk-container-id-8 label.sk-toggleable__label-arrow:before {content: \"▸\";float: left;margin-right: 0.25em;color: #696969;}#sk-container-id-8 label.sk-toggleable__label-arrow:hover:before {color: black;}#sk-container-id-8 div.sk-estimator:hover label.sk-toggleable__label-arrow:before {color: black;}#sk-container-id-8 div.sk-toggleable__content {max-height: 0;max-width: 0;overflow: hidden;text-align: left;background-color: #f0f8ff;}#sk-container-id-8 div.sk-toggleable__content pre {margin: 0.2em;color: black;border-radius: 0.25em;background-color: #f0f8ff;}#sk-container-id-8 input.sk-toggleable__control:checked~div.sk-toggleable__content {max-height: 200px;max-width: 100%;overflow: auto;}#sk-container-id-8 input.sk-toggleable__control:checked~label.sk-toggleable__label-arrow:before {content: \"▾\";}#sk-container-id-8 div.sk-estimator input.sk-toggleable__control:checked~label.sk-toggleable__label {background-color: #d4ebff;}#sk-container-id-8 div.sk-label input.sk-toggleable__control:checked~label.sk-toggleable__label {background-color: #d4ebff;}#sk-container-id-8 input.sk-hidden--visually {border: 0;clip: rect(1px 1px 1px 1px);clip: rect(1px, 1px, 1px, 1px);height: 1px;margin: -1px;overflow: hidden;padding: 0;position: absolute;width: 1px;}#sk-container-id-8 div.sk-estimator {font-family: monospace;background-color: #f0f8ff;border: 1px dotted black;border-radius: 0.25em;box-sizing: border-box;margin-bottom: 0.5em;}#sk-container-id-8 div.sk-estimator:hover {background-color: #d4ebff;}#sk-container-id-8 div.sk-parallel-item::after {content: \"\";width: 100%;border-bottom: 1px solid gray;flex-grow: 1;}#sk-container-id-8 div.sk-label:hover label.sk-toggleable__label {background-color: #d4ebff;}#sk-container-id-8 div.sk-serial::before {content: \"\";position: absolute;border-left: 1px solid gray;box-sizing: border-box;top: 0;bottom: 0;left: 50%;z-index: 0;}#sk-container-id-8 div.sk-serial {display: flex;flex-direction: column;align-items: center;background-color: white;padding-right: 0.2em;padding-left: 0.2em;position: relative;}#sk-container-id-8 div.sk-item {position: relative;z-index: 1;}#sk-container-id-8 div.sk-parallel {display: flex;align-items: stretch;justify-content: center;background-color: white;position: relative;}#sk-container-id-8 div.sk-item::before, #sk-container-id-8 div.sk-parallel-item::before {content: \"\";position: absolute;border-left: 1px solid gray;box-sizing: border-box;top: 0;bottom: 0;left: 50%;z-index: -1;}#sk-container-id-8 div.sk-parallel-item {display: flex;flex-direction: column;z-index: 1;position: relative;background-color: white;}#sk-container-id-8 div.sk-parallel-item:first-child::after {align-self: flex-end;width: 50%;}#sk-container-id-8 div.sk-parallel-item:last-child::after {align-self: flex-start;width: 50%;}#sk-container-id-8 div.sk-parallel-item:only-child::after {width: 0;}#sk-container-id-8 div.sk-dashed-wrapped {border: 1px dashed gray;margin: 0 0.4em 0.5em 0.4em;box-sizing: border-box;padding-bottom: 0.4em;background-color: white;}#sk-container-id-8 div.sk-label label {font-family: monospace;font-weight: bold;display: inline-block;line-height: 1.2em;}#sk-container-id-8 div.sk-label-container {text-align: center;}#sk-container-id-8 div.sk-container {/* jupyter's `normalize.less` sets `[hidden] { display: none; }` but bootstrap.min.css set `[hidden] { display: none !important; }` so we also need the `!important` here to be able to override the default hidden behavior on the sphinx rendered scikit-learn.org. See: https://github.com/scikit-learn/scikit-learn/issues/21755 */display: inline-block !important;position: relative;}#sk-container-id-8 div.sk-text-repr-fallback {display: none;}</style><div id=\"sk-container-id-8\" class=\"sk-top-container\"><div class=\"sk-text-repr-fallback\"><pre>GridSearchCV(cv=5,\n",
       "             estimator=Pipeline(steps=[(&#x27;logreg&#x27;,\n",
       "                                        LogisticRegression(random_state=42))]),\n",
       "             param_grid={&#x27;logreg__C&#x27;: [0.1, 0.5, 1, 10],\n",
       "                         &#x27;logreg__class_weight&#x27;: [{0: 1, 1: 5}, {0: 1.5, 1: 3},\n",
       "                                                  {0: 1.5, 1: 2.5},\n",
       "                                                  {0: 1.75, 1: 2.5}],\n",
       "                         &#x27;logreg__max_iter&#x27;: [100, 150, 200],\n",
       "                         &#x27;logreg__multi_class&#x27;: [&#x27;ovr&#x27;]})</pre><b>In a Jupyter environment, please rerun this cell to show the HTML representation or trust the notebook. <br />On GitHub, the HTML representation is unable to render, please try loading this page with nbviewer.org.</b></div><div class=\"sk-container\" hidden><div class=\"sk-item sk-dashed-wrapped\"><div class=\"sk-label-container\"><div class=\"sk-label sk-toggleable\"><input class=\"sk-toggleable__control sk-hidden--visually\" id=\"sk-estimator-id-16\" type=\"checkbox\" ><label for=\"sk-estimator-id-16\" class=\"sk-toggleable__label sk-toggleable__label-arrow\">GridSearchCV</label><div class=\"sk-toggleable__content\"><pre>GridSearchCV(cv=5,\n",
       "             estimator=Pipeline(steps=[(&#x27;logreg&#x27;,\n",
       "                                        LogisticRegression(random_state=42))]),\n",
       "             param_grid={&#x27;logreg__C&#x27;: [0.1, 0.5, 1, 10],\n",
       "                         &#x27;logreg__class_weight&#x27;: [{0: 1, 1: 5}, {0: 1.5, 1: 3},\n",
       "                                                  {0: 1.5, 1: 2.5},\n",
       "                                                  {0: 1.75, 1: 2.5}],\n",
       "                         &#x27;logreg__max_iter&#x27;: [100, 150, 200],\n",
       "                         &#x27;logreg__multi_class&#x27;: [&#x27;ovr&#x27;]})</pre></div></div></div><div class=\"sk-parallel\"><div class=\"sk-parallel-item\"><div class=\"sk-item\"><div class=\"sk-label-container\"><div class=\"sk-label sk-toggleable\"><input class=\"sk-toggleable__control sk-hidden--visually\" id=\"sk-estimator-id-17\" type=\"checkbox\" ><label for=\"sk-estimator-id-17\" class=\"sk-toggleable__label sk-toggleable__label-arrow\">estimator: Pipeline</label><div class=\"sk-toggleable__content\"><pre>Pipeline(steps=[(&#x27;logreg&#x27;, LogisticRegression(random_state=42))])</pre></div></div></div><div class=\"sk-serial\"><div class=\"sk-item\"><div class=\"sk-serial\"><div class=\"sk-item\"><div class=\"sk-estimator sk-toggleable\"><input class=\"sk-toggleable__control sk-hidden--visually\" id=\"sk-estimator-id-18\" type=\"checkbox\" ><label for=\"sk-estimator-id-18\" class=\"sk-toggleable__label sk-toggleable__label-arrow\">LogisticRegression</label><div class=\"sk-toggleable__content\"><pre>LogisticRegression(random_state=42)</pre></div></div></div></div></div></div></div></div></div></div></div></div>"
      ],
      "text/plain": [
       "GridSearchCV(cv=5,\n",
       "             estimator=Pipeline(steps=[('logreg',\n",
       "                                        LogisticRegression(random_state=42))]),\n",
       "             param_grid={'logreg__C': [0.1, 0.5, 1, 10],\n",
       "                         'logreg__class_weight': [{0: 1, 1: 5}, {0: 1.5, 1: 3},\n",
       "                                                  {0: 1.5, 1: 2.5},\n",
       "                                                  {0: 1.75, 1: 2.5}],\n",
       "                         'logreg__max_iter': [100, 150, 200],\n",
       "                         'logreg__multi_class': ['ovr']})"
      ]
     },
     "execution_count": 66,
     "metadata": {},
     "output_type": "execute_result"
    }
   ],
   "source": [
    "# Hyperparameter tuning\n",
    "grid_search_params_2 = {\n",
    "    'logreg__C': [0.1,0.5, 1,10],\n",
    "    'logreg__multi_class':['ovr'],    # Hyperparameter untuk pilihan output binary\n",
    "    'logreg__class_weight':[{0:1,1:5},{0:1.5,1:3},{0:1.5,1:2.5},{0:1.75,1:2.5}],\n",
    "    'logreg__max_iter' : [100,150,200]\n",
    "}\n",
    "\n",
    "clf_oversampled = GridSearchCV(pipe_log, param_grid=grid_search_params_2, cv=5)\n",
    "clf_oversampled.fit(X_train_oversampled_pca, y_train_resampled_2)"
   ]
  },
  {
   "cell_type": "markdown",
   "metadata": {},
   "source": [
    "### c. Original Trained Data"
   ]
  },
  {
   "cell_type": "code",
   "execution_count": 86,
   "metadata": {},
   "outputs": [
    {
     "data": {
      "text/html": [
       "<style>#sk-container-id-12 {color: black;background-color: white;}#sk-container-id-12 pre{padding: 0;}#sk-container-id-12 div.sk-toggleable {background-color: white;}#sk-container-id-12 label.sk-toggleable__label {cursor: pointer;display: block;width: 100%;margin-bottom: 0;padding: 0.3em;box-sizing: border-box;text-align: center;}#sk-container-id-12 label.sk-toggleable__label-arrow:before {content: \"▸\";float: left;margin-right: 0.25em;color: #696969;}#sk-container-id-12 label.sk-toggleable__label-arrow:hover:before {color: black;}#sk-container-id-12 div.sk-estimator:hover label.sk-toggleable__label-arrow:before {color: black;}#sk-container-id-12 div.sk-toggleable__content {max-height: 0;max-width: 0;overflow: hidden;text-align: left;background-color: #f0f8ff;}#sk-container-id-12 div.sk-toggleable__content pre {margin: 0.2em;color: black;border-radius: 0.25em;background-color: #f0f8ff;}#sk-container-id-12 input.sk-toggleable__control:checked~div.sk-toggleable__content {max-height: 200px;max-width: 100%;overflow: auto;}#sk-container-id-12 input.sk-toggleable__control:checked~label.sk-toggleable__label-arrow:before {content: \"▾\";}#sk-container-id-12 div.sk-estimator input.sk-toggleable__control:checked~label.sk-toggleable__label {background-color: #d4ebff;}#sk-container-id-12 div.sk-label input.sk-toggleable__control:checked~label.sk-toggleable__label {background-color: #d4ebff;}#sk-container-id-12 input.sk-hidden--visually {border: 0;clip: rect(1px 1px 1px 1px);clip: rect(1px, 1px, 1px, 1px);height: 1px;margin: -1px;overflow: hidden;padding: 0;position: absolute;width: 1px;}#sk-container-id-12 div.sk-estimator {font-family: monospace;background-color: #f0f8ff;border: 1px dotted black;border-radius: 0.25em;box-sizing: border-box;margin-bottom: 0.5em;}#sk-container-id-12 div.sk-estimator:hover {background-color: #d4ebff;}#sk-container-id-12 div.sk-parallel-item::after {content: \"\";width: 100%;border-bottom: 1px solid gray;flex-grow: 1;}#sk-container-id-12 div.sk-label:hover label.sk-toggleable__label {background-color: #d4ebff;}#sk-container-id-12 div.sk-serial::before {content: \"\";position: absolute;border-left: 1px solid gray;box-sizing: border-box;top: 0;bottom: 0;left: 50%;z-index: 0;}#sk-container-id-12 div.sk-serial {display: flex;flex-direction: column;align-items: center;background-color: white;padding-right: 0.2em;padding-left: 0.2em;position: relative;}#sk-container-id-12 div.sk-item {position: relative;z-index: 1;}#sk-container-id-12 div.sk-parallel {display: flex;align-items: stretch;justify-content: center;background-color: white;position: relative;}#sk-container-id-12 div.sk-item::before, #sk-container-id-12 div.sk-parallel-item::before {content: \"\";position: absolute;border-left: 1px solid gray;box-sizing: border-box;top: 0;bottom: 0;left: 50%;z-index: -1;}#sk-container-id-12 div.sk-parallel-item {display: flex;flex-direction: column;z-index: 1;position: relative;background-color: white;}#sk-container-id-12 div.sk-parallel-item:first-child::after {align-self: flex-end;width: 50%;}#sk-container-id-12 div.sk-parallel-item:last-child::after {align-self: flex-start;width: 50%;}#sk-container-id-12 div.sk-parallel-item:only-child::after {width: 0;}#sk-container-id-12 div.sk-dashed-wrapped {border: 1px dashed gray;margin: 0 0.4em 0.5em 0.4em;box-sizing: border-box;padding-bottom: 0.4em;background-color: white;}#sk-container-id-12 div.sk-label label {font-family: monospace;font-weight: bold;display: inline-block;line-height: 1.2em;}#sk-container-id-12 div.sk-label-container {text-align: center;}#sk-container-id-12 div.sk-container {/* jupyter's `normalize.less` sets `[hidden] { display: none; }` but bootstrap.min.css set `[hidden] { display: none !important; }` so we also need the `!important` here to be able to override the default hidden behavior on the sphinx rendered scikit-learn.org. See: https://github.com/scikit-learn/scikit-learn/issues/21755 */display: inline-block !important;position: relative;}#sk-container-id-12 div.sk-text-repr-fallback {display: none;}</style><div id=\"sk-container-id-12\" class=\"sk-top-container\"><div class=\"sk-text-repr-fallback\"><pre>GridSearchCV(cv=5,\n",
       "             estimator=Pipeline(steps=[(&#x27;logreg&#x27;,\n",
       "                                        LogisticRegression(random_state=42))]),\n",
       "             param_grid={&#x27;logreg__C&#x27;: [0.1, 0.5, 1, 10],\n",
       "                         &#x27;logreg__class_weight&#x27;: [{0: 1, 1: 5}, {0: 1.5, 1: 3},\n",
       "                                                  {0: 1.5, 1: 2.5},\n",
       "                                                  {0: 1.75, 1: 2.5}],\n",
       "                         &#x27;logreg__max_iter&#x27;: [100, 150, 200],\n",
       "                         &#x27;logreg__multi_class&#x27;: [&#x27;ovr&#x27;]})</pre><b>In a Jupyter environment, please rerun this cell to show the HTML representation or trust the notebook. <br />On GitHub, the HTML representation is unable to render, please try loading this page with nbviewer.org.</b></div><div class=\"sk-container\" hidden><div class=\"sk-item sk-dashed-wrapped\"><div class=\"sk-label-container\"><div class=\"sk-label sk-toggleable\"><input class=\"sk-toggleable__control sk-hidden--visually\" id=\"sk-estimator-id-28\" type=\"checkbox\" ><label for=\"sk-estimator-id-28\" class=\"sk-toggleable__label sk-toggleable__label-arrow\">GridSearchCV</label><div class=\"sk-toggleable__content\"><pre>GridSearchCV(cv=5,\n",
       "             estimator=Pipeline(steps=[(&#x27;logreg&#x27;,\n",
       "                                        LogisticRegression(random_state=42))]),\n",
       "             param_grid={&#x27;logreg__C&#x27;: [0.1, 0.5, 1, 10],\n",
       "                         &#x27;logreg__class_weight&#x27;: [{0: 1, 1: 5}, {0: 1.5, 1: 3},\n",
       "                                                  {0: 1.5, 1: 2.5},\n",
       "                                                  {0: 1.75, 1: 2.5}],\n",
       "                         &#x27;logreg__max_iter&#x27;: [100, 150, 200],\n",
       "                         &#x27;logreg__multi_class&#x27;: [&#x27;ovr&#x27;]})</pre></div></div></div><div class=\"sk-parallel\"><div class=\"sk-parallel-item\"><div class=\"sk-item\"><div class=\"sk-label-container\"><div class=\"sk-label sk-toggleable\"><input class=\"sk-toggleable__control sk-hidden--visually\" id=\"sk-estimator-id-29\" type=\"checkbox\" ><label for=\"sk-estimator-id-29\" class=\"sk-toggleable__label sk-toggleable__label-arrow\">estimator: Pipeline</label><div class=\"sk-toggleable__content\"><pre>Pipeline(steps=[(&#x27;logreg&#x27;, LogisticRegression(random_state=42))])</pre></div></div></div><div class=\"sk-serial\"><div class=\"sk-item\"><div class=\"sk-serial\"><div class=\"sk-item\"><div class=\"sk-estimator sk-toggleable\"><input class=\"sk-toggleable__control sk-hidden--visually\" id=\"sk-estimator-id-30\" type=\"checkbox\" ><label for=\"sk-estimator-id-30\" class=\"sk-toggleable__label sk-toggleable__label-arrow\">LogisticRegression</label><div class=\"sk-toggleable__content\"><pre>LogisticRegression(random_state=42)</pre></div></div></div></div></div></div></div></div></div></div></div></div>"
      ],
      "text/plain": [
       "GridSearchCV(cv=5,\n",
       "             estimator=Pipeline(steps=[('logreg',\n",
       "                                        LogisticRegression(random_state=42))]),\n",
       "             param_grid={'logreg__C': [0.1, 0.5, 1, 10],\n",
       "                         'logreg__class_weight': [{0: 1, 1: 5}, {0: 1.5, 1: 3},\n",
       "                                                  {0: 1.5, 1: 2.5},\n",
       "                                                  {0: 1.75, 1: 2.5}],\n",
       "                         'logreg__max_iter': [100, 150, 200],\n",
       "                         'logreg__multi_class': ['ovr']})"
      ]
     },
     "execution_count": 86,
     "metadata": {},
     "output_type": "execute_result"
    }
   ],
   "source": [
    "# Hyperparameter tuning\n",
    "grid_search_params_3 = {\n",
    "    'logreg__C': [0.1,0.5, 1,10],\n",
    "    'logreg__multi_class':['ovr'],    # Hyperparameter untuk pilihan output binary\n",
    "    'logreg__class_weight':[{0:1,1:5},{0:1.5,1:3},{0:1.5,1:2.5},{0:1.75,1:2.5}],\n",
    "    'logreg__max_iter' : [100,150,200]\n",
    "}\n",
    "\n",
    "clf_ori = GridSearchCV(pipe_log, param_grid=grid_search_params_3, cv=5)\n",
    "clf_ori.fit(X_train_ori_pca, y_train)"
   ]
  },
  {
   "cell_type": "markdown",
   "metadata": {},
   "source": [
    "### <u>Support Vector Machine</u>"
   ]
  },
  {
   "cell_type": "markdown",
   "metadata": {},
   "source": [
    "#### Without Pipeline"
   ]
  },
  {
   "cell_type": "code",
   "execution_count": 43,
   "metadata": {},
   "outputs": [
    {
     "data": {
      "text/html": [
       "<style>#sk-container-id-7 {color: black;background-color: white;}#sk-container-id-7 pre{padding: 0;}#sk-container-id-7 div.sk-toggleable {background-color: white;}#sk-container-id-7 label.sk-toggleable__label {cursor: pointer;display: block;width: 100%;margin-bottom: 0;padding: 0.3em;box-sizing: border-box;text-align: center;}#sk-container-id-7 label.sk-toggleable__label-arrow:before {content: \"▸\";float: left;margin-right: 0.25em;color: #696969;}#sk-container-id-7 label.sk-toggleable__label-arrow:hover:before {color: black;}#sk-container-id-7 div.sk-estimator:hover label.sk-toggleable__label-arrow:before {color: black;}#sk-container-id-7 div.sk-toggleable__content {max-height: 0;max-width: 0;overflow: hidden;text-align: left;background-color: #f0f8ff;}#sk-container-id-7 div.sk-toggleable__content pre {margin: 0.2em;color: black;border-radius: 0.25em;background-color: #f0f8ff;}#sk-container-id-7 input.sk-toggleable__control:checked~div.sk-toggleable__content {max-height: 200px;max-width: 100%;overflow: auto;}#sk-container-id-7 input.sk-toggleable__control:checked~label.sk-toggleable__label-arrow:before {content: \"▾\";}#sk-container-id-7 div.sk-estimator input.sk-toggleable__control:checked~label.sk-toggleable__label {background-color: #d4ebff;}#sk-container-id-7 div.sk-label input.sk-toggleable__control:checked~label.sk-toggleable__label {background-color: #d4ebff;}#sk-container-id-7 input.sk-hidden--visually {border: 0;clip: rect(1px 1px 1px 1px);clip: rect(1px, 1px, 1px, 1px);height: 1px;margin: -1px;overflow: hidden;padding: 0;position: absolute;width: 1px;}#sk-container-id-7 div.sk-estimator {font-family: monospace;background-color: #f0f8ff;border: 1px dotted black;border-radius: 0.25em;box-sizing: border-box;margin-bottom: 0.5em;}#sk-container-id-7 div.sk-estimator:hover {background-color: #d4ebff;}#sk-container-id-7 div.sk-parallel-item::after {content: \"\";width: 100%;border-bottom: 1px solid gray;flex-grow: 1;}#sk-container-id-7 div.sk-label:hover label.sk-toggleable__label {background-color: #d4ebff;}#sk-container-id-7 div.sk-serial::before {content: \"\";position: absolute;border-left: 1px solid gray;box-sizing: border-box;top: 0;bottom: 0;left: 50%;z-index: 0;}#sk-container-id-7 div.sk-serial {display: flex;flex-direction: column;align-items: center;background-color: white;padding-right: 0.2em;padding-left: 0.2em;position: relative;}#sk-container-id-7 div.sk-item {position: relative;z-index: 1;}#sk-container-id-7 div.sk-parallel {display: flex;align-items: stretch;justify-content: center;background-color: white;position: relative;}#sk-container-id-7 div.sk-item::before, #sk-container-id-7 div.sk-parallel-item::before {content: \"\";position: absolute;border-left: 1px solid gray;box-sizing: border-box;top: 0;bottom: 0;left: 50%;z-index: -1;}#sk-container-id-7 div.sk-parallel-item {display: flex;flex-direction: column;z-index: 1;position: relative;background-color: white;}#sk-container-id-7 div.sk-parallel-item:first-child::after {align-self: flex-end;width: 50%;}#sk-container-id-7 div.sk-parallel-item:last-child::after {align-self: flex-start;width: 50%;}#sk-container-id-7 div.sk-parallel-item:only-child::after {width: 0;}#sk-container-id-7 div.sk-dashed-wrapped {border: 1px dashed gray;margin: 0 0.4em 0.5em 0.4em;box-sizing: border-box;padding-bottom: 0.4em;background-color: white;}#sk-container-id-7 div.sk-label label {font-family: monospace;font-weight: bold;display: inline-block;line-height: 1.2em;}#sk-container-id-7 div.sk-label-container {text-align: center;}#sk-container-id-7 div.sk-container {/* jupyter's `normalize.less` sets `[hidden] { display: none; }` but bootstrap.min.css set `[hidden] { display: none !important; }` so we also need the `!important` here to be able to override the default hidden behavior on the sphinx rendered scikit-learn.org. See: https://github.com/scikit-learn/scikit-learn/issues/21755 */display: inline-block !important;position: relative;}#sk-container-id-7 div.sk-text-repr-fallback {display: none;}</style><div id=\"sk-container-id-7\" class=\"sk-top-container\"><div class=\"sk-text-repr-fallback\"><pre>SVC(kernel=&#x27;linear&#x27;)</pre><b>In a Jupyter environment, please rerun this cell to show the HTML representation or trust the notebook. <br />On GitHub, the HTML representation is unable to render, please try loading this page with nbviewer.org.</b></div><div class=\"sk-container\" hidden><div class=\"sk-item\"><div class=\"sk-estimator sk-toggleable\"><input class=\"sk-toggleable__control sk-hidden--visually\" id=\"sk-estimator-id-15\" type=\"checkbox\" checked><label for=\"sk-estimator-id-15\" class=\"sk-toggleable__label sk-toggleable__label-arrow\">SVC</label><div class=\"sk-toggleable__content\"><pre>SVC(kernel=&#x27;linear&#x27;)</pre></div></div></div></div></div>"
      ],
      "text/plain": [
       "SVC(kernel='linear')"
      ]
     },
     "execution_count": 43,
     "metadata": {},
     "output_type": "execute_result"
    }
   ],
   "source": [
    "# memanggil ML algorithm\n",
    "scaled_svm = SVC(kernel='linear')\n",
    "\n",
    "# melakukan fitting\n",
    "scaled_svm.fit(X_train_scaled, y_train)"
   ]
  },
  {
   "cell_type": "markdown",
   "metadata": {},
   "source": [
    "#### With Pipeline"
   ]
  },
  {
   "cell_type": "code",
   "execution_count": 102,
   "metadata": {},
   "outputs": [],
   "source": [
    "# define pipeline\n",
    "pipe_svm = Pipeline([('scaler', StandardScaler()),\n",
    "                     ('umap',umap.UMAP()),\n",
    "                     ('svm',SVC())])"
   ]
  },
  {
   "cell_type": "code",
   "execution_count": 96,
   "metadata": {},
   "outputs": [
    {
     "name": "stderr",
     "output_type": "stream",
     "text": [
      "/Users/catherinemulyadi/anaconda3/lib/python3.11/site-packages/sklearn/model_selection/_search.py:305: UserWarning: The total space of parameters 8 is smaller than n_iter=10. Running 8 iterations. For exhaustive searches, use GridSearchCV.\n",
      "  warnings.warn(\n"
     ]
    },
    {
     "data": {
      "text/html": [
       "<style>#sk-container-id-22 {color: black;background-color: white;}#sk-container-id-22 pre{padding: 0;}#sk-container-id-22 div.sk-toggleable {background-color: white;}#sk-container-id-22 label.sk-toggleable__label {cursor: pointer;display: block;width: 100%;margin-bottom: 0;padding: 0.3em;box-sizing: border-box;text-align: center;}#sk-container-id-22 label.sk-toggleable__label-arrow:before {content: \"▸\";float: left;margin-right: 0.25em;color: #696969;}#sk-container-id-22 label.sk-toggleable__label-arrow:hover:before {color: black;}#sk-container-id-22 div.sk-estimator:hover label.sk-toggleable__label-arrow:before {color: black;}#sk-container-id-22 div.sk-toggleable__content {max-height: 0;max-width: 0;overflow: hidden;text-align: left;background-color: #f0f8ff;}#sk-container-id-22 div.sk-toggleable__content pre {margin: 0.2em;color: black;border-radius: 0.25em;background-color: #f0f8ff;}#sk-container-id-22 input.sk-toggleable__control:checked~div.sk-toggleable__content {max-height: 200px;max-width: 100%;overflow: auto;}#sk-container-id-22 input.sk-toggleable__control:checked~label.sk-toggleable__label-arrow:before {content: \"▾\";}#sk-container-id-22 div.sk-estimator input.sk-toggleable__control:checked~label.sk-toggleable__label {background-color: #d4ebff;}#sk-container-id-22 div.sk-label input.sk-toggleable__control:checked~label.sk-toggleable__label {background-color: #d4ebff;}#sk-container-id-22 input.sk-hidden--visually {border: 0;clip: rect(1px 1px 1px 1px);clip: rect(1px, 1px, 1px, 1px);height: 1px;margin: -1px;overflow: hidden;padding: 0;position: absolute;width: 1px;}#sk-container-id-22 div.sk-estimator {font-family: monospace;background-color: #f0f8ff;border: 1px dotted black;border-radius: 0.25em;box-sizing: border-box;margin-bottom: 0.5em;}#sk-container-id-22 div.sk-estimator:hover {background-color: #d4ebff;}#sk-container-id-22 div.sk-parallel-item::after {content: \"\";width: 100%;border-bottom: 1px solid gray;flex-grow: 1;}#sk-container-id-22 div.sk-label:hover label.sk-toggleable__label {background-color: #d4ebff;}#sk-container-id-22 div.sk-serial::before {content: \"\";position: absolute;border-left: 1px solid gray;box-sizing: border-box;top: 0;bottom: 0;left: 50%;z-index: 0;}#sk-container-id-22 div.sk-serial {display: flex;flex-direction: column;align-items: center;background-color: white;padding-right: 0.2em;padding-left: 0.2em;position: relative;}#sk-container-id-22 div.sk-item {position: relative;z-index: 1;}#sk-container-id-22 div.sk-parallel {display: flex;align-items: stretch;justify-content: center;background-color: white;position: relative;}#sk-container-id-22 div.sk-item::before, #sk-container-id-22 div.sk-parallel-item::before {content: \"\";position: absolute;border-left: 1px solid gray;box-sizing: border-box;top: 0;bottom: 0;left: 50%;z-index: -1;}#sk-container-id-22 div.sk-parallel-item {display: flex;flex-direction: column;z-index: 1;position: relative;background-color: white;}#sk-container-id-22 div.sk-parallel-item:first-child::after {align-self: flex-end;width: 50%;}#sk-container-id-22 div.sk-parallel-item:last-child::after {align-self: flex-start;width: 50%;}#sk-container-id-22 div.sk-parallel-item:only-child::after {width: 0;}#sk-container-id-22 div.sk-dashed-wrapped {border: 1px dashed gray;margin: 0 0.4em 0.5em 0.4em;box-sizing: border-box;padding-bottom: 0.4em;background-color: white;}#sk-container-id-22 div.sk-label label {font-family: monospace;font-weight: bold;display: inline-block;line-height: 1.2em;}#sk-container-id-22 div.sk-label-container {text-align: center;}#sk-container-id-22 div.sk-container {/* jupyter's `normalize.less` sets `[hidden] { display: none; }` but bootstrap.min.css set `[hidden] { display: none !important; }` so we also need the `!important` here to be able to override the default hidden behavior on the sphinx rendered scikit-learn.org. See: https://github.com/scikit-learn/scikit-learn/issues/21755 */display: inline-block !important;position: relative;}#sk-container-id-22 div.sk-text-repr-fallback {display: none;}</style><div id=\"sk-container-id-22\" class=\"sk-top-container\"><div class=\"sk-text-repr-fallback\"><pre>RandomizedSearchCV(cv=5,\n",
       "                   estimator=Pipeline(steps=[(&#x27;scaler&#x27;, StandardScaler()),\n",
       "                                             (&#x27;umap&#x27;, UMAP()),\n",
       "                                             (&#x27;svm&#x27;, SVC())]),\n",
       "                   param_distributions={&#x27;svm__C&#x27;: [0.01, 1],\n",
       "                                        &#x27;svm__class_weight&#x27;: [{0: 1.5}],\n",
       "                                        &#x27;svm__gamma&#x27;: [0.01, 1],\n",
       "                                        &#x27;svm__kernel&#x27;: [&#x27;rbf&#x27;],\n",
       "                                        &#x27;umap__min_dist&#x27;: [0.15],\n",
       "                                        &#x27;umap__n_components&#x27;: [15],\n",
       "                                        &#x27;umap__n_neighbors&#x27;: [2, 8]},\n",
       "                   random_state=21)</pre><b>In a Jupyter environment, please rerun this cell to show the HTML representation or trust the notebook. <br />On GitHub, the HTML representation is unable to render, please try loading this page with nbviewer.org.</b></div><div class=\"sk-container\" hidden><div class=\"sk-item sk-dashed-wrapped\"><div class=\"sk-label-container\"><div class=\"sk-label sk-toggleable\"><input class=\"sk-toggleable__control sk-hidden--visually\" id=\"sk-estimator-id-106\" type=\"checkbox\" ><label for=\"sk-estimator-id-106\" class=\"sk-toggleable__label sk-toggleable__label-arrow\">RandomizedSearchCV</label><div class=\"sk-toggleable__content\"><pre>RandomizedSearchCV(cv=5,\n",
       "                   estimator=Pipeline(steps=[(&#x27;scaler&#x27;, StandardScaler()),\n",
       "                                             (&#x27;umap&#x27;, UMAP()),\n",
       "                                             (&#x27;svm&#x27;, SVC())]),\n",
       "                   param_distributions={&#x27;svm__C&#x27;: [0.01, 1],\n",
       "                                        &#x27;svm__class_weight&#x27;: [{0: 1.5}],\n",
       "                                        &#x27;svm__gamma&#x27;: [0.01, 1],\n",
       "                                        &#x27;svm__kernel&#x27;: [&#x27;rbf&#x27;],\n",
       "                                        &#x27;umap__min_dist&#x27;: [0.15],\n",
       "                                        &#x27;umap__n_components&#x27;: [15],\n",
       "                                        &#x27;umap__n_neighbors&#x27;: [2, 8]},\n",
       "                   random_state=21)</pre></div></div></div><div class=\"sk-parallel\"><div class=\"sk-parallel-item\"><div class=\"sk-item\"><div class=\"sk-label-container\"><div class=\"sk-label sk-toggleable\"><input class=\"sk-toggleable__control sk-hidden--visually\" id=\"sk-estimator-id-107\" type=\"checkbox\" ><label for=\"sk-estimator-id-107\" class=\"sk-toggleable__label sk-toggleable__label-arrow\">estimator: Pipeline</label><div class=\"sk-toggleable__content\"><pre>Pipeline(steps=[(&#x27;scaler&#x27;, StandardScaler()), (&#x27;umap&#x27;, UMAP()), (&#x27;svm&#x27;, SVC())])</pre></div></div></div><div class=\"sk-serial\"><div class=\"sk-item\"><div class=\"sk-serial\"><div class=\"sk-item\"><div class=\"sk-estimator sk-toggleable\"><input class=\"sk-toggleable__control sk-hidden--visually\" id=\"sk-estimator-id-108\" type=\"checkbox\" ><label for=\"sk-estimator-id-108\" class=\"sk-toggleable__label sk-toggleable__label-arrow\">StandardScaler</label><div class=\"sk-toggleable__content\"><pre>StandardScaler()</pre></div></div></div><div class=\"sk-item\"><div class=\"sk-estimator sk-toggleable\"><input class=\"sk-toggleable__control sk-hidden--visually\" id=\"sk-estimator-id-109\" type=\"checkbox\" ><label for=\"sk-estimator-id-109\" class=\"sk-toggleable__label sk-toggleable__label-arrow\">UMAP</label><div class=\"sk-toggleable__content\"><pre>UMAP()</pre></div></div></div><div class=\"sk-item\"><div class=\"sk-estimator sk-toggleable\"><input class=\"sk-toggleable__control sk-hidden--visually\" id=\"sk-estimator-id-110\" type=\"checkbox\" ><label for=\"sk-estimator-id-110\" class=\"sk-toggleable__label sk-toggleable__label-arrow\">SVC</label><div class=\"sk-toggleable__content\"><pre>SVC()</pre></div></div></div></div></div></div></div></div></div></div></div></div>"
      ],
      "text/plain": [
       "RandomizedSearchCV(cv=5,\n",
       "                   estimator=Pipeline(steps=[('scaler', StandardScaler()),\n",
       "                                             ('umap', UMAP()),\n",
       "                                             ('svm', SVC())]),\n",
       "                   param_distributions={'svm__C': [0.01, 1],\n",
       "                                        'svm__class_weight': [{0: 1.5}],\n",
       "                                        'svm__gamma': [0.01, 1],\n",
       "                                        'svm__kernel': ['rbf'],\n",
       "                                        'umap__min_dist': [0.15],\n",
       "                                        'umap__n_components': [15],\n",
       "                                        'umap__n_neighbors': [2, 8]},\n",
       "                   random_state=21)"
      ]
     },
     "execution_count": 96,
     "metadata": {},
     "output_type": "execute_result"
    }
   ],
   "source": [
    "# Hyperparameter tuning\n",
    "random_search_params2 = {\n",
    "    'umap__n_neighbors': [2,8],\n",
    "    'umap__min_dist': [0.15],\n",
    "    'umap__n_components':[15],\n",
    "    'svm__C': [0.01, 1],     # Hyperparameters for SVC\n",
    "    'svm__gamma': [0.01, 1],\n",
    "    'svm__kernel': ['rbf'],\n",
    "    'svm__class_weight': [{0:1.5}]\n",
    "}\n",
    "\n",
    "clf_random2 = RandomizedSearchCV(pipe_svm, param_distributions=random_search_params2,random_state = 21, cv=5)\n",
    "clf_random2.fit(X_train, y_train)"
   ]
  },
  {
   "cell_type": "code",
   "execution_count": 116,
   "metadata": {},
   "outputs": [
    {
     "data": {
      "text/html": [
       "<style>#sk-container-id-24 {color: black;background-color: white;}#sk-container-id-24 pre{padding: 0;}#sk-container-id-24 div.sk-toggleable {background-color: white;}#sk-container-id-24 label.sk-toggleable__label {cursor: pointer;display: block;width: 100%;margin-bottom: 0;padding: 0.3em;box-sizing: border-box;text-align: center;}#sk-container-id-24 label.sk-toggleable__label-arrow:before {content: \"▸\";float: left;margin-right: 0.25em;color: #696969;}#sk-container-id-24 label.sk-toggleable__label-arrow:hover:before {color: black;}#sk-container-id-24 div.sk-estimator:hover label.sk-toggleable__label-arrow:before {color: black;}#sk-container-id-24 div.sk-toggleable__content {max-height: 0;max-width: 0;overflow: hidden;text-align: left;background-color: #f0f8ff;}#sk-container-id-24 div.sk-toggleable__content pre {margin: 0.2em;color: black;border-radius: 0.25em;background-color: #f0f8ff;}#sk-container-id-24 input.sk-toggleable__control:checked~div.sk-toggleable__content {max-height: 200px;max-width: 100%;overflow: auto;}#sk-container-id-24 input.sk-toggleable__control:checked~label.sk-toggleable__label-arrow:before {content: \"▾\";}#sk-container-id-24 div.sk-estimator input.sk-toggleable__control:checked~label.sk-toggleable__label {background-color: #d4ebff;}#sk-container-id-24 div.sk-label input.sk-toggleable__control:checked~label.sk-toggleable__label {background-color: #d4ebff;}#sk-container-id-24 input.sk-hidden--visually {border: 0;clip: rect(1px 1px 1px 1px);clip: rect(1px, 1px, 1px, 1px);height: 1px;margin: -1px;overflow: hidden;padding: 0;position: absolute;width: 1px;}#sk-container-id-24 div.sk-estimator {font-family: monospace;background-color: #f0f8ff;border: 1px dotted black;border-radius: 0.25em;box-sizing: border-box;margin-bottom: 0.5em;}#sk-container-id-24 div.sk-estimator:hover {background-color: #d4ebff;}#sk-container-id-24 div.sk-parallel-item::after {content: \"\";width: 100%;border-bottom: 1px solid gray;flex-grow: 1;}#sk-container-id-24 div.sk-label:hover label.sk-toggleable__label {background-color: #d4ebff;}#sk-container-id-24 div.sk-serial::before {content: \"\";position: absolute;border-left: 1px solid gray;box-sizing: border-box;top: 0;bottom: 0;left: 50%;z-index: 0;}#sk-container-id-24 div.sk-serial {display: flex;flex-direction: column;align-items: center;background-color: white;padding-right: 0.2em;padding-left: 0.2em;position: relative;}#sk-container-id-24 div.sk-item {position: relative;z-index: 1;}#sk-container-id-24 div.sk-parallel {display: flex;align-items: stretch;justify-content: center;background-color: white;position: relative;}#sk-container-id-24 div.sk-item::before, #sk-container-id-24 div.sk-parallel-item::before {content: \"\";position: absolute;border-left: 1px solid gray;box-sizing: border-box;top: 0;bottom: 0;left: 50%;z-index: -1;}#sk-container-id-24 div.sk-parallel-item {display: flex;flex-direction: column;z-index: 1;position: relative;background-color: white;}#sk-container-id-24 div.sk-parallel-item:first-child::after {align-self: flex-end;width: 50%;}#sk-container-id-24 div.sk-parallel-item:last-child::after {align-self: flex-start;width: 50%;}#sk-container-id-24 div.sk-parallel-item:only-child::after {width: 0;}#sk-container-id-24 div.sk-dashed-wrapped {border: 1px dashed gray;margin: 0 0.4em 0.5em 0.4em;box-sizing: border-box;padding-bottom: 0.4em;background-color: white;}#sk-container-id-24 div.sk-label label {font-family: monospace;font-weight: bold;display: inline-block;line-height: 1.2em;}#sk-container-id-24 div.sk-label-container {text-align: center;}#sk-container-id-24 div.sk-container {/* jupyter's `normalize.less` sets `[hidden] { display: none; }` but bootstrap.min.css set `[hidden] { display: none !important; }` so we also need the `!important` here to be able to override the default hidden behavior on the sphinx rendered scikit-learn.org. See: https://github.com/scikit-learn/scikit-learn/issues/21755 */display: inline-block !important;position: relative;}#sk-container-id-24 div.sk-text-repr-fallback {display: none;}</style><div id=\"sk-container-id-24\" class=\"sk-top-container\"><div class=\"sk-text-repr-fallback\"><pre>GridSearchCV(cv=5,\n",
       "             estimator=Pipeline(steps=[(&#x27;scaler&#x27;, StandardScaler()),\n",
       "                                       (&#x27;umap&#x27;, UMAP()), (&#x27;svm&#x27;, SVC())]),\n",
       "             param_grid={&#x27;svm__C&#x27;: [0.01, 1], &#x27;svm__class_weight&#x27;: [{0: 1.5}],\n",
       "                         &#x27;svm__gamma&#x27;: [0.01, 1], &#x27;svm__kernel&#x27;: [&#x27;rbf&#x27;],\n",
       "                         &#x27;umap__min_dist&#x27;: [0.15], &#x27;umap__n_components&#x27;: [15],\n",
       "                         &#x27;umap__n_neighbors&#x27;: [8, 10]})</pre><b>In a Jupyter environment, please rerun this cell to show the HTML representation or trust the notebook. <br />On GitHub, the HTML representation is unable to render, please try loading this page with nbviewer.org.</b></div><div class=\"sk-container\" hidden><div class=\"sk-item sk-dashed-wrapped\"><div class=\"sk-label-container\"><div class=\"sk-label sk-toggleable\"><input class=\"sk-toggleable__control sk-hidden--visually\" id=\"sk-estimator-id-116\" type=\"checkbox\" ><label for=\"sk-estimator-id-116\" class=\"sk-toggleable__label sk-toggleable__label-arrow\">GridSearchCV</label><div class=\"sk-toggleable__content\"><pre>GridSearchCV(cv=5,\n",
       "             estimator=Pipeline(steps=[(&#x27;scaler&#x27;, StandardScaler()),\n",
       "                                       (&#x27;umap&#x27;, UMAP()), (&#x27;svm&#x27;, SVC())]),\n",
       "             param_grid={&#x27;svm__C&#x27;: [0.01, 1], &#x27;svm__class_weight&#x27;: [{0: 1.5}],\n",
       "                         &#x27;svm__gamma&#x27;: [0.01, 1], &#x27;svm__kernel&#x27;: [&#x27;rbf&#x27;],\n",
       "                         &#x27;umap__min_dist&#x27;: [0.15], &#x27;umap__n_components&#x27;: [15],\n",
       "                         &#x27;umap__n_neighbors&#x27;: [8, 10]})</pre></div></div></div><div class=\"sk-parallel\"><div class=\"sk-parallel-item\"><div class=\"sk-item\"><div class=\"sk-label-container\"><div class=\"sk-label sk-toggleable\"><input class=\"sk-toggleable__control sk-hidden--visually\" id=\"sk-estimator-id-117\" type=\"checkbox\" ><label for=\"sk-estimator-id-117\" class=\"sk-toggleable__label sk-toggleable__label-arrow\">estimator: Pipeline</label><div class=\"sk-toggleable__content\"><pre>Pipeline(steps=[(&#x27;scaler&#x27;, StandardScaler()), (&#x27;umap&#x27;, UMAP()), (&#x27;svm&#x27;, SVC())])</pre></div></div></div><div class=\"sk-serial\"><div class=\"sk-item\"><div class=\"sk-serial\"><div class=\"sk-item\"><div class=\"sk-estimator sk-toggleable\"><input class=\"sk-toggleable__control sk-hidden--visually\" id=\"sk-estimator-id-118\" type=\"checkbox\" ><label for=\"sk-estimator-id-118\" class=\"sk-toggleable__label sk-toggleable__label-arrow\">StandardScaler</label><div class=\"sk-toggleable__content\"><pre>StandardScaler()</pre></div></div></div><div class=\"sk-item\"><div class=\"sk-estimator sk-toggleable\"><input class=\"sk-toggleable__control sk-hidden--visually\" id=\"sk-estimator-id-119\" type=\"checkbox\" ><label for=\"sk-estimator-id-119\" class=\"sk-toggleable__label sk-toggleable__label-arrow\">UMAP</label><div class=\"sk-toggleable__content\"><pre>UMAP()</pre></div></div></div><div class=\"sk-item\"><div class=\"sk-estimator sk-toggleable\"><input class=\"sk-toggleable__control sk-hidden--visually\" id=\"sk-estimator-id-120\" type=\"checkbox\" ><label for=\"sk-estimator-id-120\" class=\"sk-toggleable__label sk-toggleable__label-arrow\">SVC</label><div class=\"sk-toggleable__content\"><pre>SVC()</pre></div></div></div></div></div></div></div></div></div></div></div></div>"
      ],
      "text/plain": [
       "GridSearchCV(cv=5,\n",
       "             estimator=Pipeline(steps=[('scaler', StandardScaler()),\n",
       "                                       ('umap', UMAP()), ('svm', SVC())]),\n",
       "             param_grid={'svm__C': [0.01, 1], 'svm__class_weight': [{0: 1.5}],\n",
       "                         'svm__gamma': [0.01, 1], 'svm__kernel': ['rbf'],\n",
       "                         'umap__min_dist': [0.15], 'umap__n_components': [15],\n",
       "                         'umap__n_neighbors': [8, 10]})"
      ]
     },
     "execution_count": 116,
     "metadata": {},
     "output_type": "execute_result"
    }
   ],
   "source": [
    "# Hyperparameter tuning\n",
    "grid_search_params2 = {\n",
    "    'umap__n_neighbors': [8,10],\n",
    "    'umap__min_dist': [0.15],\n",
    "    'umap__n_components':[15],\n",
    "    'svm__C': [0.01, 1],     # Hyperparameters for SVC\n",
    "    'svm__gamma': [0.01, 1],\n",
    "    'svm__kernel': ['rbf'],\n",
    "    'svm__class_weight': [{0:1.5}]\n",
    "}\n",
    "\n",
    "clf_grid2 = GridSearchCV(pipe_svm, param_grid=grid_search_params2, cv=5)\n",
    "clf_grid2.fit(X_train, y_train)"
   ]
  },
  {
   "cell_type": "markdown",
   "metadata": {},
   "source": [
    "### <u>K-Nearest Neighbours</u>"
   ]
  },
  {
   "cell_type": "markdown",
   "metadata": {},
   "source": [
    "#### Without Pipeline"
   ]
  },
  {
   "cell_type": "code",
   "execution_count": 46,
   "metadata": {},
   "outputs": [
    {
     "data": {
      "text/html": [
       "<style>#sk-container-id-9 {color: black;background-color: white;}#sk-container-id-9 pre{padding: 0;}#sk-container-id-9 div.sk-toggleable {background-color: white;}#sk-container-id-9 label.sk-toggleable__label {cursor: pointer;display: block;width: 100%;margin-bottom: 0;padding: 0.3em;box-sizing: border-box;text-align: center;}#sk-container-id-9 label.sk-toggleable__label-arrow:before {content: \"▸\";float: left;margin-right: 0.25em;color: #696969;}#sk-container-id-9 label.sk-toggleable__label-arrow:hover:before {color: black;}#sk-container-id-9 div.sk-estimator:hover label.sk-toggleable__label-arrow:before {color: black;}#sk-container-id-9 div.sk-toggleable__content {max-height: 0;max-width: 0;overflow: hidden;text-align: left;background-color: #f0f8ff;}#sk-container-id-9 div.sk-toggleable__content pre {margin: 0.2em;color: black;border-radius: 0.25em;background-color: #f0f8ff;}#sk-container-id-9 input.sk-toggleable__control:checked~div.sk-toggleable__content {max-height: 200px;max-width: 100%;overflow: auto;}#sk-container-id-9 input.sk-toggleable__control:checked~label.sk-toggleable__label-arrow:before {content: \"▾\";}#sk-container-id-9 div.sk-estimator input.sk-toggleable__control:checked~label.sk-toggleable__label {background-color: #d4ebff;}#sk-container-id-9 div.sk-label input.sk-toggleable__control:checked~label.sk-toggleable__label {background-color: #d4ebff;}#sk-container-id-9 input.sk-hidden--visually {border: 0;clip: rect(1px 1px 1px 1px);clip: rect(1px, 1px, 1px, 1px);height: 1px;margin: -1px;overflow: hidden;padding: 0;position: absolute;width: 1px;}#sk-container-id-9 div.sk-estimator {font-family: monospace;background-color: #f0f8ff;border: 1px dotted black;border-radius: 0.25em;box-sizing: border-box;margin-bottom: 0.5em;}#sk-container-id-9 div.sk-estimator:hover {background-color: #d4ebff;}#sk-container-id-9 div.sk-parallel-item::after {content: \"\";width: 100%;border-bottom: 1px solid gray;flex-grow: 1;}#sk-container-id-9 div.sk-label:hover label.sk-toggleable__label {background-color: #d4ebff;}#sk-container-id-9 div.sk-serial::before {content: \"\";position: absolute;border-left: 1px solid gray;box-sizing: border-box;top: 0;bottom: 0;left: 50%;z-index: 0;}#sk-container-id-9 div.sk-serial {display: flex;flex-direction: column;align-items: center;background-color: white;padding-right: 0.2em;padding-left: 0.2em;position: relative;}#sk-container-id-9 div.sk-item {position: relative;z-index: 1;}#sk-container-id-9 div.sk-parallel {display: flex;align-items: stretch;justify-content: center;background-color: white;position: relative;}#sk-container-id-9 div.sk-item::before, #sk-container-id-9 div.sk-parallel-item::before {content: \"\";position: absolute;border-left: 1px solid gray;box-sizing: border-box;top: 0;bottom: 0;left: 50%;z-index: -1;}#sk-container-id-9 div.sk-parallel-item {display: flex;flex-direction: column;z-index: 1;position: relative;background-color: white;}#sk-container-id-9 div.sk-parallel-item:first-child::after {align-self: flex-end;width: 50%;}#sk-container-id-9 div.sk-parallel-item:last-child::after {align-self: flex-start;width: 50%;}#sk-container-id-9 div.sk-parallel-item:only-child::after {width: 0;}#sk-container-id-9 div.sk-dashed-wrapped {border: 1px dashed gray;margin: 0 0.4em 0.5em 0.4em;box-sizing: border-box;padding-bottom: 0.4em;background-color: white;}#sk-container-id-9 div.sk-label label {font-family: monospace;font-weight: bold;display: inline-block;line-height: 1.2em;}#sk-container-id-9 div.sk-label-container {text-align: center;}#sk-container-id-9 div.sk-container {/* jupyter's `normalize.less` sets `[hidden] { display: none; }` but bootstrap.min.css set `[hidden] { display: none !important; }` so we also need the `!important` here to be able to override the default hidden behavior on the sphinx rendered scikit-learn.org. See: https://github.com/scikit-learn/scikit-learn/issues/21755 */display: inline-block !important;position: relative;}#sk-container-id-9 div.sk-text-repr-fallback {display: none;}</style><div id=\"sk-container-id-9\" class=\"sk-top-container\"><div class=\"sk-text-repr-fallback\"><pre>KNeighborsClassifier(n_neighbors=3)</pre><b>In a Jupyter environment, please rerun this cell to show the HTML representation or trust the notebook. <br />On GitHub, the HTML representation is unable to render, please try loading this page with nbviewer.org.</b></div><div class=\"sk-container\" hidden><div class=\"sk-item\"><div class=\"sk-estimator sk-toggleable\"><input class=\"sk-toggleable__control sk-hidden--visually\" id=\"sk-estimator-id-19\" type=\"checkbox\" checked><label for=\"sk-estimator-id-19\" class=\"sk-toggleable__label sk-toggleable__label-arrow\">KNeighborsClassifier</label><div class=\"sk-toggleable__content\"><pre>KNeighborsClassifier(n_neighbors=3)</pre></div></div></div></div></div>"
      ],
      "text/plain": [
       "KNeighborsClassifier(n_neighbors=3)"
      ]
     },
     "execution_count": 46,
     "metadata": {},
     "output_type": "execute_result"
    }
   ],
   "source": [
    "# KNN\n",
    "knn_model = KNeighborsClassifier(n_neighbors=3)\n",
    "knn_model.fit(X_train_scaled, y_train)"
   ]
  },
  {
   "cell_type": "markdown",
   "metadata": {},
   "source": [
    "#### With Pipeline"
   ]
  },
  {
   "cell_type": "code",
   "execution_count": 22,
   "metadata": {},
   "outputs": [],
   "source": [
    "# define pipeline\n",
    "pipe_knn = Pipeline([('scaler', StandardScaler()),\n",
    "                     ('umap',umap.UMAP()),\n",
    "                     ('KNN',KNeighborsClassifier())])"
   ]
  },
  {
   "cell_type": "code",
   "execution_count": 23,
   "metadata": {},
   "outputs": [
    {
     "data": {
      "text/html": [
       "<style>#sk-container-id-3 {color: black;background-color: white;}#sk-container-id-3 pre{padding: 0;}#sk-container-id-3 div.sk-toggleable {background-color: white;}#sk-container-id-3 label.sk-toggleable__label {cursor: pointer;display: block;width: 100%;margin-bottom: 0;padding: 0.3em;box-sizing: border-box;text-align: center;}#sk-container-id-3 label.sk-toggleable__label-arrow:before {content: \"▸\";float: left;margin-right: 0.25em;color: #696969;}#sk-container-id-3 label.sk-toggleable__label-arrow:hover:before {color: black;}#sk-container-id-3 div.sk-estimator:hover label.sk-toggleable__label-arrow:before {color: black;}#sk-container-id-3 div.sk-toggleable__content {max-height: 0;max-width: 0;overflow: hidden;text-align: left;background-color: #f0f8ff;}#sk-container-id-3 div.sk-toggleable__content pre {margin: 0.2em;color: black;border-radius: 0.25em;background-color: #f0f8ff;}#sk-container-id-3 input.sk-toggleable__control:checked~div.sk-toggleable__content {max-height: 200px;max-width: 100%;overflow: auto;}#sk-container-id-3 input.sk-toggleable__control:checked~label.sk-toggleable__label-arrow:before {content: \"▾\";}#sk-container-id-3 div.sk-estimator input.sk-toggleable__control:checked~label.sk-toggleable__label {background-color: #d4ebff;}#sk-container-id-3 div.sk-label input.sk-toggleable__control:checked~label.sk-toggleable__label {background-color: #d4ebff;}#sk-container-id-3 input.sk-hidden--visually {border: 0;clip: rect(1px 1px 1px 1px);clip: rect(1px, 1px, 1px, 1px);height: 1px;margin: -1px;overflow: hidden;padding: 0;position: absolute;width: 1px;}#sk-container-id-3 div.sk-estimator {font-family: monospace;background-color: #f0f8ff;border: 1px dotted black;border-radius: 0.25em;box-sizing: border-box;margin-bottom: 0.5em;}#sk-container-id-3 div.sk-estimator:hover {background-color: #d4ebff;}#sk-container-id-3 div.sk-parallel-item::after {content: \"\";width: 100%;border-bottom: 1px solid gray;flex-grow: 1;}#sk-container-id-3 div.sk-label:hover label.sk-toggleable__label {background-color: #d4ebff;}#sk-container-id-3 div.sk-serial::before {content: \"\";position: absolute;border-left: 1px solid gray;box-sizing: border-box;top: 0;bottom: 0;left: 50%;z-index: 0;}#sk-container-id-3 div.sk-serial {display: flex;flex-direction: column;align-items: center;background-color: white;padding-right: 0.2em;padding-left: 0.2em;position: relative;}#sk-container-id-3 div.sk-item {position: relative;z-index: 1;}#sk-container-id-3 div.sk-parallel {display: flex;align-items: stretch;justify-content: center;background-color: white;position: relative;}#sk-container-id-3 div.sk-item::before, #sk-container-id-3 div.sk-parallel-item::before {content: \"\";position: absolute;border-left: 1px solid gray;box-sizing: border-box;top: 0;bottom: 0;left: 50%;z-index: -1;}#sk-container-id-3 div.sk-parallel-item {display: flex;flex-direction: column;z-index: 1;position: relative;background-color: white;}#sk-container-id-3 div.sk-parallel-item:first-child::after {align-self: flex-end;width: 50%;}#sk-container-id-3 div.sk-parallel-item:last-child::after {align-self: flex-start;width: 50%;}#sk-container-id-3 div.sk-parallel-item:only-child::after {width: 0;}#sk-container-id-3 div.sk-dashed-wrapped {border: 1px dashed gray;margin: 0 0.4em 0.5em 0.4em;box-sizing: border-box;padding-bottom: 0.4em;background-color: white;}#sk-container-id-3 div.sk-label label {font-family: monospace;font-weight: bold;display: inline-block;line-height: 1.2em;}#sk-container-id-3 div.sk-label-container {text-align: center;}#sk-container-id-3 div.sk-container {/* jupyter's `normalize.less` sets `[hidden] { display: none; }` but bootstrap.min.css set `[hidden] { display: none !important; }` so we also need the `!important` here to be able to override the default hidden behavior on the sphinx rendered scikit-learn.org. See: https://github.com/scikit-learn/scikit-learn/issues/21755 */display: inline-block !important;position: relative;}#sk-container-id-3 div.sk-text-repr-fallback {display: none;}</style><div id=\"sk-container-id-3\" class=\"sk-top-container\"><div class=\"sk-text-repr-fallback\"><pre>RandomizedSearchCV(cv=5,\n",
       "                   estimator=Pipeline(steps=[(&#x27;scaler&#x27;, StandardScaler()),\n",
       "                                             (&#x27;umap&#x27;, UMAP()),\n",
       "                                             (&#x27;KNN&#x27;, KNeighborsClassifier())]),\n",
       "                   param_distributions={&#x27;KNN__metric&#x27;: [&#x27;euclidean&#x27;,\n",
       "                                                        &#x27;manhattan&#x27;,\n",
       "                                                        &#x27;minkowski&#x27;],\n",
       "                                        &#x27;KNN__n_neighbors&#x27;: [2, 6, 8],\n",
       "                                        &#x27;KNN__p&#x27;: [1, 2],\n",
       "                                        &#x27;KNN__weights&#x27;: [&#x27;uniform&#x27;, &#x27;distance&#x27;],\n",
       "                                        &#x27;umap__min_dist&#x27;: [0.25, 0.5],\n",
       "                                        &#x27;umap__n_components&#x27;: [20, 30],\n",
       "                                        &#x27;umap__n_neighbors&#x27;: [2, 8, 10]},\n",
       "                   random_state=21)</pre><b>In a Jupyter environment, please rerun this cell to show the HTML representation or trust the notebook. <br />On GitHub, the HTML representation is unable to render, please try loading this page with nbviewer.org.</b></div><div class=\"sk-container\" hidden><div class=\"sk-item sk-dashed-wrapped\"><div class=\"sk-label-container\"><div class=\"sk-label sk-toggleable\"><input class=\"sk-toggleable__control sk-hidden--visually\" id=\"sk-estimator-id-11\" type=\"checkbox\" ><label for=\"sk-estimator-id-11\" class=\"sk-toggleable__label sk-toggleable__label-arrow\">RandomizedSearchCV</label><div class=\"sk-toggleable__content\"><pre>RandomizedSearchCV(cv=5,\n",
       "                   estimator=Pipeline(steps=[(&#x27;scaler&#x27;, StandardScaler()),\n",
       "                                             (&#x27;umap&#x27;, UMAP()),\n",
       "                                             (&#x27;KNN&#x27;, KNeighborsClassifier())]),\n",
       "                   param_distributions={&#x27;KNN__metric&#x27;: [&#x27;euclidean&#x27;,\n",
       "                                                        &#x27;manhattan&#x27;,\n",
       "                                                        &#x27;minkowski&#x27;],\n",
       "                                        &#x27;KNN__n_neighbors&#x27;: [2, 6, 8],\n",
       "                                        &#x27;KNN__p&#x27;: [1, 2],\n",
       "                                        &#x27;KNN__weights&#x27;: [&#x27;uniform&#x27;, &#x27;distance&#x27;],\n",
       "                                        &#x27;umap__min_dist&#x27;: [0.25, 0.5],\n",
       "                                        &#x27;umap__n_components&#x27;: [20, 30],\n",
       "                                        &#x27;umap__n_neighbors&#x27;: [2, 8, 10]},\n",
       "                   random_state=21)</pre></div></div></div><div class=\"sk-parallel\"><div class=\"sk-parallel-item\"><div class=\"sk-item\"><div class=\"sk-label-container\"><div class=\"sk-label sk-toggleable\"><input class=\"sk-toggleable__control sk-hidden--visually\" id=\"sk-estimator-id-12\" type=\"checkbox\" ><label for=\"sk-estimator-id-12\" class=\"sk-toggleable__label sk-toggleable__label-arrow\">estimator: Pipeline</label><div class=\"sk-toggleable__content\"><pre>Pipeline(steps=[(&#x27;scaler&#x27;, StandardScaler()), (&#x27;umap&#x27;, UMAP()),\n",
       "                (&#x27;KNN&#x27;, KNeighborsClassifier())])</pre></div></div></div><div class=\"sk-serial\"><div class=\"sk-item\"><div class=\"sk-serial\"><div class=\"sk-item\"><div class=\"sk-estimator sk-toggleable\"><input class=\"sk-toggleable__control sk-hidden--visually\" id=\"sk-estimator-id-13\" type=\"checkbox\" ><label for=\"sk-estimator-id-13\" class=\"sk-toggleable__label sk-toggleable__label-arrow\">StandardScaler</label><div class=\"sk-toggleable__content\"><pre>StandardScaler()</pre></div></div></div><div class=\"sk-item\"><div class=\"sk-estimator sk-toggleable\"><input class=\"sk-toggleable__control sk-hidden--visually\" id=\"sk-estimator-id-14\" type=\"checkbox\" ><label for=\"sk-estimator-id-14\" class=\"sk-toggleable__label sk-toggleable__label-arrow\">UMAP</label><div class=\"sk-toggleable__content\"><pre>UMAP()</pre></div></div></div><div class=\"sk-item\"><div class=\"sk-estimator sk-toggleable\"><input class=\"sk-toggleable__control sk-hidden--visually\" id=\"sk-estimator-id-15\" type=\"checkbox\" ><label for=\"sk-estimator-id-15\" class=\"sk-toggleable__label sk-toggleable__label-arrow\">KNeighborsClassifier</label><div class=\"sk-toggleable__content\"><pre>KNeighborsClassifier()</pre></div></div></div></div></div></div></div></div></div></div></div></div>"
      ],
      "text/plain": [
       "RandomizedSearchCV(cv=5,\n",
       "                   estimator=Pipeline(steps=[('scaler', StandardScaler()),\n",
       "                                             ('umap', UMAP()),\n",
       "                                             ('KNN', KNeighborsClassifier())]),\n",
       "                   param_distributions={'KNN__metric': ['euclidean',\n",
       "                                                        'manhattan',\n",
       "                                                        'minkowski'],\n",
       "                                        'KNN__n_neighbors': [2, 6, 8],\n",
       "                                        'KNN__p': [1, 2],\n",
       "                                        'KNN__weights': ['uniform', 'distance'],\n",
       "                                        'umap__min_dist': [0.25, 0.5],\n",
       "                                        'umap__n_components': [20, 30],\n",
       "                                        'umap__n_neighbors': [2, 8, 10]},\n",
       "                   random_state=21)"
      ]
     },
     "execution_count": 23,
     "metadata": {},
     "output_type": "execute_result"
    }
   ],
   "source": [
    "# Hyperparameter tuning\n",
    "random_search_params3 = {\n",
    "    'umap__n_neighbors': [2,8,10],\n",
    "    'umap__min_dist': [0.25,0.5],\n",
    "    'umap__n_components': [20,30],\n",
    "    'KNN__n_neighbors': [2,6,8],\n",
    "    'KNN__weights': ['uniform', 'distance'],  # Contoh opsi weight\n",
    "    'KNN__metric': ['euclidean', 'manhattan','minkowski'], # metrik untuk distance\n",
    "    'KNN__p': [1,2]\n",
    "}\n",
    "\n",
    "# call pipeline for modelling\n",
    "clf_random3 = RandomizedSearchCV(pipe_knn, param_distributions=random_search_params3, cv=5,random_state = 21)\n",
    "clf_random3.fit(X_train, y_train)"
   ]
  },
  {
   "cell_type": "markdown",
   "metadata": {},
   "source": [
    "# **9. MODEL EVALUATION**\n",
    "\n",
    "- Menggunakan metrics evaluasi: f1 - score karena ingin mengevaluasi robustness model dalam menangani setiap kasus pada variabel target (kena atau tidak kena default)."
   ]
  },
  {
   "cell_type": "markdown",
   "metadata": {},
   "source": [
    "## Fungsi yang digunakan:"
   ]
  },
  {
   "cell_type": "code",
   "execution_count": 36,
   "metadata": {},
   "outputs": [],
   "source": [
    "# find best hyperparameter and estimator\n",
    "def best_hyper_estimator(clf_grid):\n",
    "  \n",
    "  best_params = clf_grid.best_params_\n",
    "  best_estimator = clf_grid.best_estimator_\n",
    "\n",
    "  print(\"Best hyperparameter: \", best_params)\n",
    "  print(\"Best estimator: \", best_estimator)"
   ]
  },
  {
   "cell_type": "code",
   "execution_count": 47,
   "metadata": {},
   "outputs": [],
   "source": [
    "# fungsi untuk pengukuran f1 - score\n",
    "def performance_checker(clf, X_train, y_train,X_test, y_test):\n",
    "  \n",
    "  y_pred_train = clf.predict(X_train)\n",
    "  y_pred_test = clf.predict(X_test)\n",
    "    \n",
    "  print(\"Train Set:\")\n",
    "  cm_train = confusion_matrix(y_train, y_pred_train)\n",
    "  ConfusionMatrixDisplay(cm_train).plot()\n",
    "  print(classification_report(y_train, y_pred_train))\n",
    "\n",
    "  print(\"Test Set:\")\n",
    "  cm_test = confusion_matrix(y_test, y_pred_test)\n",
    "  ConfusionMatrixDisplay(cm_test).plot()\n",
    "  print(classification_report(y_test, y_pred_test))"
   ]
  },
  {
   "cell_type": "markdown",
   "metadata": {},
   "source": [
    "## With Pipeline and Hyperparameter Tuning"
   ]
  },
  {
   "cell_type": "markdown",
   "metadata": {},
   "source": [
    "### a. Undersampled Trained Data: Test Result"
   ]
  },
  {
   "cell_type": "code",
   "execution_count": 46,
   "metadata": {},
   "outputs": [
    {
     "name": "stdout",
     "output_type": "stream",
     "text": [
      "Best hyperparameter:  {'logreg__C': 0.1, 'logreg__class_weight': {0: 1.75, 1: 2.5}, 'logreg__max_iter': 100, 'logreg__multi_class': 'ovr'}\n",
      "Best estimator:  Pipeline(steps=[('logreg',\n",
      "                 LogisticRegression(C=0.1, class_weight={0: 1.75, 1: 2.5},\n",
      "                                    multi_class='ovr', random_state=42))])\n"
     ]
    }
   ],
   "source": [
    "# show the best hyperparameter and estimator setting\n",
    "best_hyper_estimator(clf_undersampled)"
   ]
  },
  {
   "cell_type": "code",
   "execution_count": 68,
   "metadata": {},
   "outputs": [
    {
     "name": "stdout",
     "output_type": "stream",
     "text": [
      "Coefficient :  [[ 0.06592619 -0.48404554 -0.34594303  0.07871528 -0.00327295 -0.04578311\n",
      "   0.2266149   0.10705186  0.08876052  0.08155165  0.03042295 -0.22546983\n",
      "  -0.29868657 -0.3705203 ]]\n",
      "Intercept   :  [0.33397853]\n"
     ]
    }
   ],
   "source": [
    "# Get the interdcept and coefficient from the best estimator model from Logistic Regression\n",
    "best_undersampled_log = clf_undersampled.best_estimator_\n",
    "print('Coefficient : ', best_undersampled_log.named_steps['logreg'].coef_)\n",
    "print('Intercept   : ', best_undersampled_log.named_steps['logreg'].intercept_)"
   ]
  },
  {
   "cell_type": "code",
   "execution_count": 69,
   "metadata": {},
   "outputs": [
    {
     "name": "stdout",
     "output_type": "stream",
     "text": [
      "Train Set:\n",
      "              precision    recall  f1-score   support\n",
      "\n",
      "           0       0.68      0.46      0.55       520\n",
      "           1       0.59      0.79      0.68       520\n",
      "\n",
      "    accuracy                           0.62      1040\n",
      "   macro avg       0.64      0.62      0.61      1040\n",
      "weighted avg       0.64      0.62      0.61      1040\n",
      "\n",
      "Test Set:\n",
      "              precision    recall  f1-score   support\n",
      "\n",
      "           0       0.93      0.46      0.61       478\n",
      "           1       0.27      0.85      0.41       115\n",
      "\n",
      "    accuracy                           0.53       593\n",
      "   macro avg       0.60      0.65      0.51       593\n",
      "weighted avg       0.80      0.53      0.57       593\n",
      "\n"
     ]
    },
    {
     "data": {
      "image/png": "[encoded data removed]",
      "text/plain": [
       "<Figure size 640x480 with 2 Axes>"
      ]
     },
     "metadata": {},
     "output_type": "display_data"
    },
    {
     "data": {
      "image/png": "[encoded data removed]",
      "text/plain": [
       "<Figure size 640x480 with 2 Axes>"
      ]
     },
     "metadata": {},
     "output_type": "display_data"
    }
   ],
   "source": [
    "# Hasil best estimator untuk Logistic Regression \n",
    "performance_checker(best_undersampled_log, X_train_undersampled_pca, y_train_resampled,X_test_undersampled_pca, y_test)"
   ]
  },
  {
   "cell_type": "markdown",
   "metadata": {},
   "source": [
    "### b. Oversampled Trained Data: Test Result"
   ]
  },
  {
   "cell_type": "code",
   "execution_count": 70,
   "metadata": {},
   "outputs": [
    {
     "name": "stdout",
     "output_type": "stream",
     "text": [
      "Coefficient :  [[ 0.00528112 -0.63778442 -1.04753105  0.00230327 -0.04831096 -0.1997295\n",
      "   0.21758291  0.03140472  0.22633118  0.32426173 -0.37916028 -0.04989003\n",
      "   0.00510409 -0.42966785]]\n",
      "Intercept   :  [0.19950343]\n"
     ]
    }
   ],
   "source": [
    "# Get the interdcept and coefficient from the best estimator model from Logistic Regression\n",
    "best_oversampled_log = clf_oversampled.best_estimator_\n",
    "print('Coefficient : ', best_oversampled_log.named_steps['logreg'].coef_)\n",
    "print('Intercept   : ', best_oversampled_log.named_steps['logreg'].intercept_)"
   ]
  },
  {
   "cell_type": "code",
   "execution_count": 71,
   "metadata": {},
   "outputs": [
    {
     "name": "stdout",
     "output_type": "stream",
     "text": [
      "Train Set:\n",
      "              precision    recall  f1-score   support\n",
      "\n",
      "           0       0.73      0.47      0.57      1852\n",
      "           1       0.61      0.83      0.70      1852\n",
      "\n",
      "    accuracy                           0.65      3704\n",
      "   macro avg       0.67      0.65      0.64      3704\n",
      "weighted avg       0.67      0.65      0.64      3704\n",
      "\n",
      "Test Set:\n",
      "              precision    recall  f1-score   support\n",
      "\n",
      "           0       0.91      0.47      0.62       478\n",
      "           1       0.27      0.81      0.40       115\n",
      "\n",
      "    accuracy                           0.54       593\n",
      "   macro avg       0.59      0.64      0.51       593\n",
      "weighted avg       0.79      0.54      0.58       593\n",
      "\n"
     ]
    },
    {
     "data": {
      "image/png": "[encoded data removed]",
      "text/plain": [
       "<Figure size 640x480 with 2 Axes>"
      ]
     },
     "metadata": {},
     "output_type": "display_data"
    },
    {
     "data": {
      "image/png": "[encoded data removed]",
      "text/plain": [
       "<Figure size 640x480 with 2 Axes>"
      ]
     },
     "metadata": {},
     "output_type": "display_data"
    }
   ],
   "source": [
    "# Hasil best estimator untuk Logistic Regression \n",
    "performance_checker(best_oversampled_log, X_train_oversampled_pca, y_train_resampled_2,X_test_oversampled_pca, y_test)"
   ]
  },
  {
   "cell_type": "markdown",
   "metadata": {},
   "source": [
    "### c. Original Trained Data: Test Result"
   ]
  },
  {
   "cell_type": "code",
   "execution_count": 87,
   "metadata": {},
   "outputs": [
    {
     "name": "stdout",
     "output_type": "stream",
     "text": [
      "Coefficient :  [[ 9.46660845e-02 -5.13784992e-01 -4.59059056e-01  2.74931470e-02\n",
      "  -6.14801666e-02 -1.16049340e-01 -3.88899013e-02  1.40189508e-01\n",
      "  -7.02186921e-02 -1.43918260e-01  2.09535929e-01  2.97359910e-01\n",
      "  -2.96363912e-01  3.83812604e-01  1.05964891e-04  2.03036892e-01\n",
      "  -5.86976481e-02  2.40447324e-01]]\n",
      "Intercept   :  [-1.04991054]\n"
     ]
    }
   ],
   "source": [
    "# Get the interdcept and coefficient from the best estimator model from Logistic Regression\n",
    "best_ori_log = clf_ori.best_estimator_\n",
    "print('Coefficient : ', best_ori_log.named_steps['logreg'].coef_)\n",
    "print('Intercept   : ', best_ori_log.named_steps['logreg'].intercept_)"
   ]
  },
  {
   "cell_type": "code",
   "execution_count": 88,
   "metadata": {},
   "outputs": [
    {
     "ename": "ValueError",
     "evalue": "X has 14 features, but LogisticRegression is expecting 18 features as input.",
     "output_type": "error",
     "traceback": [
      "\u001b[0;31m---------------------------------------------------------------------------\u001b[0m",
      "\u001b[0;31mValueError\u001b[0m                                Traceback (most recent call last)",
      "Cell \u001b[0;32mIn[88], line 2\u001b[0m\n\u001b[1;32m      1\u001b[0m \u001b[38;5;66;03m# Hasil best estimator untuk Logistic Regression \u001b[39;00m\n\u001b[0;32m----> 2\u001b[0m performance_checker(best_ori_log, X_train_ori_pca, y_train,X_test_ori_pca, y_test)\n",
      "Cell \u001b[0;32mIn[47], line 5\u001b[0m, in \u001b[0;36mperformance_checker\u001b[0;34m(clf, X_train, y_train, X_test, y_test)\u001b[0m\n\u001b[1;32m      2\u001b[0m \u001b[38;5;28;01mdef\u001b[39;00m \u001b[38;5;21mperformance_checker\u001b[39m(clf, X_train, y_train,X_test, y_test):\n\u001b[1;32m      4\u001b[0m   y_pred_train \u001b[38;5;241m=\u001b[39m clf\u001b[38;5;241m.\u001b[39mpredict(X_train)\n\u001b[0;32m----> 5\u001b[0m   y_pred_test \u001b[38;5;241m=\u001b[39m clf\u001b[38;5;241m.\u001b[39mpredict(X_test)\n\u001b[1;32m      7\u001b[0m   \u001b[38;5;28mprint\u001b[39m(\u001b[38;5;124m\"\u001b[39m\u001b[38;5;124mTrain Set:\u001b[39m\u001b[38;5;124m\"\u001b[39m)\n\u001b[1;32m      8\u001b[0m   cm_train \u001b[38;5;241m=\u001b[39m confusion_matrix(y_train, y_pred_train)\n",
      "File \u001b[0;32m~/anaconda3/lib/python3.11/site-packages/sklearn/pipeline.py:481\u001b[0m, in \u001b[0;36mPipeline.predict\u001b[0;34m(self, X, **predict_params)\u001b[0m\n\u001b[1;32m    479\u001b[0m \u001b[38;5;28;01mfor\u001b[39;00m _, name, transform \u001b[38;5;129;01min\u001b[39;00m \u001b[38;5;28mself\u001b[39m\u001b[38;5;241m.\u001b[39m_iter(with_final\u001b[38;5;241m=\u001b[39m\u001b[38;5;28;01mFalse\u001b[39;00m):\n\u001b[1;32m    480\u001b[0m     Xt \u001b[38;5;241m=\u001b[39m transform\u001b[38;5;241m.\u001b[39mtransform(Xt)\n\u001b[0;32m--> 481\u001b[0m \u001b[38;5;28;01mreturn\u001b[39;00m \u001b[38;5;28mself\u001b[39m\u001b[38;5;241m.\u001b[39msteps[\u001b[38;5;241m-\u001b[39m\u001b[38;5;241m1\u001b[39m][\u001b[38;5;241m1\u001b[39m]\u001b[38;5;241m.\u001b[39mpredict(Xt, \u001b[38;5;241m*\u001b[39m\u001b[38;5;241m*\u001b[39mpredict_params)\n",
      "File \u001b[0;32m~/anaconda3/lib/python3.11/site-packages/sklearn/linear_model/_base.py:419\u001b[0m, in \u001b[0;36mLinearClassifierMixin.predict\u001b[0;34m(self, X)\u001b[0m\n\u001b[1;32m    405\u001b[0m \u001b[38;5;124;03m\"\"\"\u001b[39;00m\n\u001b[1;32m    406\u001b[0m \u001b[38;5;124;03mPredict class labels for samples in X.\u001b[39;00m\n\u001b[1;32m    407\u001b[0m \n\u001b[0;32m   (...)\u001b[0m\n\u001b[1;32m    416\u001b[0m \u001b[38;5;124;03m    Vector containing the class labels for each sample.\u001b[39;00m\n\u001b[1;32m    417\u001b[0m \u001b[38;5;124;03m\"\"\"\u001b[39;00m\n\u001b[1;32m    418\u001b[0m xp, _ \u001b[38;5;241m=\u001b[39m get_namespace(X)\n\u001b[0;32m--> 419\u001b[0m scores \u001b[38;5;241m=\u001b[39m \u001b[38;5;28mself\u001b[39m\u001b[38;5;241m.\u001b[39mdecision_function(X)\n\u001b[1;32m    420\u001b[0m \u001b[38;5;28;01mif\u001b[39;00m \u001b[38;5;28mlen\u001b[39m(scores\u001b[38;5;241m.\u001b[39mshape) \u001b[38;5;241m==\u001b[39m \u001b[38;5;241m1\u001b[39m:\n\u001b[1;32m    421\u001b[0m     indices \u001b[38;5;241m=\u001b[39m xp\u001b[38;5;241m.\u001b[39mastype(scores \u001b[38;5;241m>\u001b[39m \u001b[38;5;241m0\u001b[39m, \u001b[38;5;28mint\u001b[39m)\n",
      "File \u001b[0;32m~/anaconda3/lib/python3.11/site-packages/sklearn/linear_model/_base.py:400\u001b[0m, in \u001b[0;36mLinearClassifierMixin.decision_function\u001b[0;34m(self, X)\u001b[0m\n\u001b[1;32m    397\u001b[0m check_is_fitted(\u001b[38;5;28mself\u001b[39m)\n\u001b[1;32m    398\u001b[0m xp, _ \u001b[38;5;241m=\u001b[39m get_namespace(X)\n\u001b[0;32m--> 400\u001b[0m X \u001b[38;5;241m=\u001b[39m \u001b[38;5;28mself\u001b[39m\u001b[38;5;241m.\u001b[39m_validate_data(X, accept_sparse\u001b[38;5;241m=\u001b[39m\u001b[38;5;124m\"\u001b[39m\u001b[38;5;124mcsr\u001b[39m\u001b[38;5;124m\"\u001b[39m, reset\u001b[38;5;241m=\u001b[39m\u001b[38;5;28;01mFalse\u001b[39;00m)\n\u001b[1;32m    401\u001b[0m scores \u001b[38;5;241m=\u001b[39m safe_sparse_dot(X, \u001b[38;5;28mself\u001b[39m\u001b[38;5;241m.\u001b[39mcoef_\u001b[38;5;241m.\u001b[39mT, dense_output\u001b[38;5;241m=\u001b[39m\u001b[38;5;28;01mTrue\u001b[39;00m) \u001b[38;5;241m+\u001b[39m \u001b[38;5;28mself\u001b[39m\u001b[38;5;241m.\u001b[39mintercept_\n\u001b[1;32m    402\u001b[0m \u001b[38;5;28;01mreturn\u001b[39;00m xp\u001b[38;5;241m.\u001b[39mreshape(scores, \u001b[38;5;241m-\u001b[39m\u001b[38;5;241m1\u001b[39m) \u001b[38;5;28;01mif\u001b[39;00m scores\u001b[38;5;241m.\u001b[39mshape[\u001b[38;5;241m1\u001b[39m] \u001b[38;5;241m==\u001b[39m \u001b[38;5;241m1\u001b[39m \u001b[38;5;28;01melse\u001b[39;00m scores\n",
      "File \u001b[0;32m~/anaconda3/lib/python3.11/site-packages/sklearn/base.py:588\u001b[0m, in \u001b[0;36mBaseEstimator._validate_data\u001b[0;34m(self, X, y, reset, validate_separately, **check_params)\u001b[0m\n\u001b[1;32m    585\u001b[0m     out \u001b[38;5;241m=\u001b[39m X, y\n\u001b[1;32m    587\u001b[0m \u001b[38;5;28;01mif\u001b[39;00m \u001b[38;5;129;01mnot\u001b[39;00m no_val_X \u001b[38;5;129;01mand\u001b[39;00m check_params\u001b[38;5;241m.\u001b[39mget(\u001b[38;5;124m\"\u001b[39m\u001b[38;5;124mensure_2d\u001b[39m\u001b[38;5;124m\"\u001b[39m, \u001b[38;5;28;01mTrue\u001b[39;00m):\n\u001b[0;32m--> 588\u001b[0m     \u001b[38;5;28mself\u001b[39m\u001b[38;5;241m.\u001b[39m_check_n_features(X, reset\u001b[38;5;241m=\u001b[39mreset)\n\u001b[1;32m    590\u001b[0m \u001b[38;5;28;01mreturn\u001b[39;00m out\n",
      "File \u001b[0;32m~/anaconda3/lib/python3.11/site-packages/sklearn/base.py:389\u001b[0m, in \u001b[0;36mBaseEstimator._check_n_features\u001b[0;34m(self, X, reset)\u001b[0m\n\u001b[1;32m    386\u001b[0m     \u001b[38;5;28;01mreturn\u001b[39;00m\n\u001b[1;32m    388\u001b[0m \u001b[38;5;28;01mif\u001b[39;00m n_features \u001b[38;5;241m!=\u001b[39m \u001b[38;5;28mself\u001b[39m\u001b[38;5;241m.\u001b[39mn_features_in_:\n\u001b[0;32m--> 389\u001b[0m     \u001b[38;5;28;01mraise\u001b[39;00m \u001b[38;5;167;01mValueError\u001b[39;00m(\n\u001b[1;32m    390\u001b[0m         \u001b[38;5;124mf\u001b[39m\u001b[38;5;124m\"\u001b[39m\u001b[38;5;124mX has \u001b[39m\u001b[38;5;132;01m{\u001b[39;00mn_features\u001b[38;5;132;01m}\u001b[39;00m\u001b[38;5;124m features, but \u001b[39m\u001b[38;5;132;01m{\u001b[39;00m\u001b[38;5;28mself\u001b[39m\u001b[38;5;241m.\u001b[39m\u001b[38;5;18m__class__\u001b[39m\u001b[38;5;241m.\u001b[39m\u001b[38;5;18m__name__\u001b[39m\u001b[38;5;132;01m}\u001b[39;00m\u001b[38;5;124m \u001b[39m\u001b[38;5;124m\"\u001b[39m\n\u001b[1;32m    391\u001b[0m         \u001b[38;5;124mf\u001b[39m\u001b[38;5;124m\"\u001b[39m\u001b[38;5;124mis expecting \u001b[39m\u001b[38;5;132;01m{\u001b[39;00m\u001b[38;5;28mself\u001b[39m\u001b[38;5;241m.\u001b[39mn_features_in_\u001b[38;5;132;01m}\u001b[39;00m\u001b[38;5;124m features as input.\u001b[39m\u001b[38;5;124m\"\u001b[39m\n\u001b[1;32m    392\u001b[0m     )\n",
      "\u001b[0;31mValueError\u001b[0m: X has 14 features, but LogisticRegression is expecting 18 features as input."
     ]
    }
   ],
   "source": [
    "# Hasil best estimator untuk Logistic Regression \n",
    "performance_checker(best_ori_log, X_train_ori_pca, y_train,X_test_ori_pca, y_test)"
   ]
  },
  {
   "cell_type": "markdown",
   "metadata": {},
   "source": [
    "### **INSIGHT:**\n",
    "- Untuk setiap model (Logistic Regression, SVM, KNN), dibuat model baseline tanpa pipeline (seadanya, mengikuti default, dan hyperparameter simple) dan model dengan pipeline (hyperparameter diset dan dicari yang paling optimal). \n",
    "\n",
    "- Tujuan dari pemisahan model tanpa pipeline dan berpipeline adalah untuk membandingkan robustness model melalui peningkatan f1 - score pada setiap jenis model apabila pipeline digunakan.\n",
    "\n",
    "- Hasil akan dibandingkan berdasarkan tipe model:\n",
    "    - Logistic Regression\n",
    "        - Bila pipeline tidak digunakan, model kurang konsisten dalam menangani kasus penentuan default pada nasabah (default_payment_next_month = 1) karena n f1 - score dari training set lebih tinggi daripada test set (43% turun menjadi 11%).\n",
    "        \n",
    "        - Sedangkan, setelah pipeline dengan hyperparameter tuning dilakukan, model menjadi lebih konsisten dalam menangani kasus penentuan default pada nasabah (default_payment_next_month = 1) karena n f1 - score dari training set kurang lebih sama dengan test set (52% naik menjadi 54%) dengan performa moderat (f1 - score >= 50%).\n",
    "    - SVM\n",
    "        - Jika pipeline tidak digunakan, model memiliki kemampuan moderat cenderung kurang baik dalam menangani kasus baik penentuan default pada nasabah (default_payment_next_month = 1) maupun tidak kena default (default_payment_next_month = 0). Nilai f1 - score dari training set dan test set sama-sama berkisar di 50% untuk kasus non-default. Sedangkan, f1 - score dari training set dan test set pada kasus kena default adalah 30%.\n",
    "\n",
    "        - Setelah pipeline dengan hyperparameter tuning dilakukan, model mengalami peningkatan performa dan konsistensi dalam menangani kasus penentuan default pada nasabah (default_payment_next_month = 1) serta kasus non-default. Hal ini tercermin melalui nilai f1 - score untuk kasus kena default dari training set kurang lebih sama dengan test set (59% turun menjadi 53%). Lalu, penanganan kasus tidak kena default baik karena f1 - score mendekati 1 baik untuk training set sama dengan test set (sama-sama 91%).\n",
    "\n",
    "    - KNN\n",
    "        -Kalau pipeline tidak digunakan, model memiliki kemampuan kurang baik dalam penentuan default pada nasabah (default_payment_next_month = 1), tetapi baik untuk kasus tidak kena default (default_payment_next_month = 0). Nilai f1 - score untuk kasus tidak kena default dari training set dan test set mendekati 1. Namun, f1 - score untuk kasus kena default dari training set mengalami penurunan saat diuji di test set (69% menjadi 39%).\n",
    "\n",
    "        - Selanjutnya, penggunaan pipeline dengan hyperparameter tuning hanya memberi sedikit peningkatan pada f1 - score untuk kasus kena default dari segi kedekatan nilai train set dan test set (44% dan 34%). Tetapi, performa model secara garis besar tetap serupa dan kurang baik.\n",
    "\n",
    "- Salah satu model SVM yang memiliki hyperparameter: 'svm__C': 10, 'svm__class_weight': {0: 1.5, 1: 2.5}, 'svm__gamma': 0.01, 'svm__kernel': 'rbf' dipiih sebagai model terbaik dalam studi ini karena memiliki f1 - score tertinggi baik untuk penanganan kasus tidak kena maupun kena default."
   ]
  },
  {
   "cell_type": "code",
   "execution_count": null,
   "metadata": {},
   "outputs": [],
   "source": [
    "# # get the relevant variables\n",
    "# y_true = y_test\n",
    "\n",
    "# # extract the probability of class 1\n",
    "# y_pred_proba_log = best_undersampled_log.predict_proba(X_test)[:,1]\n",
    "# y_pred_proba_log2 = best_oversampled_log.predict_proba(X_test)[:,1]\n",
    "# y_pred_proba_log3 = best_ori_log.predict_proba(X_test)[:,1]\n",
    "\n",
    "\n",
    "# # Calculate the ROC curve\n",
    "# fpr_log,tpr_log, thresholds_log = roc_curve(y_true, y_pred_proba_log)\n",
    "# fpr_log2,tpr_log2, thresholds_log = roc_curve(y_true, y_pred_proba_log2)\n",
    "# fpr_log3,tpr_log3, thresholds_knn = roc_curve(y_true, y_pred_proba_log3)\n",
    "\n",
    "\n",
    "# # Find the ROC-AUC score\n",
    "# roc_auc_val_log = roc_auc_score(y_true, y_pred_proba_log)\n",
    "# roc_auc_val_svm = roc_auc_score(y_true, y_pred_proba_svm)\n",
    "# # roc_auc_val_knn = roc_auc_score(y_true, y_pred_proba_knn)\n",
    "\n",
    "\n",
    "\n",
    "# # Make the plot\n",
    "# plt.figure(figsize=(8,8))\n",
    "# plt.plot(fpr_log,tpr_log, color = 'lightblue', lw=2, label =f'ROC Curve (AUC of Logistic Regression = {roc_auc_val_log:.2f})')\n",
    "# plt.plot(fpr_svm,tpr_svm, color = 'pink', lw=2, label =f'ROC Curve (AUC of SVC = {roc_auc_val_svm:.2f})')\n",
    "# plt.plot(fpr_knn,tpr_knn, color = 'lightgrey', lw=2, label =f'ROC Curve (AUC of KNN = {roc_auc_val_knn:.2f})')\n",
    "\n",
    "\n",
    "# plt.plot([0,1],[0,1],color = 'gray',linestyle='--')\n",
    "# plt.xlim([0.0,1.0])\n",
    "# plt.ylim([0.0,1.05])\n",
    "# plt.xlabel('False Positive Rate (FPR)')\n",
    "# plt.ylabel('True Positive Rate (TPR)')\n",
    "# plt.legend(loc='lower right')\n",
    "# plt.show()"
   ]
  },
  {
   "cell_type": "markdown",
   "metadata": {},
   "source": [
    "# **10. MODEL SAVING**"
   ]
  },
  {
   "cell_type": "code",
   "execution_count": 43,
   "metadata": {},
   "outputs": [],
   "source": [
    "# # Menyimpan file berkaitan dengan model terbaik serta metode scaling\n",
    "\n",
    "# # with open('model.pkl', 'wb') as file_1:\n",
    "#   pickle.dump(best_estimator_svm, file_1)\n",
    "\n",
    "# with open('model_scaler.pkl', 'wb') as file_2:\n",
    "#   pickle.dump(scaler_fx, file_2)"
   ]
  },
  {
   "cell_type": "markdown",
   "metadata": {},
   "source": [
    "# **11. MODEL INFERENCE**\n",
    "\n",
    "- Menyiapkan data baru untuk tes performa model."
   ]
  },
  {
   "cell_type": "markdown",
   "metadata": {},
   "source": [
    "### Proses Persiapan Inference Data Sampai Pemodelan"
   ]
  },
  {
   "cell_type": "code",
   "execution_count": 50,
   "metadata": {},
   "outputs": [
    {
     "data": {
      "text/html": [
       "<div>\n",
       "<style scoped>\n",
       "    .dataframe tbody tr th:only-of-type {\n",
       "        vertical-align: middle;\n",
       "    }\n",
       "\n",
       "    .dataframe tbody tr th {\n",
       "        vertical-align: top;\n",
       "    }\n",
       "\n",
       "    .dataframe thead th {\n",
       "        text-align: right;\n",
       "    }\n",
       "</style>\n",
       "<table border=\"1\" class=\"dataframe\">\n",
       "  <thead>\n",
       "    <tr style=\"text-align: right;\">\n",
       "      <th></th>\n",
       "      <th>sex</th>\n",
       "      <th>education_level</th>\n",
       "      <th>marital_status</th>\n",
       "      <th>limit_balance</th>\n",
       "      <th>pay_0</th>\n",
       "      <th>pay_2</th>\n",
       "      <th>pay_3</th>\n",
       "      <th>pay_4</th>\n",
       "      <th>pay_5</th>\n",
       "      <th>pay_6</th>\n",
       "      <th>...</th>\n",
       "      <th>bill_amt_4</th>\n",
       "      <th>bill_amt_5</th>\n",
       "      <th>bill_amt_6</th>\n",
       "      <th>pay_amt_1</th>\n",
       "      <th>pay_amt_2</th>\n",
       "      <th>pay_amt_3</th>\n",
       "      <th>pay_amt_4</th>\n",
       "      <th>pay_amt_5</th>\n",
       "      <th>pay_amt_6</th>\n",
       "      <th>default_payment_next_month</th>\n",
       "    </tr>\n",
       "  </thead>\n",
       "  <tbody>\n",
       "    <tr>\n",
       "      <th>0</th>\n",
       "      <td>1</td>\n",
       "      <td>3</td>\n",
       "      <td>2</td>\n",
       "      <td>8500</td>\n",
       "      <td>-1</td>\n",
       "      <td>2</td>\n",
       "      <td>-1</td>\n",
       "      <td>-1</td>\n",
       "      <td>3</td>\n",
       "      <td>-1</td>\n",
       "      <td>...</td>\n",
       "      <td>240</td>\n",
       "      <td>150</td>\n",
       "      <td>50</td>\n",
       "      <td>100</td>\n",
       "      <td>200</td>\n",
       "      <td>100</td>\n",
       "      <td>200</td>\n",
       "      <td>0</td>\n",
       "      <td>240</td>\n",
       "      <td>0</td>\n",
       "    </tr>\n",
       "    <tr>\n",
       "      <th>1</th>\n",
       "      <td>0</td>\n",
       "      <td>4</td>\n",
       "      <td>1</td>\n",
       "      <td>9000</td>\n",
       "      <td>2</td>\n",
       "      <td>2</td>\n",
       "      <td>-1</td>\n",
       "      <td>3</td>\n",
       "      <td>-1</td>\n",
       "      <td>2</td>\n",
       "      <td>...</td>\n",
       "      <td>125</td>\n",
       "      <td>200</td>\n",
       "      <td>80</td>\n",
       "      <td>200</td>\n",
       "      <td>200</td>\n",
       "      <td>800</td>\n",
       "      <td>125</td>\n",
       "      <td>100</td>\n",
       "      <td>60</td>\n",
       "      <td>1</td>\n",
       "    </tr>\n",
       "  </tbody>\n",
       "</table>\n",
       "<p>2 rows × 23 columns</p>\n",
       "</div>"
      ],
      "text/plain": [
       "   sex  education_level  marital_status  limit_balance  pay_0  pay_2  pay_3  \\\n",
       "0    1                3               2           8500     -1      2     -1   \n",
       "1    0                4               1           9000      2      2     -1   \n",
       "\n",
       "   pay_4  pay_5  pay_6  ...  bill_amt_4  bill_amt_5  bill_amt_6  pay_amt_1  \\\n",
       "0     -1      3     -1  ...         240         150          50        100   \n",
       "1      3     -1      2  ...         125         200          80        200   \n",
       "\n",
       "   pay_amt_2  pay_amt_3  pay_amt_4  pay_amt_5  pay_amt_6  \\\n",
       "0        200        100        200          0        240   \n",
       "1        200        800        125        100         60   \n",
       "\n",
       "   default_payment_next_month  \n",
       "0                           0  \n",
       "1                           1  \n",
       "\n",
       "[2 rows x 23 columns]"
      ]
     },
     "execution_count": 50,
     "metadata": {},
     "output_type": "execute_result"
    }
   ],
   "source": [
    "# create new dataset\n",
    "inference_data = {'sex': [1,0],'education_level':[3,4],'marital_status':[2,1],'limit_balance':[8500,9000],'pay_0':[-1,2],'pay_2':[2,2],'pay_3':[-1,-1],'pay_4':[-1,3],'pay_5':[3,-1],'pay_6':[-1,2],'bill_amt_1':[1200,250],'bill_amt_2':[150,300],'bill_amt_3':[1000,1200],'bill_amt_4':[240,125],'bill_amt_5':[150,200],'bill_amt_6':[50,80], 'pay_amt_1':[100,200],'pay_amt_2':[200,200],'pay_amt_3':[100,800],'pay_amt_4':[200,125],'pay_amt_5':[0,100],'pay_amt_6':[240,60],'default_payment_next_month':[0,1]}\n",
    "\n",
    "inference_df = pd.DataFrame(inference_data)\n",
    "\n",
    "inference_df"
   ]
  },
  {
   "cell_type": "code",
   "execution_count": 51,
   "metadata": {},
   "outputs": [],
   "source": [
    "# define X and y\n",
    "X_inf = inference_df.drop('default_payment_next_month',axis = 1)\n",
    "y_inf = inference_df['default_payment_next_month']"
   ]
  },
  {
   "cell_type": "code",
   "execution_count": 52,
   "metadata": {},
   "outputs": [],
   "source": [
    "# scaled using standardscaler()\n",
    "X_inf_scaled =scaler_fx.transform(X_inf)"
   ]
  },
  {
   "cell_type": "code",
   "execution_count": 53,
   "metadata": {},
   "outputs": [
    {
     "name": "stdout",
     "output_type": "stream",
     "text": [
      "Train Set:\n",
      "              precision    recall  f1-score   support\n",
      "\n",
      "           0       1.00      1.00      1.00         1\n",
      "           1       1.00      1.00      1.00         1\n",
      "\n",
      "    accuracy                           1.00         2\n",
      "   macro avg       1.00      1.00      1.00         2\n",
      "weighted avg       1.00      1.00      1.00         2\n",
      "\n",
      "Test Set:\n",
      "              precision    recall  f1-score   support\n",
      "\n",
      "           0       0.88      0.94      0.91       478\n",
      "           1       0.63      0.46      0.53       115\n",
      "\n",
      "    accuracy                           0.84       593\n",
      "   macro avg       0.75      0.70      0.72       593\n",
      "weighted avg       0.83      0.84      0.83       593\n",
      "\n"
     ]
    }
   ],
   "source": [
    "# Bandingkan hasil prediksi dari inference data dengan hasil test \n",
    "performance_checker(best_estimator_svm, X_inf, y_inf,X_test, y_test)"
   ]
  },
  {
   "cell_type": "markdown",
   "metadata": {},
   "source": [
    "### **INSIGHT:**\n",
    "- Bila model dihadapkan dengan dataset yang balanced, maka kemampuan model untuk memutuskan apakah nasabah kena default atau tidak menjadi sempurna karena nilai f1 - score untuk tidak kena default (0) dan kena default (1) hasilnya adalah 1.\n",
    "\n",
    "- Bisa dilihat, bila dibanding dengan test set, model inference menunjukkan konsistensi dalam memprediksi keputusan kena default atau tidak dengan performa lebih baik. Hal ini karena test set memiliki jumlah data dengan kasus tidak kena default (0) lebih banyak daripada yang kena default (1) sehingga prediksi model pada kasus default (1) tidak sebaik dengan kasus non-default (0)."
   ]
  },
  {
   "cell_type": "markdown",
   "metadata": {},
   "source": [
    "# **12. CONCLUSION**\n",
    "- Kesimpulan EDA, Evaluasi Model, Analysis Model, Ide Peningkatan Model"
   ]
  },
  {
   "cell_type": "markdown",
   "metadata": {},
   "source": [
    "## <u>Menjawab Conceptual Problems</u>"
   ]
  },
  {
   "cell_type": "markdown",
   "metadata": {},
   "source": [
    "1. Apakah yang dimaksud dengan coefficient pada logistic regression?\n",
    "    - coefficient pada logistic regression melambangkan hubungan antara feature dengan kemungkinan suatu event dari variabel dependen. Logistic regression menggunakan fungsi logit untuk memetakan kemungkinan kejadian yang terjadi pada nilai bilangan nyata (real) sehingga analisis regresi dapat dilakukan.\n",
    "\n",
    "2. Apakah fungsi parameter kernel pada SVM? Jelaskan salah satu kernel yang kalian pahami!\n",
    "    - Kernel adalah sebuah fungsi untuk meningkatkan dimensi feature data ke tingkat yang lebih tinggi dengan membuat decision boundaries. Tujuan dari pengubahan ini adalah untuk membuat pemisahan linear dan klasifikasi dataset lebih mudah.\n",
    "    - Salah satu jenis kernel yang tersedia pada SVM adalah RBF. RBF adalah jenis kernel yang paling versatile karena RBF tidak memerlukan pengetahuan mengenai distribusi data sehingga class non-linear dapat dipisahkan dengan baik meskipun data memiliki variasi tinggi dan outlier. Namun, kernel ini membuat model menjadi complex sehingga memakan waktu lebih lama dibanding kernel lainnya.\n",
    "\n",
    "3. Bagaimana cara memilih K yang optimal pada KNN ?\n",
    "    - Pemilihan nilai K yang optimal pada KKN dapat dilakukan dengan menggunakan metode GridSearchCV (cross validation search) di mana data dibagi dalam k-folds dan dilatih sebanyak k kali. Kemudian, performa model dapat diukur dengan metrik klasifikasi seperti accuracy, f1 - score.\n",
    "\n",
    "4. Apa yang dimaksud dengan metrics-metrics berikut : Accuracy, Precision, Recall, F1 Score, dan kapan waktu yang tepat untuk menggunakannya ?\n",
    "    - Accuracy => metrik untuk mengukur seberapa akurat prediksi model kita dari skala 1 sampai 100%. Akurasi diukur dari rasio antara jumlah prediksi yang tepat / jumlah data. Metrik ini hanya bisa dipakai bila class datanya seimbang.\n",
    "    - Precision/Positive Predictive Value => metrik untuk mengukur seberapa benar hasil prediksi untuk kelas positif. Precision diukur dari rasio antara jumlah data positive yang benar dan jumlah data yang dinyatakan positif oleh model. Cocok ketika ingin nmenurunkan jumlah data False Positive.\n",
    "    - Recall/ Sensitivity/ True Positive Rate (TPR) => metrik untuk mengukur seberapa sering model mendeteksi nilai positif yang benar dari seluruh jumlah data positif sebenarnya yang ada di model. Cocok untuk menurunkan jumlah data False Negative.\n",
    "    - F1 score => penggabungan konsep precision dan recall yang berarti mempertimbangkan pentingnya jumlah data False Positive dan False Negative. Cocok bila ingin menurunkan jumlah False detection serta untuk class yang balanced maupun imbalanced; lebih robust daripada accuracy."
   ]
  },
  {
   "cell_type": "markdown",
   "metadata": {},
   "source": [
    "## <u>EDA</u>"
   ]
  },
  {
   "cell_type": "markdown",
   "metadata": {},
   "source": [
    "Insights dari bar graph mengenai jumlah karyawan berdasarkan gender:\n",
    "- Hasil bar graph menunjukkan bahwa jumlah nasabah wanita (Female) lebih banyak daripada pria (Male). Perbedaan jumlah nasabah wanita dan pria adalah 1802-1163 = 639 nasabah.\n",
    "\n",
    "Insights dari boxplot, descriptive statistics, dan ANOVA test dalam mempelajari hubungan antara gender dan limit_balance:\n",
    "\n",
    "- Hasil  statistika deskriptif dan boxplot, terlihat lebih jelas bahwa limit_balance tiap gender memiliki rata-rata, nilai kuartil, dan distribusi data non-outlier yang serupa (dari 10000 - 500000). Akan tetapi, jumlah outlier limit_balance pada kategori Female lebih banyak daripada Male.\n",
    "\n",
    "- Hasil ANOVA test menyatakan bahwa jumlah limit_balance berbeda berdasarkan gender karena p-value = 0."
   ]
  },
  {
   "cell_type": "markdown",
   "metadata": {},
   "source": [
    "## <u>Model Evaluation and Analysis</u>"
   ]
  },
  {
   "cell_type": "markdown",
   "metadata": {},
   "source": [
    "- Berdasarkan hasil analysis pada bagian model evaluation, disimpulkan bahwa pipeline dapat membantu meningkatkan performa model. Penggunaan pipeline membantu penyediaan hyperparameter tuning yang beragam pada setiap model, kemudian model dengan hyperparameter terbaik dapat dipilih untuk fitting.\n",
    "\n",
    "- Secara umum, semua model (kecuali SVM tanpa hyperparameter tuning) mampu memprediksi kasus nasabah tidak kena default dengan baik karena nilai f1 - score mendekati 1 baik untuk train set maupun test set. Namun, model-model tanpa hyperparameter tuning yang disimpan dalam pipeline memiliki masalah prediksi kasus nasabah kena default karena f1 - score train set lebih tinggi daripada f1 - score test set dan nilainya di bawah 50% (kurang dari moderat).\n",
    "\n",
    "- Tapi, model-model yang mengalami peningkatan signifikan berdasarkan nilai f1 - score untuk kasus prediksi nasabah kena default dengan hyperparameter tuning adalah SVM (paling baik) dan Logistic Regression. Meskipun f1 - score kedua model ini bersifat moderat (sekita 50%), namun, sifat model lebih konsisten saat ditest dengan test set dibandingkan model tanpa hyperparameter tuning.\n",
    "\n",
    "- Di sisi lain, model KNN dengan hyperparameter tuning masih memiliki masalah prediksi kasus nasabah kena default karena f1 - score masih di bawah 50% baik untuk train dan test set. Dibanding model lain, KNN dianggap kurang cocok untuk model prediksi ketentuan default pada nasabah karena performa yang kurang baik."
   ]
  },
  {
   "cell_type": "markdown",
   "metadata": {},
   "source": [
    "## <u>Peningkatan Model</u>"
   ]
  },
  {
   "cell_type": "markdown",
   "metadata": {},
   "source": [
    "- Karena dataset imbalanced (mayoritas data dengan kasus tidak kena default), maka teknik resampling dengan oversampling class minoritas dapat dipertimbangkan. Namun, harus berhati-hati karena dapat membuat data bias dan kehilangan informasi berharga dari dataset.\n",
    "\n",
    "- Penanganan outlier dapat dilakukan sehingga model bisa semakin konsisten dengan membuat generalisasi yang lebih baik, terutama saat menangani data baru (unseen data).\n",
    "\n",
    "- Memahami domain knowledge berkait kasus default dengan mencari tahu feature yang lebih relevan untuk model."
   ]
  }
 ],
 "metadata": {
  "kernelspec": {
   "display_name": "base",
   "language": "python",
   "name": "python3"
  },
  "language_info": {
   "codemirror_mode": {
    "name": "ipython",
    "version": 3
   },
   "file_extension": ".py",
   "mimetype": "text/x-python",
   "name": "python",
   "nbconvert_exporter": "python",
   "pygments_lexer": "ipython3",
   "version": "3.11.5"
  }
 },
 "nbformat": 4,
 "nbformat_minor": 2
}
