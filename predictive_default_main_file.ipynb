{
 "cells": [
  {
   "cell_type": "markdown",
   "metadata": {},
   "source": [
    "# **1. INTRODUCTION**"
   ]
  },
  {
   "cell_type": "markdown",
   "metadata": {},
   "source": [
    "---\n",
    "# <center>**CreditGuide: Your Trustworthy Defaulter Detector**</center>\n",
    "\n",
    "\n",
    "#### <center>by Catherine Helenna Mulyadi</center>\n",
    "\n",
    "---\n",
    "\n",
    "Tujuan dari program ini adalah untuk membuat model klasifikasi default_payment_next_month berdasarkan dataset yang disediakan. Dataset yang akan digunakan berasal dari Google BigQuery Public Dataset dengan tabel credit_card_default. Dataset dapat diakses dengan membuka tab `bigquery-public-data` => `ml_datasets` => `credit_card_default`.\n",
    "\n",
    "Di dalam tabel ini, terdapat beberapa informasi penting terkait informasi transaksi yang dilakukan oleh pengguna kartu kredit. Informasi tersebut meliputi sex, limit_balance, education_level,marital_status, tingkat payment delay (pay_angka), jumlah amount of bill statement (amt), dan default_payment_next_month (dinyatakan tidak membayar tagihan kredit tepat waktu atau tidak).\n",
    "\n",
    "Informasi tambahan berkaitan default payment: bila nasabah dinyatakan default oleh bank, maka nasabah dapat dikenakan penalti pembayaran tambahan, peningkatan bunga utang, nilai negatif pada skor kredit (jadi makin sulit untuk meminjam uang), dan penyitaan aset.\n",
    "\n",
    "---\n"
   ]
  },
  {
   "cell_type": "markdown",
   "metadata": {},
   "source": [
    "### <center>**Informasi mengenai data tiap kolom dari dataset**</center>\n",
    "---\n",
    "\n",
    "- limit_balance\t(Amount of given credit in NT dollars (includes individual and family/supplementary credit))\n",
    "- sex\t(Gender (1=male, 2=female))\n",
    "- education_level\t(Education Level (1=graduate school, 2=university, 3=high school, 4=others, 5=unknown, 6=unknown))\n",
    "- marital_status (Marital status (1=married, 2=single, 3=others))\n",
    "- age\t(Age in years)\n",
    "- pay_0 (Repayment status in September, 2005 (-1=pay duly=> atau sesuai tenggat waktu, 1=payment delay for one month, 2=payment delay for two months, ... 8=payment delay for eight months, 9=payment delay for nine months and above))\n",
    "- pay_2\t(Repayment status in August, 2005 (scale same as above))\n",
    "- pay_3\t(Repayment status in July, 2005 (scale same as above))\n",
    "- pay_4\t(Repayment status in June, 2005 (scale same as above))\n",
    "- pay_5\t(Repayment status in May, 2005 (scale same as above))\n",
    "- pay_6\t(Repayment status in April, 2005 (scale same as above))\n",
    "- bill_amt_1\t(Amount of bill statement in September, 2005 (NT dollar))\n",
    "- bill_amt_2\t(Amount of bill statement in August, 2005 (NT dollar))\n",
    "- bill_amt_3\t(Amount of bill statement in July, 2005 (NT dollar))\n",
    "- bill_amt_4\t(Amount of bill statement in June, 2005 (NT dollar))\n",
    "- bill_amt_5\t(Amount of bill statement in May, 2005 (NT dollar))\n",
    "- bill_amt_6\t(Amount of bill statement in April, 2005 (NT dollar))\n",
    "- pay_amt_1\t(Amount of previous payment in September, 2005 (NT dollar))\n",
    "- pay_amt_2\t(Amount of previous payment in August, 2005 (NT dollar))\n",
    "- pay_amt_3\t(Amount of previous payment in July, 2005 (NT dollar))\n",
    "- pay_amt_4\t(Amount of previous payment in June, 2005 (NT dollar))\n",
    "- pay_amt_5\t(Amount of previous payment in May, 2005 (NT dollar))\n",
    "- pay_amt_6\t(Amount of previous payment in April, 2005 (NT dollar))\n",
    "- default_payment_next_month\tDefault payment (1=yes, 0=no)\n"
   ]
  },
  {
   "cell_type": "markdown",
   "metadata": {},
   "source": [
    "======================================================================================================================================================================================================================================"
   ]
  },
  {
   "cell_type": "markdown",
   "metadata": {},
   "source": [
    "# 2. **QUERY SQL**"
   ]
  },
  {
   "cell_type": "markdown",
   "metadata": {},
   "source": [
    "## Proses Pengambilan Data Menggunakan Big Query"
   ]
  },
  {
   "cell_type": "markdown",
   "metadata": {},
   "source": [
    "```sql\n",
    "----------------------------------------------------------------------\n",
    "--                INISIASI KONEKSI KE BIG QUERY\n",
    "----------------------------------------------------------------------\n",
    "from google.colab import auth\n",
    "from google.cloud import bigquery\n",
    "auth.authenticate_user()\n",
    "print('Authenticated')\n",
    "\n",
    "project_id_akun = \"project1-sql-ngc-6\" -- menggunakan project id sendiri\n",
    "client = bigquery.Client(project=project_id_akun)\n",
    "\n",
    "----------------------------------------------------------------------\n",
    "--    QUERY UNTUK PENGAMBILAN DATA SESUAI FORMAT YANG DIMINTA\n",
    "----------------------------------------------------------------------\n",
    "\n",
    "df = client.query('''\n",
    "SELECT\n",
    "  CAST(sex AS INTEGER) AS sex,\n",
    "  CAST(education_level AS INTEGER) AS education_level,\n",
    "  CAST(marital_status AS INTEGER) AS marital_status,\n",
    "  limit_balance,\n",
    "  pay_0,\n",
    "  pay_2,\n",
    "  pay_3,\n",
    "  pay_4,\n",
    "  CAST(pay_5 AS FLOAT64) AS pay_5,\n",
    "  CAST(pay_6 AS FLOAT64) AS pay_6,\n",
    "  bill_amt_1,\n",
    "  bill_amt_2,\n",
    "  bill_amt_3,\n",
    "  bill_amt_4,\n",
    "  bill_amt_5,\n",
    "  bill_amt_6,\n",
    "  pay_amt_1,\n",
    "  pay_amt_2,\n",
    "  pay_amt_3,\n",
    "  pay_amt_4,\n",
    "  pay_amt_5,\n",
    "  pay_amt_6,\n",
    "  CAST(default_payment_next_month AS INTEGER) AS default_payment_next_month\n",
    "FROM `bigquery-public-data.ml_datasets.credit_card_default`\n",
    "LIMIT 54000\n",
    "WHERE ''').to_dataframe()\n",
    "```"
   ]
  },
  {
   "cell_type": "markdown",
   "metadata": {},
   "source": [
    "## Query Untuk Menunjukkan Data 10 teratas dan 10 terbawah"
   ]
  },
  {
   "cell_type": "markdown",
   "metadata": {},
   "source": [
    "```sql\n",
    "--Mengambil data 10 teratas dan terbawah\n",
    "first_last_rows = ('''WITH numbered_rows AS (\n",
    "    SELECT\n",
    "        *,\n",
    "        ROW_NUMBER() OVER () AS row_number,\n",
    "        COUNT(*) OVER () AS sum_rows\n",
    "    FROM `bigquery-public-data.ml_datasets.credit_card_default`\n",
    ")\n",
    "SELECT *\n",
    "FROM numbered_rows\n",
    "WHERE row_number <= 10\n",
    "   OR row_number > (sum_rows - 10);''')\n",
    "\n",
    "\n",
    "--Menunjukkan hasil dalam bentuk dataframe\n",
    "first_last_rows_show = client.query(first_last_rows).to_dataframe()\n",
    "first_last_rows_show\n",
    "\n",
    "```"
   ]
  },
  {
   "cell_type": "markdown",
   "metadata": {},
   "source": [
    "# 3. **IMPORT LIBRARIES**"
   ]
  },
  {
   "cell_type": "code",
   "execution_count": 48,
   "metadata": {},
   "outputs": [],
   "source": [
    "# untuk EDA\n",
    "import pandas as pd\n",
    "import numpy as np\n",
    "import seaborn as sns\n",
    "import matplotlib.pyplot as plt\n",
    "from scipy import stats\n",
    "\n",
    "# untuk feature engineering\n",
    "from sklearn.model_selection import train_test_split\n",
    "from sklearn.preprocessing import StandardScaler\n",
    "\n",
    "# untuk model training\n",
    "from sklearn.pipeline import Pipeline\n",
    "from sklearn.model_selection import GridSearchCV\n",
    "from sklearn.svm import SVC\n",
    "from sklearn.neighbors import KNeighborsClassifier\n",
    "from sklearn.linear_model import LogisticRegression\n",
    "\n",
    "\n",
    "# untuk model evaluation\n",
    "from sklearn.metrics import classification_report\n",
    "from sklearn.metrics import roc_curve, roc_auc_score\n",
    "\n",
    "# untuk model saving\n",
    "import pickle"
   ]
  },
  {
   "cell_type": "markdown",
   "metadata": {},
   "source": [
    "# 4.**DATA LOADING**"
   ]
  },
  {
   "cell_type": "code",
   "execution_count": 2,
   "metadata": {},
   "outputs": [
    {
     "data": {
      "text/html": [
       "<div>\n",
       "<style scoped>\n",
       "    .dataframe tbody tr th:only-of-type {\n",
       "        vertical-align: middle;\n",
       "    }\n",
       "\n",
       "    .dataframe tbody tr th {\n",
       "        vertical-align: top;\n",
       "    }\n",
       "\n",
       "    .dataframe thead th {\n",
       "        text-align: right;\n",
       "    }\n",
       "</style>\n",
       "<table border=\"1\" class=\"dataframe\">\n",
       "  <thead>\n",
       "    <tr style=\"text-align: right;\">\n",
       "      <th></th>\n",
       "      <th>sex</th>\n",
       "      <th>education_level</th>\n",
       "      <th>marital_status</th>\n",
       "      <th>limit_balance</th>\n",
       "      <th>pay_0</th>\n",
       "      <th>pay_2</th>\n",
       "      <th>pay_3</th>\n",
       "      <th>pay_4</th>\n",
       "      <th>pay_5</th>\n",
       "      <th>pay_6</th>\n",
       "      <th>...</th>\n",
       "      <th>bill_amt_4</th>\n",
       "      <th>bill_amt_5</th>\n",
       "      <th>bill_amt_6</th>\n",
       "      <th>pay_amt_1</th>\n",
       "      <th>pay_amt_2</th>\n",
       "      <th>pay_amt_3</th>\n",
       "      <th>pay_amt_4</th>\n",
       "      <th>pay_amt_5</th>\n",
       "      <th>pay_amt_6</th>\n",
       "      <th>default_payment_next_month</th>\n",
       "    </tr>\n",
       "  </thead>\n",
       "  <tbody>\n",
       "    <tr>\n",
       "      <th>0</th>\n",
       "      <td>1</td>\n",
       "      <td>6</td>\n",
       "      <td>1</td>\n",
       "      <td>80000.0</td>\n",
       "      <td>0.0</td>\n",
       "      <td>0.0</td>\n",
       "      <td>0.0</td>\n",
       "      <td>0.0</td>\n",
       "      <td>0.0</td>\n",
       "      <td>0.0</td>\n",
       "      <td>...</td>\n",
       "      <td>29296.0</td>\n",
       "      <td>26210.0</td>\n",
       "      <td>17643.0</td>\n",
       "      <td>2545.0</td>\n",
       "      <td>2208.0</td>\n",
       "      <td>1336.0</td>\n",
       "      <td>2232.0</td>\n",
       "      <td>542.0</td>\n",
       "      <td>348.0</td>\n",
       "      <td>1</td>\n",
       "    </tr>\n",
       "    <tr>\n",
       "      <th>1</th>\n",
       "      <td>1</td>\n",
       "      <td>4</td>\n",
       "      <td>1</td>\n",
       "      <td>200000.0</td>\n",
       "      <td>0.0</td>\n",
       "      <td>0.0</td>\n",
       "      <td>0.0</td>\n",
       "      <td>0.0</td>\n",
       "      <td>0.0</td>\n",
       "      <td>0.0</td>\n",
       "      <td>...</td>\n",
       "      <td>50146.0</td>\n",
       "      <td>50235.0</td>\n",
       "      <td>48984.0</td>\n",
       "      <td>1689.0</td>\n",
       "      <td>2164.0</td>\n",
       "      <td>2500.0</td>\n",
       "      <td>3480.0</td>\n",
       "      <td>2500.0</td>\n",
       "      <td>3000.0</td>\n",
       "      <td>0</td>\n",
       "    </tr>\n",
       "    <tr>\n",
       "      <th>2</th>\n",
       "      <td>2</td>\n",
       "      <td>6</td>\n",
       "      <td>2</td>\n",
       "      <td>20000.0</td>\n",
       "      <td>0.0</td>\n",
       "      <td>0.0</td>\n",
       "      <td>0.0</td>\n",
       "      <td>0.0</td>\n",
       "      <td>0.0</td>\n",
       "      <td>0.0</td>\n",
       "      <td>...</td>\n",
       "      <td>1434.0</td>\n",
       "      <td>500.0</td>\n",
       "      <td>0.0</td>\n",
       "      <td>4641.0</td>\n",
       "      <td>1019.0</td>\n",
       "      <td>900.0</td>\n",
       "      <td>0.0</td>\n",
       "      <td>1500.0</td>\n",
       "      <td>0.0</td>\n",
       "      <td>1</td>\n",
       "    </tr>\n",
       "    <tr>\n",
       "      <th>3</th>\n",
       "      <td>2</td>\n",
       "      <td>4</td>\n",
       "      <td>2</td>\n",
       "      <td>260000.0</td>\n",
       "      <td>0.0</td>\n",
       "      <td>0.0</td>\n",
       "      <td>0.0</td>\n",
       "      <td>0.0</td>\n",
       "      <td>0.0</td>\n",
       "      <td>0.0</td>\n",
       "      <td>...</td>\n",
       "      <td>27821.0</td>\n",
       "      <td>30767.0</td>\n",
       "      <td>29890.0</td>\n",
       "      <td>5000.0</td>\n",
       "      <td>5000.0</td>\n",
       "      <td>1137.0</td>\n",
       "      <td>5000.0</td>\n",
       "      <td>1085.0</td>\n",
       "      <td>5000.0</td>\n",
       "      <td>0</td>\n",
       "    </tr>\n",
       "    <tr>\n",
       "      <th>4</th>\n",
       "      <td>1</td>\n",
       "      <td>4</td>\n",
       "      <td>2</td>\n",
       "      <td>150000.0</td>\n",
       "      <td>0.0</td>\n",
       "      <td>0.0</td>\n",
       "      <td>0.0</td>\n",
       "      <td>-1.0</td>\n",
       "      <td>0.0</td>\n",
       "      <td>0.0</td>\n",
       "      <td>...</td>\n",
       "      <td>150464.0</td>\n",
       "      <td>143375.0</td>\n",
       "      <td>146411.0</td>\n",
       "      <td>4019.0</td>\n",
       "      <td>146896.0</td>\n",
       "      <td>157436.0</td>\n",
       "      <td>4600.0</td>\n",
       "      <td>4709.0</td>\n",
       "      <td>5600.0</td>\n",
       "      <td>0</td>\n",
       "    </tr>\n",
       "    <tr>\n",
       "      <th>...</th>\n",
       "      <td>...</td>\n",
       "      <td>...</td>\n",
       "      <td>...</td>\n",
       "      <td>...</td>\n",
       "      <td>...</td>\n",
       "      <td>...</td>\n",
       "      <td>...</td>\n",
       "      <td>...</td>\n",
       "      <td>...</td>\n",
       "      <td>...</td>\n",
       "      <td>...</td>\n",
       "      <td>...</td>\n",
       "      <td>...</td>\n",
       "      <td>...</td>\n",
       "      <td>...</td>\n",
       "      <td>...</td>\n",
       "      <td>...</td>\n",
       "      <td>...</td>\n",
       "      <td>...</td>\n",
       "      <td>...</td>\n",
       "      <td>...</td>\n",
       "    </tr>\n",
       "    <tr>\n",
       "      <th>2960</th>\n",
       "      <td>2</td>\n",
       "      <td>3</td>\n",
       "      <td>2</td>\n",
       "      <td>80000.0</td>\n",
       "      <td>-1.0</td>\n",
       "      <td>-1.0</td>\n",
       "      <td>-1.0</td>\n",
       "      <td>-2.0</td>\n",
       "      <td>-2.0</td>\n",
       "      <td>-2.0</td>\n",
       "      <td>...</td>\n",
       "      <td>0.0</td>\n",
       "      <td>0.0</td>\n",
       "      <td>0.0</td>\n",
       "      <td>2800.0</td>\n",
       "      <td>0.0</td>\n",
       "      <td>0.0</td>\n",
       "      <td>0.0</td>\n",
       "      <td>0.0</td>\n",
       "      <td>0.0</td>\n",
       "      <td>0</td>\n",
       "    </tr>\n",
       "    <tr>\n",
       "      <th>2961</th>\n",
       "      <td>2</td>\n",
       "      <td>3</td>\n",
       "      <td>1</td>\n",
       "      <td>50000.0</td>\n",
       "      <td>-1.0</td>\n",
       "      <td>-1.0</td>\n",
       "      <td>-1.0</td>\n",
       "      <td>-1.0</td>\n",
       "      <td>-2.0</td>\n",
       "      <td>-2.0</td>\n",
       "      <td>...</td>\n",
       "      <td>0.0</td>\n",
       "      <td>0.0</td>\n",
       "      <td>0.0</td>\n",
       "      <td>300.0</td>\n",
       "      <td>5880.0</td>\n",
       "      <td>0.0</td>\n",
       "      <td>0.0</td>\n",
       "      <td>0.0</td>\n",
       "      <td>0.0</td>\n",
       "      <td>1</td>\n",
       "    </tr>\n",
       "    <tr>\n",
       "      <th>2962</th>\n",
       "      <td>2</td>\n",
       "      <td>2</td>\n",
       "      <td>1</td>\n",
       "      <td>450000.0</td>\n",
       "      <td>-2.0</td>\n",
       "      <td>-2.0</td>\n",
       "      <td>-2.0</td>\n",
       "      <td>-2.0</td>\n",
       "      <td>-2.0</td>\n",
       "      <td>-2.0</td>\n",
       "      <td>...</td>\n",
       "      <td>390.0</td>\n",
       "      <td>390.0</td>\n",
       "      <td>390.0</td>\n",
       "      <td>390.0</td>\n",
       "      <td>780.0</td>\n",
       "      <td>390.0</td>\n",
       "      <td>390.0</td>\n",
       "      <td>390.0</td>\n",
       "      <td>390.0</td>\n",
       "      <td>1</td>\n",
       "    </tr>\n",
       "    <tr>\n",
       "      <th>2963</th>\n",
       "      <td>2</td>\n",
       "      <td>2</td>\n",
       "      <td>1</td>\n",
       "      <td>50000.0</td>\n",
       "      <td>-2.0</td>\n",
       "      <td>-2.0</td>\n",
       "      <td>-2.0</td>\n",
       "      <td>-2.0</td>\n",
       "      <td>-2.0</td>\n",
       "      <td>-2.0</td>\n",
       "      <td>...</td>\n",
       "      <td>390.0</td>\n",
       "      <td>390.0</td>\n",
       "      <td>0.0</td>\n",
       "      <td>390.0</td>\n",
       "      <td>390.0</td>\n",
       "      <td>390.0</td>\n",
       "      <td>390.0</td>\n",
       "      <td>0.0</td>\n",
       "      <td>780.0</td>\n",
       "      <td>0</td>\n",
       "    </tr>\n",
       "    <tr>\n",
       "      <th>2964</th>\n",
       "      <td>2</td>\n",
       "      <td>2</td>\n",
       "      <td>1</td>\n",
       "      <td>290000.0</td>\n",
       "      <td>1.0</td>\n",
       "      <td>-2.0</td>\n",
       "      <td>-2.0</td>\n",
       "      <td>-2.0</td>\n",
       "      <td>-2.0</td>\n",
       "      <td>-2.0</td>\n",
       "      <td>...</td>\n",
       "      <td>3184.0</td>\n",
       "      <td>390.0</td>\n",
       "      <td>390.0</td>\n",
       "      <td>10000.0</td>\n",
       "      <td>800.0</td>\n",
       "      <td>3184.0</td>\n",
       "      <td>390.0</td>\n",
       "      <td>390.0</td>\n",
       "      <td>6617.0</td>\n",
       "      <td>0</td>\n",
       "    </tr>\n",
       "  </tbody>\n",
       "</table>\n",
       "<p>2965 rows × 23 columns</p>\n",
       "</div>"
      ],
      "text/plain": [
       "      sex  education_level  marital_status  limit_balance  pay_0  pay_2  \\\n",
       "0       1                6               1        80000.0    0.0    0.0   \n",
       "1       1                4               1       200000.0    0.0    0.0   \n",
       "2       2                6               2        20000.0    0.0    0.0   \n",
       "3       2                4               2       260000.0    0.0    0.0   \n",
       "4       1                4               2       150000.0    0.0    0.0   \n",
       "...   ...              ...             ...            ...    ...    ...   \n",
       "2960    2                3               2        80000.0   -1.0   -1.0   \n",
       "2961    2                3               1        50000.0   -1.0   -1.0   \n",
       "2962    2                2               1       450000.0   -2.0   -2.0   \n",
       "2963    2                2               1        50000.0   -2.0   -2.0   \n",
       "2964    2                2               1       290000.0    1.0   -2.0   \n",
       "\n",
       "      pay_3  pay_4  pay_5  pay_6  ...  bill_amt_4  bill_amt_5  bill_amt_6  \\\n",
       "0       0.0    0.0    0.0    0.0  ...     29296.0     26210.0     17643.0   \n",
       "1       0.0    0.0    0.0    0.0  ...     50146.0     50235.0     48984.0   \n",
       "2       0.0    0.0    0.0    0.0  ...      1434.0       500.0         0.0   \n",
       "3       0.0    0.0    0.0    0.0  ...     27821.0     30767.0     29890.0   \n",
       "4       0.0   -1.0    0.0    0.0  ...    150464.0    143375.0    146411.0   \n",
       "...     ...    ...    ...    ...  ...         ...         ...         ...   \n",
       "2960   -1.0   -2.0   -2.0   -2.0  ...         0.0         0.0         0.0   \n",
       "2961   -1.0   -1.0   -2.0   -2.0  ...         0.0         0.0         0.0   \n",
       "2962   -2.0   -2.0   -2.0   -2.0  ...       390.0       390.0       390.0   \n",
       "2963   -2.0   -2.0   -2.0   -2.0  ...       390.0       390.0         0.0   \n",
       "2964   -2.0   -2.0   -2.0   -2.0  ...      3184.0       390.0       390.0   \n",
       "\n",
       "      pay_amt_1  pay_amt_2  pay_amt_3  pay_amt_4  pay_amt_5  pay_amt_6  \\\n",
       "0        2545.0     2208.0     1336.0     2232.0      542.0      348.0   \n",
       "1        1689.0     2164.0     2500.0     3480.0     2500.0     3000.0   \n",
       "2        4641.0     1019.0      900.0        0.0     1500.0        0.0   \n",
       "3        5000.0     5000.0     1137.0     5000.0     1085.0     5000.0   \n",
       "4        4019.0   146896.0   157436.0     4600.0     4709.0     5600.0   \n",
       "...         ...        ...        ...        ...        ...        ...   \n",
       "2960     2800.0        0.0        0.0        0.0        0.0        0.0   \n",
       "2961      300.0     5880.0        0.0        0.0        0.0        0.0   \n",
       "2962      390.0      780.0      390.0      390.0      390.0      390.0   \n",
       "2963      390.0      390.0      390.0      390.0        0.0      780.0   \n",
       "2964    10000.0      800.0     3184.0      390.0      390.0     6617.0   \n",
       "\n",
       "      default_payment_next_month  \n",
       "0                              1  \n",
       "1                              0  \n",
       "2                              1  \n",
       "3                              0  \n",
       "4                              0  \n",
       "...                          ...  \n",
       "2960                           0  \n",
       "2961                           1  \n",
       "2962                           1  \n",
       "2963                           0  \n",
       "2964                           0  \n",
       "\n",
       "[2965 rows x 23 columns]"
      ]
     },
     "execution_count": 2,
     "metadata": {},
     "output_type": "execute_result"
    }
   ],
   "source": [
    "main_data = pd.read_csv('client_data.csv')\n",
    "\n",
    "# show data\n",
    "main_data"
   ]
  },
  {
   "cell_type": "code",
   "execution_count": 3,
   "metadata": {},
   "outputs": [
    {
     "name": "stdout",
     "output_type": "stream",
     "text": [
      "<class 'pandas.core.frame.DataFrame'>\n",
      "RangeIndex: 2965 entries, 0 to 2964\n",
      "Data columns (total 23 columns):\n",
      " #   Column                      Non-Null Count  Dtype  \n",
      "---  ------                      --------------  -----  \n",
      " 0   sex                         2965 non-null   int64  \n",
      " 1   education_level             2965 non-null   int64  \n",
      " 2   marital_status              2965 non-null   int64  \n",
      " 3   limit_balance               2965 non-null   float64\n",
      " 4   pay_0                       2965 non-null   float64\n",
      " 5   pay_2                       2965 non-null   float64\n",
      " 6   pay_3                       2965 non-null   float64\n",
      " 7   pay_4                       2965 non-null   float64\n",
      " 8   pay_5                       2965 non-null   float64\n",
      " 9   pay_6                       2965 non-null   float64\n",
      " 10  bill_amt_1                  2965 non-null   float64\n",
      " 11  bill_amt_2                  2965 non-null   float64\n",
      " 12  bill_amt_3                  2965 non-null   float64\n",
      " 13  bill_amt_4                  2965 non-null   float64\n",
      " 14  bill_amt_5                  2965 non-null   float64\n",
      " 15  bill_amt_6                  2965 non-null   float64\n",
      " 16  pay_amt_1                   2965 non-null   float64\n",
      " 17  pay_amt_2                   2965 non-null   float64\n",
      " 18  pay_amt_3                   2965 non-null   float64\n",
      " 19  pay_amt_4                   2965 non-null   float64\n",
      " 20  pay_amt_5                   2965 non-null   float64\n",
      " 21  pay_amt_6                   2965 non-null   float64\n",
      " 22  default_payment_next_month  2965 non-null   int64  \n",
      "dtypes: float64(19), int64(4)\n",
      "memory usage: 532.9 KB\n"
     ]
    }
   ],
   "source": [
    "# cek info data\n",
    "main_data.info()"
   ]
  },
  {
   "cell_type": "code",
   "execution_count": 4,
   "metadata": {},
   "outputs": [
    {
     "data": {
      "text/plain": [
       "array([ 0., -1.,  2.,  3., -2.,  4.,  1.,  5.,  6.,  7.])"
      ]
     },
     "execution_count": 4,
     "metadata": {},
     "output_type": "execute_result"
    }
   ],
   "source": [
    "main_data['pay_2'].unique()"
   ]
  },
  {
   "cell_type": "markdown",
   "metadata": {},
   "source": [
    "### **INSIGHT:**"
   ]
  },
  {
   "cell_type": "markdown",
   "metadata": {},
   "source": [
    "# 5. **EXPLORATORY DATA ANALYSIS (EDA)**"
   ]
  },
  {
   "cell_type": "markdown",
   "metadata": {},
   "source": [
    "### **Grouping jumlah nasabah pengguna kartu kredit berdasarkan gender**\n",
    "- Tujuan: Membandingkan apakah wanita / pria memiliki pemakaian kartu kredit lebih banyak atau tidak\n",
    "- Metode: Menggunakan bar graph."
   ]
  },
  {
   "cell_type": "code",
   "execution_count": 5,
   "metadata": {},
   "outputs": [
    {
     "data": {
      "text/html": [
       "<div>\n",
       "<style scoped>\n",
       "    .dataframe tbody tr th:only-of-type {\n",
       "        vertical-align: middle;\n",
       "    }\n",
       "\n",
       "    .dataframe tbody tr th {\n",
       "        vertical-align: top;\n",
       "    }\n",
       "\n",
       "    .dataframe thead th {\n",
       "        text-align: right;\n",
       "    }\n",
       "</style>\n",
       "<table border=\"1\" class=\"dataframe\">\n",
       "  <thead>\n",
       "    <tr style=\"text-align: right;\">\n",
       "      <th></th>\n",
       "      <th>sex</th>\n",
       "      <th>count</th>\n",
       "    </tr>\n",
       "  </thead>\n",
       "  <tbody>\n",
       "    <tr>\n",
       "      <th>0</th>\n",
       "      <td>1</td>\n",
       "      <td>1163</td>\n",
       "    </tr>\n",
       "    <tr>\n",
       "      <th>1</th>\n",
       "      <td>2</td>\n",
       "      <td>1802</td>\n",
       "    </tr>\n",
       "  </tbody>\n",
       "</table>\n",
       "</div>"
      ],
      "text/plain": [
       "   sex  count\n",
       "0    1   1163\n",
       "1    2   1802"
      ]
     },
     "execution_count": 5,
     "metadata": {},
     "output_type": "execute_result"
    }
   ],
   "source": [
    "# membuat dataframe baru\n",
    "\n",
    "customer_gender = pd.DataFrame(main_data.groupby('sex')['sex'].value_counts().reset_index())\n",
    "\n",
    "customer_gender"
   ]
  },
  {
   "cell_type": "code",
   "execution_count": 6,
   "metadata": {},
   "outputs": [
    {
     "data": {
      "text/html": [
       "<div>\n",
       "<style scoped>\n",
       "    .dataframe tbody tr th:only-of-type {\n",
       "        vertical-align: middle;\n",
       "    }\n",
       "\n",
       "    .dataframe tbody tr th {\n",
       "        vertical-align: top;\n",
       "    }\n",
       "\n",
       "    .dataframe thead th {\n",
       "        text-align: right;\n",
       "    }\n",
       "</style>\n",
       "<table border=\"1\" class=\"dataframe\">\n",
       "  <thead>\n",
       "    <tr style=\"text-align: right;\">\n",
       "      <th></th>\n",
       "      <th>sex</th>\n",
       "      <th>number_of_customers</th>\n",
       "    </tr>\n",
       "  </thead>\n",
       "  <tbody>\n",
       "    <tr>\n",
       "      <th>0</th>\n",
       "      <td>1</td>\n",
       "      <td>1163</td>\n",
       "    </tr>\n",
       "    <tr>\n",
       "      <th>1</th>\n",
       "      <td>2</td>\n",
       "      <td>1802</td>\n",
       "    </tr>\n",
       "  </tbody>\n",
       "</table>\n",
       "</div>"
      ],
      "text/plain": [
       "   sex  number_of_customers\n",
       "0    1                 1163\n",
       "1    2                 1802"
      ]
     },
     "execution_count": 6,
     "metadata": {},
     "output_type": "execute_result"
    }
   ],
   "source": [
    "# mengubah nama label dari count => number_of_customers\n",
    "customer_gender.rename(columns={'count':'number_of_customers'},inplace = True)\n",
    "\n",
    "customer_gender"
   ]
  },
  {
   "cell_type": "code",
   "execution_count": 7,
   "metadata": {},
   "outputs": [
    {
     "data": {
      "text/html": [
       "<div>\n",
       "<style scoped>\n",
       "    .dataframe tbody tr th:only-of-type {\n",
       "        vertical-align: middle;\n",
       "    }\n",
       "\n",
       "    .dataframe tbody tr th {\n",
       "        vertical-align: top;\n",
       "    }\n",
       "\n",
       "    .dataframe thead th {\n",
       "        text-align: right;\n",
       "    }\n",
       "</style>\n",
       "<table border=\"1\" class=\"dataframe\">\n",
       "  <thead>\n",
       "    <tr style=\"text-align: right;\">\n",
       "      <th></th>\n",
       "      <th>sex</th>\n",
       "      <th>number_of_customers</th>\n",
       "    </tr>\n",
       "  </thead>\n",
       "  <tbody>\n",
       "    <tr>\n",
       "      <th>0</th>\n",
       "      <td>Male</td>\n",
       "      <td>1163</td>\n",
       "    </tr>\n",
       "    <tr>\n",
       "      <th>1</th>\n",
       "      <td>Female</td>\n",
       "      <td>1802</td>\n",
       "    </tr>\n",
       "  </tbody>\n",
       "</table>\n",
       "</div>"
      ],
      "text/plain": [
       "      sex  number_of_customers\n",
       "0    Male                 1163\n",
       "1  Female                 1802"
      ]
     },
     "execution_count": 7,
     "metadata": {},
     "output_type": "execute_result"
    }
   ],
   "source": [
    "# mengubah nilai angka pada sex (gender) menjadi string\n",
    "\n",
    "customer_gender['sex'] = customer_gender['sex'].replace(1,'Male')\n",
    "customer_gender['sex'] = customer_gender['sex'].replace(2,'Female')\n",
    "\n",
    "customer_gender"
   ]
  },
  {
   "cell_type": "code",
   "execution_count": 8,
   "metadata": {},
   "outputs": [
    {
     "data": {
      "image/png": "[encoded data removed]",
      "text/plain": [
       "<Figure size 640x480 with 1 Axes>"
      ]
     },
     "metadata": {},
     "output_type": "display_data"
    }
   ],
   "source": [
    "# mendefinisikan values x dan y\n",
    "x_values = customer_gender['sex']\n",
    "y_values = customer_gender['number_of_customers']\n",
    "\n",
    "# Definisikan warna berdasarkan gender\n",
    "colors = ['lightblue' if s == 'Male' else 'pink' for s in customer_gender['sex']]\n",
    "\n",
    "# plotting dengan bar graph\n",
    "plt.bar(x_values,y_values,color=colors)\n",
    "\n",
    "# menambahkan label pada axisnya\n",
    "plt.xlabel('Gender')\n",
    "plt.ylabel('Number of Customers')\n",
    "plt.title('Number of Customers for Each Gender')\n",
    "\n",
    "# display the graph\n",
    "\n",
    "plt.show()\n"
   ]
  },
  {
   "cell_type": "markdown",
   "metadata": {},
   "source": [
    "### **INSIGHT:**\n",
    "- Berdasarkan hasil bar graph, ditemukan bahwa jumlah nasabah wanita (Female) lebih banyak daripada pria (Male). Perbedaan jumlah nasabah wanita dan pria adalah 1802-1163 = 639 nasabah."
   ]
  },
  {
   "cell_type": "markdown",
   "metadata": {},
   "source": [
    "### **Melihat hubungan antara gender dan jumlah limit kartu kredit**\n",
    "- Tujuan: Mengamati apakah gender mempengaruhi nilai limit kartu kredit atau tidak.\n",
    "- Metode: Menggunakan box plot untuk melihat variasi limit kartu kredit setiap gender. Melakukan ANOVA test untuk melihat hubungan tersebut.\n",
    "\n",
    "Hipotesis ANOVA Test\n",
    "\n",
    "    H0: Tidak ada perbedaan signifikan untuk jumlah limit kartu kredit (limit_balance) berdasarkan gender.\n",
    "\n",
    "\n",
    "    H1: Terdapat perbedaan signifikan untuk jumlah limit kartu kredit (limit_balance) berdasarkan gender.\n",
    "\n",
    "\n",
    "    Catatan: p-value < 0.05 maka H0 ditolak dan H1 diterima"
   ]
  },
  {
   "cell_type": "code",
   "execution_count": 9,
   "metadata": {},
   "outputs": [
    {
     "data": {
      "text/html": [
       "<div>\n",
       "<style scoped>\n",
       "    .dataframe tbody tr th:only-of-type {\n",
       "        vertical-align: middle;\n",
       "    }\n",
       "\n",
       "    .dataframe tbody tr th {\n",
       "        vertical-align: top;\n",
       "    }\n",
       "\n",
       "    .dataframe thead th {\n",
       "        text-align: right;\n",
       "    }\n",
       "</style>\n",
       "<table border=\"1\" class=\"dataframe\">\n",
       "  <thead>\n",
       "    <tr style=\"text-align: right;\">\n",
       "      <th></th>\n",
       "      <th>sex</th>\n",
       "      <th>limit_balance</th>\n",
       "    </tr>\n",
       "  </thead>\n",
       "  <tbody>\n",
       "    <tr>\n",
       "      <th>0</th>\n",
       "      <td>1</td>\n",
       "      <td>80000.0</td>\n",
       "    </tr>\n",
       "    <tr>\n",
       "      <th>1</th>\n",
       "      <td>1</td>\n",
       "      <td>200000.0</td>\n",
       "    </tr>\n",
       "    <tr>\n",
       "      <th>2</th>\n",
       "      <td>2</td>\n",
       "      <td>20000.0</td>\n",
       "    </tr>\n",
       "    <tr>\n",
       "      <th>3</th>\n",
       "      <td>2</td>\n",
       "      <td>260000.0</td>\n",
       "    </tr>\n",
       "    <tr>\n",
       "      <th>4</th>\n",
       "      <td>1</td>\n",
       "      <td>150000.0</td>\n",
       "    </tr>\n",
       "    <tr>\n",
       "      <th>...</th>\n",
       "      <td>...</td>\n",
       "      <td>...</td>\n",
       "    </tr>\n",
       "    <tr>\n",
       "      <th>2960</th>\n",
       "      <td>2</td>\n",
       "      <td>80000.0</td>\n",
       "    </tr>\n",
       "    <tr>\n",
       "      <th>2961</th>\n",
       "      <td>2</td>\n",
       "      <td>50000.0</td>\n",
       "    </tr>\n",
       "    <tr>\n",
       "      <th>2962</th>\n",
       "      <td>2</td>\n",
       "      <td>450000.0</td>\n",
       "    </tr>\n",
       "    <tr>\n",
       "      <th>2963</th>\n",
       "      <td>2</td>\n",
       "      <td>50000.0</td>\n",
       "    </tr>\n",
       "    <tr>\n",
       "      <th>2964</th>\n",
       "      <td>2</td>\n",
       "      <td>290000.0</td>\n",
       "    </tr>\n",
       "  </tbody>\n",
       "</table>\n",
       "<p>2965 rows × 2 columns</p>\n",
       "</div>"
      ],
      "text/plain": [
       "      sex  limit_balance\n",
       "0       1        80000.0\n",
       "1       1       200000.0\n",
       "2       2        20000.0\n",
       "3       2       260000.0\n",
       "4       1       150000.0\n",
       "...   ...            ...\n",
       "2960    2        80000.0\n",
       "2961    2        50000.0\n",
       "2962    2       450000.0\n",
       "2963    2        50000.0\n",
       "2964    2       290000.0\n",
       "\n",
       "[2965 rows x 2 columns]"
      ]
     },
     "execution_count": 9,
     "metadata": {},
     "output_type": "execute_result"
    }
   ],
   "source": [
    "# membuat dataframe baru\n",
    "\n",
    "data = {'sex': main_data['sex'], 'limit_balance':main_data['limit_balance']}\n",
    "variasi_harga = pd.DataFrame(data).reset_index(drop=True)\n",
    "\n",
    "variasi_harga"
   ]
  },
  {
   "cell_type": "code",
   "execution_count": 10,
   "metadata": {},
   "outputs": [
    {
     "data": {
      "text/plain": [
       "array([1, 2])"
      ]
     },
     "execution_count": 10,
     "metadata": {},
     "output_type": "execute_result"
    }
   ],
   "source": [
    "variasi_harga['sex'].unique()"
   ]
  },
  {
   "cell_type": "code",
   "execution_count": 11,
   "metadata": {},
   "outputs": [
    {
     "data": {
      "text/html": [
       "<div>\n",
       "<style scoped>\n",
       "    .dataframe tbody tr th:only-of-type {\n",
       "        vertical-align: middle;\n",
       "    }\n",
       "\n",
       "    .dataframe tbody tr th {\n",
       "        vertical-align: top;\n",
       "    }\n",
       "\n",
       "    .dataframe thead th {\n",
       "        text-align: right;\n",
       "    }\n",
       "</style>\n",
       "<table border=\"1\" class=\"dataframe\">\n",
       "  <thead>\n",
       "    <tr style=\"text-align: right;\">\n",
       "      <th></th>\n",
       "      <th>sex</th>\n",
       "      <th>new_sex</th>\n",
       "      <th>limit_balance</th>\n",
       "    </tr>\n",
       "  </thead>\n",
       "  <tbody>\n",
       "    <tr>\n",
       "      <th>0</th>\n",
       "      <td>1</td>\n",
       "      <td>Male</td>\n",
       "      <td>80000.0</td>\n",
       "    </tr>\n",
       "    <tr>\n",
       "      <th>1</th>\n",
       "      <td>1</td>\n",
       "      <td>Male</td>\n",
       "      <td>200000.0</td>\n",
       "    </tr>\n",
       "    <tr>\n",
       "      <th>2</th>\n",
       "      <td>2</td>\n",
       "      <td>Female</td>\n",
       "      <td>20000.0</td>\n",
       "    </tr>\n",
       "    <tr>\n",
       "      <th>3</th>\n",
       "      <td>2</td>\n",
       "      <td>Female</td>\n",
       "      <td>260000.0</td>\n",
       "    </tr>\n",
       "    <tr>\n",
       "      <th>4</th>\n",
       "      <td>1</td>\n",
       "      <td>Male</td>\n",
       "      <td>150000.0</td>\n",
       "    </tr>\n",
       "    <tr>\n",
       "      <th>...</th>\n",
       "      <td>...</td>\n",
       "      <td>...</td>\n",
       "      <td>...</td>\n",
       "    </tr>\n",
       "    <tr>\n",
       "      <th>2960</th>\n",
       "      <td>2</td>\n",
       "      <td>Female</td>\n",
       "      <td>80000.0</td>\n",
       "    </tr>\n",
       "    <tr>\n",
       "      <th>2961</th>\n",
       "      <td>2</td>\n",
       "      <td>Female</td>\n",
       "      <td>50000.0</td>\n",
       "    </tr>\n",
       "    <tr>\n",
       "      <th>2962</th>\n",
       "      <td>2</td>\n",
       "      <td>Female</td>\n",
       "      <td>450000.0</td>\n",
       "    </tr>\n",
       "    <tr>\n",
       "      <th>2963</th>\n",
       "      <td>2</td>\n",
       "      <td>Female</td>\n",
       "      <td>50000.0</td>\n",
       "    </tr>\n",
       "    <tr>\n",
       "      <th>2964</th>\n",
       "      <td>2</td>\n",
       "      <td>Female</td>\n",
       "      <td>290000.0</td>\n",
       "    </tr>\n",
       "  </tbody>\n",
       "</table>\n",
       "<p>2965 rows × 3 columns</p>\n",
       "</div>"
      ],
      "text/plain": [
       "      sex new_sex  limit_balance\n",
       "0       1    Male        80000.0\n",
       "1       1    Male       200000.0\n",
       "2       2  Female        20000.0\n",
       "3       2  Female       260000.0\n",
       "4       1    Male       150000.0\n",
       "...   ...     ...            ...\n",
       "2960    2  Female        80000.0\n",
       "2961    2  Female        50000.0\n",
       "2962    2  Female       450000.0\n",
       "2963    2  Female        50000.0\n",
       "2964    2  Female       290000.0\n",
       "\n",
       "[2965 rows x 3 columns]"
      ]
     },
     "execution_count": 11,
     "metadata": {},
     "output_type": "execute_result"
    }
   ],
   "source": [
    "# menambah kolom baru untuk konversi ke string dari angka\n",
    "variasi_harga.insert(1,'new_sex','no values')\n",
    "variasi_harga.loc[variasi_harga['sex'] == 1,'new_sex'] = 'Male'\n",
    "variasi_harga.loc[variasi_harga['sex'] == 2,'new_sex'] = 'Female'\n",
    "\n",
    "\n",
    "variasi_harga"
   ]
  },
  {
   "cell_type": "code",
   "execution_count": 12,
   "metadata": {},
   "outputs": [
    {
     "data": {
      "text/html": [
       "<div>\n",
       "<style scoped>\n",
       "    .dataframe tbody tr th:only-of-type {\n",
       "        vertical-align: middle;\n",
       "    }\n",
       "\n",
       "    .dataframe tbody tr th {\n",
       "        vertical-align: top;\n",
       "    }\n",
       "\n",
       "    .dataframe thead th {\n",
       "        text-align: right;\n",
       "    }\n",
       "</style>\n",
       "<table border=\"1\" class=\"dataframe\">\n",
       "  <thead>\n",
       "    <tr style=\"text-align: right;\">\n",
       "      <th></th>\n",
       "      <th>count</th>\n",
       "      <th>mean</th>\n",
       "      <th>std</th>\n",
       "      <th>min</th>\n",
       "      <th>25%</th>\n",
       "      <th>50%</th>\n",
       "      <th>75%</th>\n",
       "      <th>max</th>\n",
       "    </tr>\n",
       "    <tr>\n",
       "      <th>new_sex</th>\n",
       "      <th></th>\n",
       "      <th></th>\n",
       "      <th></th>\n",
       "      <th></th>\n",
       "      <th></th>\n",
       "      <th></th>\n",
       "      <th></th>\n",
       "      <th></th>\n",
       "    </tr>\n",
       "  </thead>\n",
       "  <tbody>\n",
       "    <tr>\n",
       "      <th>Female</th>\n",
       "      <td>1802.0</td>\n",
       "      <td>166237.513873</td>\n",
       "      <td>120500.737472</td>\n",
       "      <td>10000.0</td>\n",
       "      <td>70000.0</td>\n",
       "      <td>150000.0</td>\n",
       "      <td>230000.0</td>\n",
       "      <td>750000.0</td>\n",
       "    </tr>\n",
       "    <tr>\n",
       "      <th>Male</th>\n",
       "      <td>1163.0</td>\n",
       "      <td>158925.193465</td>\n",
       "      <td>131671.226755</td>\n",
       "      <td>10000.0</td>\n",
       "      <td>50000.0</td>\n",
       "      <td>120000.0</td>\n",
       "      <td>230000.0</td>\n",
       "      <td>800000.0</td>\n",
       "    </tr>\n",
       "  </tbody>\n",
       "</table>\n",
       "</div>"
      ],
      "text/plain": [
       "          count           mean            std      min      25%       50%  \\\n",
       "new_sex                                                                     \n",
       "Female   1802.0  166237.513873  120500.737472  10000.0  70000.0  150000.0   \n",
       "Male     1163.0  158925.193465  131671.226755  10000.0  50000.0  120000.0   \n",
       "\n",
       "              75%       max  \n",
       "new_sex                      \n",
       "Female   230000.0  750000.0  \n",
       "Male     230000.0  800000.0  "
      ]
     },
     "execution_count": 12,
     "metadata": {},
     "output_type": "execute_result"
    }
   ],
   "source": [
    "# statistika deskriptif limit_balance berdasarkan gender\n",
    "variasi_harga.groupby('new_sex')['limit_balance'].describe()"
   ]
  },
  {
   "cell_type": "code",
   "execution_count": 13,
   "metadata": {},
   "outputs": [
    {
     "data": {
      "image/png": "[encoded data removed]",
      "text/plain": [
       "<Figure size 640x480 with 1 Axes>"
      ]
     },
     "metadata": {},
     "output_type": "display_data"
    }
   ],
   "source": [
    "# make a box plot\n",
    "sns.boxplot(x='new_sex',y='limit_balance',data=variasi_harga)\n",
    "\n",
    "# memberikan label\n",
    "plt.xlabel('Gender')\n",
    "plt.ylabel('Limit Balance')\n",
    "plt.title('Box Plot Variasi Limit Balance berdasarkan Gender')\n",
    "\n",
    "# Displaying the plot\n",
    "plt.show()"
   ]
  },
  {
   "cell_type": "code",
   "execution_count": 14,
   "metadata": {},
   "outputs": [
    {
     "name": "stdout",
     "output_type": "stream",
     "text": [
      "P-value: 0.0\n"
     ]
    }
   ],
   "source": [
    "# ANOVA TEST\n",
    "res = stats.f_oneway(variasi_harga['sex'], variasi_harga['limit_balance'])\n",
    "print('P-value:',res.pvalue)"
   ]
  },
  {
   "cell_type": "markdown",
   "metadata": {},
   "source": [
    "### **INSIGHT:**\n",
    "\n",
    "- Hasil statistika deskriptif pada limit_balance setiap gender menunjukkan bahwa Female memiliki rata-rata limit_balance daripada Male (166237 > 158926). Namun, variance limit_balance Male serta limit_balance tertinggi lebih tinggi daripada Female (800000 > 750000).\n",
    "\n",
    "- Melalui boxplot, terlihat lebih jelas bahwa limit_balance tiap gender memiliki rata-rata serta nilai kuartil yang mirip. Akan tetapi, jumlah outlier limit_balance pada kategori Female lebih banyak daripada Male.\n",
    "\n",
    "- Hasil ANOVA test menyatakan bahwa jumlah limit_balance berbeda berdasarkan gender karena p-value = 0."
   ]
  },
  {
   "cell_type": "markdown",
   "metadata": {},
   "source": [
    "# **6. FEATURE ENGINEERING**"
   ]
  },
  {
   "cell_type": "markdown",
   "metadata": {},
   "source": [
    "## i. **Feature Creation**\n",
    "\n",
    "- Handling cardinality, outlier, missing values.\n",
    "- Spliting dataset."
   ]
  },
  {
   "cell_type": "code",
   "execution_count": 15,
   "metadata": {},
   "outputs": [],
   "source": [
    "# Define X and y values\n",
    "X = main_data.drop('default_payment_next_month',axis = 1)\n",
    "y = main_data['default_payment_next_month']"
   ]
  },
  {
   "cell_type": "code",
   "execution_count": 16,
   "metadata": {},
   "outputs": [],
   "source": [
    "# Splitting datasets\n",
    "X_train, X_test, y_train, y_test = train_test_split(X, y, test_size=0.2, random_state=21)"
   ]
  },
  {
   "cell_type": "markdown",
   "metadata": {},
   "source": [
    "## ii. **Feature Extraction, Transformation, dan Selection**\n",
    "- Encoding, Feature Scaling, Feature Selection"
   ]
  },
  {
   "cell_type": "code",
   "execution_count": 17,
   "metadata": {},
   "outputs": [
    {
     "data": {
      "text/plain": [
       "array([[-1.25183847e+00, -1.09574696e+00,  8.45251635e-01, ...,\n",
       "        -2.54350646e-01, -1.43811479e-01,  7.15729618e-01],\n",
       "       [ 7.98825104e-01,  1.85866349e-01, -1.06968330e+00, ...,\n",
       "        -2.71048604e-01, -2.29272893e-01, -1.89139843e-01],\n",
       "       [ 7.98825104e-01,  1.46747966e+00, -1.06968330e+00, ...,\n",
       "        -3.54538389e-01, -2.68243298e-01, -2.84377354e-01],\n",
       "       ...,\n",
       "       [ 7.98825104e-01,  1.85866349e-01,  8.45251635e-01, ...,\n",
       "        -3.31328229e-01, -1.15324341e-01, -3.02248526e-01],\n",
       "       [ 7.98825104e-01,  1.85866349e-01, -1.06968330e+00, ...,\n",
       "        -3.54538389e-01, -1.37578945e-03, -1.89139843e-01],\n",
       "       [ 7.98825104e-01,  1.46747966e+00, -1.06968330e+00, ...,\n",
       "        -2.71048604e-01, -1.82724910e-01,  3.21093424e-01]])"
      ]
     },
     "execution_count": 17,
     "metadata": {},
     "output_type": "execute_result"
    }
   ],
   "source": [
    "# Feature Scaling dengan StandardScaler()\n",
    "\n",
    "scaler_fx = StandardScaler()\n",
    "scaler_fx.fit(X_train)\n",
    "\n",
    "X_train_scaled = scaler_fx.transform(X_train)\n",
    "X_test_scaled = scaler_fx.transform(X_test)\n",
    "\n",
    "X_train_scaled"
   ]
  },
  {
   "cell_type": "markdown",
   "metadata": {},
   "source": [
    "# **7. MODEL DEFINITION**"
   ]
  },
  {
   "cell_type": "markdown",
   "metadata": {},
   "source": [
    "# **8. MODEL TRAINING**"
   ]
  },
  {
   "cell_type": "markdown",
   "metadata": {},
   "source": [
    "##### Setting a random state for all models:"
   ]
  },
  {
   "cell_type": "code",
   "execution_count": 18,
   "metadata": {},
   "outputs": [],
   "source": [
    "# setting random state\n",
    "np.random.seed(21)  # Set random seed for reproducibility"
   ]
  },
  {
   "cell_type": "markdown",
   "metadata": {},
   "source": [
    "### <u>Logistic Regression Model</u>"
   ]
  },
  {
   "cell_type": "markdown",
   "metadata": {},
   "source": [
    "#### Without Pipeline"
   ]
  },
  {
   "cell_type": "code",
   "execution_count": 19,
   "metadata": {},
   "outputs": [
    {
     "name": "stdout",
     "output_type": "stream",
     "text": [
      "Coefficient :  [[ 0.07191273 -0.00304297 -0.11987846 -0.08483824  0.7091614   0.03799705\n",
      "   0.13143534  0.00801746  0.23400608 -0.04949042 -0.50052344  0.48087672\n",
      "   0.31693384 -0.80655404  0.53907645 -0.03552977 -0.13000972 -0.64592393\n",
      "  -0.14271124 -0.08724145 -0.2033963  -0.16480481]]\n",
      "Intercept   :  [-1.5776771]\n"
     ]
    }
   ],
   "source": [
    "# memanggil ML algorithm\n",
    "model_logreg = LogisticRegression(penalty='l2', C=1.0, random_state=0)\n",
    "model_logreg.fit(X_train_scaled, y_train)\n",
    "\n",
    "print('Coefficient : ', model_logreg.coef_)\n",
    "print('Intercept   : ', model_logreg.intercept_)"
   ]
  },
  {
   "cell_type": "markdown",
   "metadata": {},
   "source": [
    "#### With Pipeline"
   ]
  },
  {
   "cell_type": "code",
   "execution_count": 20,
   "metadata": {},
   "outputs": [],
   "source": [
    "# define pipeline\n",
    "pipe_log = Pipeline([('scaler', StandardScaler()), \n",
    "                     ('logreg', LogisticRegression(random_state=42))\n",
    "])"
   ]
  },
  {
   "cell_type": "code",
   "execution_count": 21,
   "metadata": {},
   "outputs": [
    {
     "data": {
      "text/html": [
       "<style>#sk-container-id-1 {color: black;background-color: white;}#sk-container-id-1 pre{padding: 0;}#sk-container-id-1 div.sk-toggleable {background-color: white;}#sk-container-id-1 label.sk-toggleable__label {cursor: pointer;display: block;width: 100%;margin-bottom: 0;padding: 0.3em;box-sizing: border-box;text-align: center;}#sk-container-id-1 label.sk-toggleable__label-arrow:before {content: \"▸\";float: left;margin-right: 0.25em;color: #696969;}#sk-container-id-1 label.sk-toggleable__label-arrow:hover:before {color: black;}#sk-container-id-1 div.sk-estimator:hover label.sk-toggleable__label-arrow:before {color: black;}#sk-container-id-1 div.sk-toggleable__content {max-height: 0;max-width: 0;overflow: hidden;text-align: left;background-color: #f0f8ff;}#sk-container-id-1 div.sk-toggleable__content pre {margin: 0.2em;color: black;border-radius: 0.25em;background-color: #f0f8ff;}#sk-container-id-1 input.sk-toggleable__control:checked~div.sk-toggleable__content {max-height: 200px;max-width: 100%;overflow: auto;}#sk-container-id-1 input.sk-toggleable__control:checked~label.sk-toggleable__label-arrow:before {content: \"▾\";}#sk-container-id-1 div.sk-estimator input.sk-toggleable__control:checked~label.sk-toggleable__label {background-color: #d4ebff;}#sk-container-id-1 div.sk-label input.sk-toggleable__control:checked~label.sk-toggleable__label {background-color: #d4ebff;}#sk-container-id-1 input.sk-hidden--visually {border: 0;clip: rect(1px 1px 1px 1px);clip: rect(1px, 1px, 1px, 1px);height: 1px;margin: -1px;overflow: hidden;padding: 0;position: absolute;width: 1px;}#sk-container-id-1 div.sk-estimator {font-family: monospace;background-color: #f0f8ff;border: 1px dotted black;border-radius: 0.25em;box-sizing: border-box;margin-bottom: 0.5em;}#sk-container-id-1 div.sk-estimator:hover {background-color: #d4ebff;}#sk-container-id-1 div.sk-parallel-item::after {content: \"\";width: 100%;border-bottom: 1px solid gray;flex-grow: 1;}#sk-container-id-1 div.sk-label:hover label.sk-toggleable__label {background-color: #d4ebff;}#sk-container-id-1 div.sk-serial::before {content: \"\";position: absolute;border-left: 1px solid gray;box-sizing: border-box;top: 0;bottom: 0;left: 50%;z-index: 0;}#sk-container-id-1 div.sk-serial {display: flex;flex-direction: column;align-items: center;background-color: white;padding-right: 0.2em;padding-left: 0.2em;position: relative;}#sk-container-id-1 div.sk-item {position: relative;z-index: 1;}#sk-container-id-1 div.sk-parallel {display: flex;align-items: stretch;justify-content: center;background-color: white;position: relative;}#sk-container-id-1 div.sk-item::before, #sk-container-id-1 div.sk-parallel-item::before {content: \"\";position: absolute;border-left: 1px solid gray;box-sizing: border-box;top: 0;bottom: 0;left: 50%;z-index: -1;}#sk-container-id-1 div.sk-parallel-item {display: flex;flex-direction: column;z-index: 1;position: relative;background-color: white;}#sk-container-id-1 div.sk-parallel-item:first-child::after {align-self: flex-end;width: 50%;}#sk-container-id-1 div.sk-parallel-item:last-child::after {align-self: flex-start;width: 50%;}#sk-container-id-1 div.sk-parallel-item:only-child::after {width: 0;}#sk-container-id-1 div.sk-dashed-wrapped {border: 1px dashed gray;margin: 0 0.4em 0.5em 0.4em;box-sizing: border-box;padding-bottom: 0.4em;background-color: white;}#sk-container-id-1 div.sk-label label {font-family: monospace;font-weight: bold;display: inline-block;line-height: 1.2em;}#sk-container-id-1 div.sk-label-container {text-align: center;}#sk-container-id-1 div.sk-container {/* jupyter's `normalize.less` sets `[hidden] { display: none; }` but bootstrap.min.css set `[hidden] { display: none !important; }` so we also need the `!important` here to be able to override the default hidden behavior on the sphinx rendered scikit-learn.org. See: https://github.com/scikit-learn/scikit-learn/issues/21755 */display: inline-block !important;position: relative;}#sk-container-id-1 div.sk-text-repr-fallback {display: none;}</style><div id=\"sk-container-id-1\" class=\"sk-top-container\"><div class=\"sk-text-repr-fallback\"><pre>GridSearchCV(cv=5,\n",
       "             estimator=Pipeline(steps=[(&#x27;scaler&#x27;, StandardScaler()),\n",
       "                                       (&#x27;logreg&#x27;,\n",
       "                                        LogisticRegression(random_state=42))]),\n",
       "             param_grid={&#x27;logreg__C&#x27;: [0.1, 0.5, 1, 10],\n",
       "                         &#x27;logreg__class_weight&#x27;: [{0: 1, 1: 5}, {0: 1.5, 1: 3},\n",
       "                                                  {0: 1.5, 1: 2.5},\n",
       "                                                  {0: 1.75, 1: 2.5}],\n",
       "                         &#x27;logreg__max_iter&#x27;: [100, 150, 200],\n",
       "                         &#x27;logreg__multi_class&#x27;: [&#x27;ovr&#x27;]})</pre><b>In a Jupyter environment, please rerun this cell to show the HTML representation or trust the notebook. <br />On GitHub, the HTML representation is unable to render, please try loading this page with nbviewer.org.</b></div><div class=\"sk-container\" hidden><div class=\"sk-item sk-dashed-wrapped\"><div class=\"sk-label-container\"><div class=\"sk-label sk-toggleable\"><input class=\"sk-toggleable__control sk-hidden--visually\" id=\"sk-estimator-id-1\" type=\"checkbox\" ><label for=\"sk-estimator-id-1\" class=\"sk-toggleable__label sk-toggleable__label-arrow\">GridSearchCV</label><div class=\"sk-toggleable__content\"><pre>GridSearchCV(cv=5,\n",
       "             estimator=Pipeline(steps=[(&#x27;scaler&#x27;, StandardScaler()),\n",
       "                                       (&#x27;logreg&#x27;,\n",
       "                                        LogisticRegression(random_state=42))]),\n",
       "             param_grid={&#x27;logreg__C&#x27;: [0.1, 0.5, 1, 10],\n",
       "                         &#x27;logreg__class_weight&#x27;: [{0: 1, 1: 5}, {0: 1.5, 1: 3},\n",
       "                                                  {0: 1.5, 1: 2.5},\n",
       "                                                  {0: 1.75, 1: 2.5}],\n",
       "                         &#x27;logreg__max_iter&#x27;: [100, 150, 200],\n",
       "                         &#x27;logreg__multi_class&#x27;: [&#x27;ovr&#x27;]})</pre></div></div></div><div class=\"sk-parallel\"><div class=\"sk-parallel-item\"><div class=\"sk-item\"><div class=\"sk-label-container\"><div class=\"sk-label sk-toggleable\"><input class=\"sk-toggleable__control sk-hidden--visually\" id=\"sk-estimator-id-2\" type=\"checkbox\" ><label for=\"sk-estimator-id-2\" class=\"sk-toggleable__label sk-toggleable__label-arrow\">estimator: Pipeline</label><div class=\"sk-toggleable__content\"><pre>Pipeline(steps=[(&#x27;scaler&#x27;, StandardScaler()),\n",
       "                (&#x27;logreg&#x27;, LogisticRegression(random_state=42))])</pre></div></div></div><div class=\"sk-serial\"><div class=\"sk-item\"><div class=\"sk-serial\"><div class=\"sk-item\"><div class=\"sk-estimator sk-toggleable\"><input class=\"sk-toggleable__control sk-hidden--visually\" id=\"sk-estimator-id-3\" type=\"checkbox\" ><label for=\"sk-estimator-id-3\" class=\"sk-toggleable__label sk-toggleable__label-arrow\">StandardScaler</label><div class=\"sk-toggleable__content\"><pre>StandardScaler()</pre></div></div></div><div class=\"sk-item\"><div class=\"sk-estimator sk-toggleable\"><input class=\"sk-toggleable__control sk-hidden--visually\" id=\"sk-estimator-id-4\" type=\"checkbox\" ><label for=\"sk-estimator-id-4\" class=\"sk-toggleable__label sk-toggleable__label-arrow\">LogisticRegression</label><div class=\"sk-toggleable__content\"><pre>LogisticRegression(random_state=42)</pre></div></div></div></div></div></div></div></div></div></div></div></div>"
      ],
      "text/plain": [
       "GridSearchCV(cv=5,\n",
       "             estimator=Pipeline(steps=[('scaler', StandardScaler()),\n",
       "                                       ('logreg',\n",
       "                                        LogisticRegression(random_state=42))]),\n",
       "             param_grid={'logreg__C': [0.1, 0.5, 1, 10],\n",
       "                         'logreg__class_weight': [{0: 1, 1: 5}, {0: 1.5, 1: 3},\n",
       "                                                  {0: 1.5, 1: 2.5},\n",
       "                                                  {0: 1.75, 1: 2.5}],\n",
       "                         'logreg__max_iter': [100, 150, 200],\n",
       "                         'logreg__multi_class': ['ovr']})"
      ]
     },
     "execution_count": 21,
     "metadata": {},
     "output_type": "execute_result"
    }
   ],
   "source": [
    "# Hyperparameter tuning\n",
    "grid_search_params = {\n",
    "    'logreg__C': [0.1,0.5, 1,10],\n",
    "    'logreg__multi_class':['ovr'],    # Hyperparameter untuk pilihan output binary\n",
    "    'logreg__class_weight':[{0:1,1:5},{0:1.5,1:3},{0:1.5,1:2.5},{0:1.75,1:2.5}],\n",
    "    'logreg__max_iter' : [100,150,200]\n",
    "}\n",
    "\n",
    "clf_grid = GridSearchCV(pipe_log, param_grid=grid_search_params, cv=5)\n",
    "clf_grid.fit(X_train, y_train)"
   ]
  },
  {
   "cell_type": "markdown",
   "metadata": {},
   "source": [
    "### <u>Support Vector Machine</u>"
   ]
  },
  {
   "cell_type": "markdown",
   "metadata": {},
   "source": [
    "#### Without Pipeline"
   ]
  },
  {
   "cell_type": "code",
   "execution_count": 22,
   "metadata": {},
   "outputs": [
    {
     "data": {
      "text/html": [
       "<style>#sk-container-id-2 {color: black;background-color: white;}#sk-container-id-2 pre{padding: 0;}#sk-container-id-2 div.sk-toggleable {background-color: white;}#sk-container-id-2 label.sk-toggleable__label {cursor: pointer;display: block;width: 100%;margin-bottom: 0;padding: 0.3em;box-sizing: border-box;text-align: center;}#sk-container-id-2 label.sk-toggleable__label-arrow:before {content: \"▸\";float: left;margin-right: 0.25em;color: #696969;}#sk-container-id-2 label.sk-toggleable__label-arrow:hover:before {color: black;}#sk-container-id-2 div.sk-estimator:hover label.sk-toggleable__label-arrow:before {color: black;}#sk-container-id-2 div.sk-toggleable__content {max-height: 0;max-width: 0;overflow: hidden;text-align: left;background-color: #f0f8ff;}#sk-container-id-2 div.sk-toggleable__content pre {margin: 0.2em;color: black;border-radius: 0.25em;background-color: #f0f8ff;}#sk-container-id-2 input.sk-toggleable__control:checked~div.sk-toggleable__content {max-height: 200px;max-width: 100%;overflow: auto;}#sk-container-id-2 input.sk-toggleable__control:checked~label.sk-toggleable__label-arrow:before {content: \"▾\";}#sk-container-id-2 div.sk-estimator input.sk-toggleable__control:checked~label.sk-toggleable__label {background-color: #d4ebff;}#sk-container-id-2 div.sk-label input.sk-toggleable__control:checked~label.sk-toggleable__label {background-color: #d4ebff;}#sk-container-id-2 input.sk-hidden--visually {border: 0;clip: rect(1px 1px 1px 1px);clip: rect(1px, 1px, 1px, 1px);height: 1px;margin: -1px;overflow: hidden;padding: 0;position: absolute;width: 1px;}#sk-container-id-2 div.sk-estimator {font-family: monospace;background-color: #f0f8ff;border: 1px dotted black;border-radius: 0.25em;box-sizing: border-box;margin-bottom: 0.5em;}#sk-container-id-2 div.sk-estimator:hover {background-color: #d4ebff;}#sk-container-id-2 div.sk-parallel-item::after {content: \"\";width: 100%;border-bottom: 1px solid gray;flex-grow: 1;}#sk-container-id-2 div.sk-label:hover label.sk-toggleable__label {background-color: #d4ebff;}#sk-container-id-2 div.sk-serial::before {content: \"\";position: absolute;border-left: 1px solid gray;box-sizing: border-box;top: 0;bottom: 0;left: 50%;z-index: 0;}#sk-container-id-2 div.sk-serial {display: flex;flex-direction: column;align-items: center;background-color: white;padding-right: 0.2em;padding-left: 0.2em;position: relative;}#sk-container-id-2 div.sk-item {position: relative;z-index: 1;}#sk-container-id-2 div.sk-parallel {display: flex;align-items: stretch;justify-content: center;background-color: white;position: relative;}#sk-container-id-2 div.sk-item::before, #sk-container-id-2 div.sk-parallel-item::before {content: \"\";position: absolute;border-left: 1px solid gray;box-sizing: border-box;top: 0;bottom: 0;left: 50%;z-index: -1;}#sk-container-id-2 div.sk-parallel-item {display: flex;flex-direction: column;z-index: 1;position: relative;background-color: white;}#sk-container-id-2 div.sk-parallel-item:first-child::after {align-self: flex-end;width: 50%;}#sk-container-id-2 div.sk-parallel-item:last-child::after {align-self: flex-start;width: 50%;}#sk-container-id-2 div.sk-parallel-item:only-child::after {width: 0;}#sk-container-id-2 div.sk-dashed-wrapped {border: 1px dashed gray;margin: 0 0.4em 0.5em 0.4em;box-sizing: border-box;padding-bottom: 0.4em;background-color: white;}#sk-container-id-2 div.sk-label label {font-family: monospace;font-weight: bold;display: inline-block;line-height: 1.2em;}#sk-container-id-2 div.sk-label-container {text-align: center;}#sk-container-id-2 div.sk-container {/* jupyter's `normalize.less` sets `[hidden] { display: none; }` but bootstrap.min.css set `[hidden] { display: none !important; }` so we also need the `!important` here to be able to override the default hidden behavior on the sphinx rendered scikit-learn.org. See: https://github.com/scikit-learn/scikit-learn/issues/21755 */display: inline-block !important;position: relative;}#sk-container-id-2 div.sk-text-repr-fallback {display: none;}</style><div id=\"sk-container-id-2\" class=\"sk-top-container\"><div class=\"sk-text-repr-fallback\"><pre>SVC(kernel=&#x27;linear&#x27;)</pre><b>In a Jupyter environment, please rerun this cell to show the HTML representation or trust the notebook. <br />On GitHub, the HTML representation is unable to render, please try loading this page with nbviewer.org.</b></div><div class=\"sk-container\" hidden><div class=\"sk-item\"><div class=\"sk-estimator sk-toggleable\"><input class=\"sk-toggleable__control sk-hidden--visually\" id=\"sk-estimator-id-5\" type=\"checkbox\" checked><label for=\"sk-estimator-id-5\" class=\"sk-toggleable__label sk-toggleable__label-arrow\">SVC</label><div class=\"sk-toggleable__content\"><pre>SVC(kernel=&#x27;linear&#x27;)</pre></div></div></div></div></div>"
      ],
      "text/plain": [
       "SVC(kernel='linear')"
      ]
     },
     "execution_count": 22,
     "metadata": {},
     "output_type": "execute_result"
    }
   ],
   "source": [
    "# memanggil ML algorithm\n",
    "scaled_svm = SVC(kernel='linear')\n",
    "\n",
    "# melakukan fitting\n",
    "scaled_svm.fit(X_train_scaled, y_train)"
   ]
  },
  {
   "cell_type": "markdown",
   "metadata": {},
   "source": [
    "#### With Pipeline"
   ]
  },
  {
   "cell_type": "code",
   "execution_count": 50,
   "metadata": {},
   "outputs": [],
   "source": [
    "# define pipeline\n",
    "pipe_svm = Pipeline([('scaler', StandardScaler()), \n",
    "                     ('svm',SVC(probability=True))\n",
    "])"
   ]
  },
  {
   "cell_type": "code",
   "execution_count": 51,
   "metadata": {},
   "outputs": [
    {
     "data": {
      "text/html": [
       "<style>#sk-container-id-6 {color: black;background-color: white;}#sk-container-id-6 pre{padding: 0;}#sk-container-id-6 div.sk-toggleable {background-color: white;}#sk-container-id-6 label.sk-toggleable__label {cursor: pointer;display: block;width: 100%;margin-bottom: 0;padding: 0.3em;box-sizing: border-box;text-align: center;}#sk-container-id-6 label.sk-toggleable__label-arrow:before {content: \"▸\";float: left;margin-right: 0.25em;color: #696969;}#sk-container-id-6 label.sk-toggleable__label-arrow:hover:before {color: black;}#sk-container-id-6 div.sk-estimator:hover label.sk-toggleable__label-arrow:before {color: black;}#sk-container-id-6 div.sk-toggleable__content {max-height: 0;max-width: 0;overflow: hidden;text-align: left;background-color: #f0f8ff;}#sk-container-id-6 div.sk-toggleable__content pre {margin: 0.2em;color: black;border-radius: 0.25em;background-color: #f0f8ff;}#sk-container-id-6 input.sk-toggleable__control:checked~div.sk-toggleable__content {max-height: 200px;max-width: 100%;overflow: auto;}#sk-container-id-6 input.sk-toggleable__control:checked~label.sk-toggleable__label-arrow:before {content: \"▾\";}#sk-container-id-6 div.sk-estimator input.sk-toggleable__control:checked~label.sk-toggleable__label {background-color: #d4ebff;}#sk-container-id-6 div.sk-label input.sk-toggleable__control:checked~label.sk-toggleable__label {background-color: #d4ebff;}#sk-container-id-6 input.sk-hidden--visually {border: 0;clip: rect(1px 1px 1px 1px);clip: rect(1px, 1px, 1px, 1px);height: 1px;margin: -1px;overflow: hidden;padding: 0;position: absolute;width: 1px;}#sk-container-id-6 div.sk-estimator {font-family: monospace;background-color: #f0f8ff;border: 1px dotted black;border-radius: 0.25em;box-sizing: border-box;margin-bottom: 0.5em;}#sk-container-id-6 div.sk-estimator:hover {background-color: #d4ebff;}#sk-container-id-6 div.sk-parallel-item::after {content: \"\";width: 100%;border-bottom: 1px solid gray;flex-grow: 1;}#sk-container-id-6 div.sk-label:hover label.sk-toggleable__label {background-color: #d4ebff;}#sk-container-id-6 div.sk-serial::before {content: \"\";position: absolute;border-left: 1px solid gray;box-sizing: border-box;top: 0;bottom: 0;left: 50%;z-index: 0;}#sk-container-id-6 div.sk-serial {display: flex;flex-direction: column;align-items: center;background-color: white;padding-right: 0.2em;padding-left: 0.2em;position: relative;}#sk-container-id-6 div.sk-item {position: relative;z-index: 1;}#sk-container-id-6 div.sk-parallel {display: flex;align-items: stretch;justify-content: center;background-color: white;position: relative;}#sk-container-id-6 div.sk-item::before, #sk-container-id-6 div.sk-parallel-item::before {content: \"\";position: absolute;border-left: 1px solid gray;box-sizing: border-box;top: 0;bottom: 0;left: 50%;z-index: -1;}#sk-container-id-6 div.sk-parallel-item {display: flex;flex-direction: column;z-index: 1;position: relative;background-color: white;}#sk-container-id-6 div.sk-parallel-item:first-child::after {align-self: flex-end;width: 50%;}#sk-container-id-6 div.sk-parallel-item:last-child::after {align-self: flex-start;width: 50%;}#sk-container-id-6 div.sk-parallel-item:only-child::after {width: 0;}#sk-container-id-6 div.sk-dashed-wrapped {border: 1px dashed gray;margin: 0 0.4em 0.5em 0.4em;box-sizing: border-box;padding-bottom: 0.4em;background-color: white;}#sk-container-id-6 div.sk-label label {font-family: monospace;font-weight: bold;display: inline-block;line-height: 1.2em;}#sk-container-id-6 div.sk-label-container {text-align: center;}#sk-container-id-6 div.sk-container {/* jupyter's `normalize.less` sets `[hidden] { display: none; }` but bootstrap.min.css set `[hidden] { display: none !important; }` so we also need the `!important` here to be able to override the default hidden behavior on the sphinx rendered scikit-learn.org. See: https://github.com/scikit-learn/scikit-learn/issues/21755 */display: inline-block !important;position: relative;}#sk-container-id-6 div.sk-text-repr-fallback {display: none;}</style><div id=\"sk-container-id-6\" class=\"sk-top-container\"><div class=\"sk-text-repr-fallback\"><pre>GridSearchCV(cv=5,\n",
       "             estimator=Pipeline(steps=[(&#x27;scaler&#x27;, StandardScaler()),\n",
       "                                       (&#x27;svm&#x27;, SVC(probability=True))]),\n",
       "             param_grid={&#x27;svm__C&#x27;: [0.01, 1, 10],\n",
       "                         &#x27;svm__class_weight&#x27;: [{0: 1.5, 1: 2.5}],\n",
       "                         &#x27;svm__gamma&#x27;: [0.01, 1, 10],\n",
       "                         &#x27;svm__kernel&#x27;: [&#x27;linear&#x27;, &#x27;rbf&#x27;]})</pre><b>In a Jupyter environment, please rerun this cell to show the HTML representation or trust the notebook. <br />On GitHub, the HTML representation is unable to render, please try loading this page with nbviewer.org.</b></div><div class=\"sk-container\" hidden><div class=\"sk-item sk-dashed-wrapped\"><div class=\"sk-label-container\"><div class=\"sk-label sk-toggleable\"><input class=\"sk-toggleable__control sk-hidden--visually\" id=\"sk-estimator-id-15\" type=\"checkbox\" ><label for=\"sk-estimator-id-15\" class=\"sk-toggleable__label sk-toggleable__label-arrow\">GridSearchCV</label><div class=\"sk-toggleable__content\"><pre>GridSearchCV(cv=5,\n",
       "             estimator=Pipeline(steps=[(&#x27;scaler&#x27;, StandardScaler()),\n",
       "                                       (&#x27;svm&#x27;, SVC(probability=True))]),\n",
       "             param_grid={&#x27;svm__C&#x27;: [0.01, 1, 10],\n",
       "                         &#x27;svm__class_weight&#x27;: [{0: 1.5, 1: 2.5}],\n",
       "                         &#x27;svm__gamma&#x27;: [0.01, 1, 10],\n",
       "                         &#x27;svm__kernel&#x27;: [&#x27;linear&#x27;, &#x27;rbf&#x27;]})</pre></div></div></div><div class=\"sk-parallel\"><div class=\"sk-parallel-item\"><div class=\"sk-item\"><div class=\"sk-label-container\"><div class=\"sk-label sk-toggleable\"><input class=\"sk-toggleable__control sk-hidden--visually\" id=\"sk-estimator-id-16\" type=\"checkbox\" ><label for=\"sk-estimator-id-16\" class=\"sk-toggleable__label sk-toggleable__label-arrow\">estimator: Pipeline</label><div class=\"sk-toggleable__content\"><pre>Pipeline(steps=[(&#x27;scaler&#x27;, StandardScaler()), (&#x27;svm&#x27;, SVC(probability=True))])</pre></div></div></div><div class=\"sk-serial\"><div class=\"sk-item\"><div class=\"sk-serial\"><div class=\"sk-item\"><div class=\"sk-estimator sk-toggleable\"><input class=\"sk-toggleable__control sk-hidden--visually\" id=\"sk-estimator-id-17\" type=\"checkbox\" ><label for=\"sk-estimator-id-17\" class=\"sk-toggleable__label sk-toggleable__label-arrow\">StandardScaler</label><div class=\"sk-toggleable__content\"><pre>StandardScaler()</pre></div></div></div><div class=\"sk-item\"><div class=\"sk-estimator sk-toggleable\"><input class=\"sk-toggleable__control sk-hidden--visually\" id=\"sk-estimator-id-18\" type=\"checkbox\" ><label for=\"sk-estimator-id-18\" class=\"sk-toggleable__label sk-toggleable__label-arrow\">SVC</label><div class=\"sk-toggleable__content\"><pre>SVC(probability=True)</pre></div></div></div></div></div></div></div></div></div></div></div></div>"
      ],
      "text/plain": [
       "GridSearchCV(cv=5,\n",
       "             estimator=Pipeline(steps=[('scaler', StandardScaler()),\n",
       "                                       ('svm', SVC(probability=True))]),\n",
       "             param_grid={'svm__C': [0.01, 1, 10],\n",
       "                         'svm__class_weight': [{0: 1.5, 1: 2.5}],\n",
       "                         'svm__gamma': [0.01, 1, 10],\n",
       "                         'svm__kernel': ['linear', 'rbf']})"
      ]
     },
     "execution_count": 51,
     "metadata": {},
     "output_type": "execute_result"
    }
   ],
   "source": [
    "# Hyperparameter tuning\n",
    "grid_search_params2 = {\n",
    "    'svm__C': [0.01, 1, 10],     # Hyperparameters for SVC\n",
    "    'svm__gamma': [0.01, 1, 10],\n",
    "    'svm__kernel': ['linear', 'rbf'],\n",
    "    'svm__class_weight': [{0:1.5,1:2.5}]\n",
    "}\n",
    "\n",
    "clf_grid2 = GridSearchCV(pipe_svm, param_grid=grid_search_params2, cv=5)\n",
    "clf_grid2.fit(X_train, y_train)"
   ]
  },
  {
   "cell_type": "markdown",
   "metadata": {},
   "source": [
    "### <u>K-Nearest Neighbours</u>"
   ]
  },
  {
   "cell_type": "markdown",
   "metadata": {},
   "source": [
    "#### Without Pipeline"
   ]
  },
  {
   "cell_type": "code",
   "execution_count": 25,
   "metadata": {},
   "outputs": [
    {
     "data": {
      "text/html": [
       "<style>#sk-container-id-4 {color: black;background-color: white;}#sk-container-id-4 pre{padding: 0;}#sk-container-id-4 div.sk-toggleable {background-color: white;}#sk-container-id-4 label.sk-toggleable__label {cursor: pointer;display: block;width: 100%;margin-bottom: 0;padding: 0.3em;box-sizing: border-box;text-align: center;}#sk-container-id-4 label.sk-toggleable__label-arrow:before {content: \"▸\";float: left;margin-right: 0.25em;color: #696969;}#sk-container-id-4 label.sk-toggleable__label-arrow:hover:before {color: black;}#sk-container-id-4 div.sk-estimator:hover label.sk-toggleable__label-arrow:before {color: black;}#sk-container-id-4 div.sk-toggleable__content {max-height: 0;max-width: 0;overflow: hidden;text-align: left;background-color: #f0f8ff;}#sk-container-id-4 div.sk-toggleable__content pre {margin: 0.2em;color: black;border-radius: 0.25em;background-color: #f0f8ff;}#sk-container-id-4 input.sk-toggleable__control:checked~div.sk-toggleable__content {max-height: 200px;max-width: 100%;overflow: auto;}#sk-container-id-4 input.sk-toggleable__control:checked~label.sk-toggleable__label-arrow:before {content: \"▾\";}#sk-container-id-4 div.sk-estimator input.sk-toggleable__control:checked~label.sk-toggleable__label {background-color: #d4ebff;}#sk-container-id-4 div.sk-label input.sk-toggleable__control:checked~label.sk-toggleable__label {background-color: #d4ebff;}#sk-container-id-4 input.sk-hidden--visually {border: 0;clip: rect(1px 1px 1px 1px);clip: rect(1px, 1px, 1px, 1px);height: 1px;margin: -1px;overflow: hidden;padding: 0;position: absolute;width: 1px;}#sk-container-id-4 div.sk-estimator {font-family: monospace;background-color: #f0f8ff;border: 1px dotted black;border-radius: 0.25em;box-sizing: border-box;margin-bottom: 0.5em;}#sk-container-id-4 div.sk-estimator:hover {background-color: #d4ebff;}#sk-container-id-4 div.sk-parallel-item::after {content: \"\";width: 100%;border-bottom: 1px solid gray;flex-grow: 1;}#sk-container-id-4 div.sk-label:hover label.sk-toggleable__label {background-color: #d4ebff;}#sk-container-id-4 div.sk-serial::before {content: \"\";position: absolute;border-left: 1px solid gray;box-sizing: border-box;top: 0;bottom: 0;left: 50%;z-index: 0;}#sk-container-id-4 div.sk-serial {display: flex;flex-direction: column;align-items: center;background-color: white;padding-right: 0.2em;padding-left: 0.2em;position: relative;}#sk-container-id-4 div.sk-item {position: relative;z-index: 1;}#sk-container-id-4 div.sk-parallel {display: flex;align-items: stretch;justify-content: center;background-color: white;position: relative;}#sk-container-id-4 div.sk-item::before, #sk-container-id-4 div.sk-parallel-item::before {content: \"\";position: absolute;border-left: 1px solid gray;box-sizing: border-box;top: 0;bottom: 0;left: 50%;z-index: -1;}#sk-container-id-4 div.sk-parallel-item {display: flex;flex-direction: column;z-index: 1;position: relative;background-color: white;}#sk-container-id-4 div.sk-parallel-item:first-child::after {align-self: flex-end;width: 50%;}#sk-container-id-4 div.sk-parallel-item:last-child::after {align-self: flex-start;width: 50%;}#sk-container-id-4 div.sk-parallel-item:only-child::after {width: 0;}#sk-container-id-4 div.sk-dashed-wrapped {border: 1px dashed gray;margin: 0 0.4em 0.5em 0.4em;box-sizing: border-box;padding-bottom: 0.4em;background-color: white;}#sk-container-id-4 div.sk-label label {font-family: monospace;font-weight: bold;display: inline-block;line-height: 1.2em;}#sk-container-id-4 div.sk-label-container {text-align: center;}#sk-container-id-4 div.sk-container {/* jupyter's `normalize.less` sets `[hidden] { display: none; }` but bootstrap.min.css set `[hidden] { display: none !important; }` so we also need the `!important` here to be able to override the default hidden behavior on the sphinx rendered scikit-learn.org. See: https://github.com/scikit-learn/scikit-learn/issues/21755 */display: inline-block !important;position: relative;}#sk-container-id-4 div.sk-text-repr-fallback {display: none;}</style><div id=\"sk-container-id-4\" class=\"sk-top-container\"><div class=\"sk-text-repr-fallback\"><pre>KNeighborsClassifier(n_neighbors=3)</pre><b>In a Jupyter environment, please rerun this cell to show the HTML representation or trust the notebook. <br />On GitHub, the HTML representation is unable to render, please try loading this page with nbviewer.org.</b></div><div class=\"sk-container\" hidden><div class=\"sk-item\"><div class=\"sk-estimator sk-toggleable\"><input class=\"sk-toggleable__control sk-hidden--visually\" id=\"sk-estimator-id-10\" type=\"checkbox\" checked><label for=\"sk-estimator-id-10\" class=\"sk-toggleable__label sk-toggleable__label-arrow\">KNeighborsClassifier</label><div class=\"sk-toggleable__content\"><pre>KNeighborsClassifier(n_neighbors=3)</pre></div></div></div></div></div>"
      ],
      "text/plain": [
       "KNeighborsClassifier(n_neighbors=3)"
      ]
     },
     "execution_count": 25,
     "metadata": {},
     "output_type": "execute_result"
    }
   ],
   "source": [
    "# KNN\n",
    "knn_model = KNeighborsClassifier(n_neighbors=3)\n",
    "knn_model.fit(X_train_scaled, y_train)"
   ]
  },
  {
   "cell_type": "markdown",
   "metadata": {},
   "source": [
    "#### With Pipeline"
   ]
  },
  {
   "cell_type": "code",
   "execution_count": 26,
   "metadata": {},
   "outputs": [],
   "source": [
    "# define pipeline\n",
    "pipe_knn = Pipeline([('scaler', StandardScaler()), \n",
    "                     ('KNN',KNeighborsClassifier())\n",
    "])"
   ]
  },
  {
   "cell_type": "code",
   "execution_count": 27,
   "metadata": {},
   "outputs": [
    {
     "data": {
      "text/html": [
       "<style>#sk-container-id-5 {color: black;background-color: white;}#sk-container-id-5 pre{padding: 0;}#sk-container-id-5 div.sk-toggleable {background-color: white;}#sk-container-id-5 label.sk-toggleable__label {cursor: pointer;display: block;width: 100%;margin-bottom: 0;padding: 0.3em;box-sizing: border-box;text-align: center;}#sk-container-id-5 label.sk-toggleable__label-arrow:before {content: \"▸\";float: left;margin-right: 0.25em;color: #696969;}#sk-container-id-5 label.sk-toggleable__label-arrow:hover:before {color: black;}#sk-container-id-5 div.sk-estimator:hover label.sk-toggleable__label-arrow:before {color: black;}#sk-container-id-5 div.sk-toggleable__content {max-height: 0;max-width: 0;overflow: hidden;text-align: left;background-color: #f0f8ff;}#sk-container-id-5 div.sk-toggleable__content pre {margin: 0.2em;color: black;border-radius: 0.25em;background-color: #f0f8ff;}#sk-container-id-5 input.sk-toggleable__control:checked~div.sk-toggleable__content {max-height: 200px;max-width: 100%;overflow: auto;}#sk-container-id-5 input.sk-toggleable__control:checked~label.sk-toggleable__label-arrow:before {content: \"▾\";}#sk-container-id-5 div.sk-estimator input.sk-toggleable__control:checked~label.sk-toggleable__label {background-color: #d4ebff;}#sk-container-id-5 div.sk-label input.sk-toggleable__control:checked~label.sk-toggleable__label {background-color: #d4ebff;}#sk-container-id-5 input.sk-hidden--visually {border: 0;clip: rect(1px 1px 1px 1px);clip: rect(1px, 1px, 1px, 1px);height: 1px;margin: -1px;overflow: hidden;padding: 0;position: absolute;width: 1px;}#sk-container-id-5 div.sk-estimator {font-family: monospace;background-color: #f0f8ff;border: 1px dotted black;border-radius: 0.25em;box-sizing: border-box;margin-bottom: 0.5em;}#sk-container-id-5 div.sk-estimator:hover {background-color: #d4ebff;}#sk-container-id-5 div.sk-parallel-item::after {content: \"\";width: 100%;border-bottom: 1px solid gray;flex-grow: 1;}#sk-container-id-5 div.sk-label:hover label.sk-toggleable__label {background-color: #d4ebff;}#sk-container-id-5 div.sk-serial::before {content: \"\";position: absolute;border-left: 1px solid gray;box-sizing: border-box;top: 0;bottom: 0;left: 50%;z-index: 0;}#sk-container-id-5 div.sk-serial {display: flex;flex-direction: column;align-items: center;background-color: white;padding-right: 0.2em;padding-left: 0.2em;position: relative;}#sk-container-id-5 div.sk-item {position: relative;z-index: 1;}#sk-container-id-5 div.sk-parallel {display: flex;align-items: stretch;justify-content: center;background-color: white;position: relative;}#sk-container-id-5 div.sk-item::before, #sk-container-id-5 div.sk-parallel-item::before {content: \"\";position: absolute;border-left: 1px solid gray;box-sizing: border-box;top: 0;bottom: 0;left: 50%;z-index: -1;}#sk-container-id-5 div.sk-parallel-item {display: flex;flex-direction: column;z-index: 1;position: relative;background-color: white;}#sk-container-id-5 div.sk-parallel-item:first-child::after {align-self: flex-end;width: 50%;}#sk-container-id-5 div.sk-parallel-item:last-child::after {align-self: flex-start;width: 50%;}#sk-container-id-5 div.sk-parallel-item:only-child::after {width: 0;}#sk-container-id-5 div.sk-dashed-wrapped {border: 1px dashed gray;margin: 0 0.4em 0.5em 0.4em;box-sizing: border-box;padding-bottom: 0.4em;background-color: white;}#sk-container-id-5 div.sk-label label {font-family: monospace;font-weight: bold;display: inline-block;line-height: 1.2em;}#sk-container-id-5 div.sk-label-container {text-align: center;}#sk-container-id-5 div.sk-container {/* jupyter's `normalize.less` sets `[hidden] { display: none; }` but bootstrap.min.css set `[hidden] { display: none !important; }` so we also need the `!important` here to be able to override the default hidden behavior on the sphinx rendered scikit-learn.org. See: https://github.com/scikit-learn/scikit-learn/issues/21755 */display: inline-block !important;position: relative;}#sk-container-id-5 div.sk-text-repr-fallback {display: none;}</style><div id=\"sk-container-id-5\" class=\"sk-top-container\"><div class=\"sk-text-repr-fallback\"><pre>GridSearchCV(cv=8,\n",
       "             estimator=Pipeline(steps=[(&#x27;scaler&#x27;, StandardScaler()),\n",
       "                                       (&#x27;KNN&#x27;, KNeighborsClassifier())]),\n",
       "             param_grid={&#x27;KNN__metric&#x27;: [&#x27;euclidean&#x27;, &#x27;manhattan&#x27;, &#x27;minkowski&#x27;],\n",
       "                         &#x27;KNN__n_neighbors&#x27;: [2, 6, 8, 10, 20],\n",
       "                         &#x27;KNN__p&#x27;: [1, 2],\n",
       "                         &#x27;KNN__weights&#x27;: [&#x27;uniform&#x27;, &#x27;distance&#x27;]})</pre><b>In a Jupyter environment, please rerun this cell to show the HTML representation or trust the notebook. <br />On GitHub, the HTML representation is unable to render, please try loading this page with nbviewer.org.</b></div><div class=\"sk-container\" hidden><div class=\"sk-item sk-dashed-wrapped\"><div class=\"sk-label-container\"><div class=\"sk-label sk-toggleable\"><input class=\"sk-toggleable__control sk-hidden--visually\" id=\"sk-estimator-id-11\" type=\"checkbox\" ><label for=\"sk-estimator-id-11\" class=\"sk-toggleable__label sk-toggleable__label-arrow\">GridSearchCV</label><div class=\"sk-toggleable__content\"><pre>GridSearchCV(cv=8,\n",
       "             estimator=Pipeline(steps=[(&#x27;scaler&#x27;, StandardScaler()),\n",
       "                                       (&#x27;KNN&#x27;, KNeighborsClassifier())]),\n",
       "             param_grid={&#x27;KNN__metric&#x27;: [&#x27;euclidean&#x27;, &#x27;manhattan&#x27;, &#x27;minkowski&#x27;],\n",
       "                         &#x27;KNN__n_neighbors&#x27;: [2, 6, 8, 10, 20],\n",
       "                         &#x27;KNN__p&#x27;: [1, 2],\n",
       "                         &#x27;KNN__weights&#x27;: [&#x27;uniform&#x27;, &#x27;distance&#x27;]})</pre></div></div></div><div class=\"sk-parallel\"><div class=\"sk-parallel-item\"><div class=\"sk-item\"><div class=\"sk-label-container\"><div class=\"sk-label sk-toggleable\"><input class=\"sk-toggleable__control sk-hidden--visually\" id=\"sk-estimator-id-12\" type=\"checkbox\" ><label for=\"sk-estimator-id-12\" class=\"sk-toggleable__label sk-toggleable__label-arrow\">estimator: Pipeline</label><div class=\"sk-toggleable__content\"><pre>Pipeline(steps=[(&#x27;scaler&#x27;, StandardScaler()), (&#x27;KNN&#x27;, KNeighborsClassifier())])</pre></div></div></div><div class=\"sk-serial\"><div class=\"sk-item\"><div class=\"sk-serial\"><div class=\"sk-item\"><div class=\"sk-estimator sk-toggleable\"><input class=\"sk-toggleable__control sk-hidden--visually\" id=\"sk-estimator-id-13\" type=\"checkbox\" ><label for=\"sk-estimator-id-13\" class=\"sk-toggleable__label sk-toggleable__label-arrow\">StandardScaler</label><div class=\"sk-toggleable__content\"><pre>StandardScaler()</pre></div></div></div><div class=\"sk-item\"><div class=\"sk-estimator sk-toggleable\"><input class=\"sk-toggleable__control sk-hidden--visually\" id=\"sk-estimator-id-14\" type=\"checkbox\" ><label for=\"sk-estimator-id-14\" class=\"sk-toggleable__label sk-toggleable__label-arrow\">KNeighborsClassifier</label><div class=\"sk-toggleable__content\"><pre>KNeighborsClassifier()</pre></div></div></div></div></div></div></div></div></div></div></div></div>"
      ],
      "text/plain": [
       "GridSearchCV(cv=8,\n",
       "             estimator=Pipeline(steps=[('scaler', StandardScaler()),\n",
       "                                       ('KNN', KNeighborsClassifier())]),\n",
       "             param_grid={'KNN__metric': ['euclidean', 'manhattan', 'minkowski'],\n",
       "                         'KNN__n_neighbors': [2, 6, 8, 10, 20],\n",
       "                         'KNN__p': [1, 2],\n",
       "                         'KNN__weights': ['uniform', 'distance']})"
      ]
     },
     "execution_count": 27,
     "metadata": {},
     "output_type": "execute_result"
    }
   ],
   "source": [
    "# Hyperparameter tuning\n",
    "grid_search_params3 = {\n",
    "    'KNN__n_neighbors': [2, 6,8,10,20],\n",
    "    'KNN__weights': ['uniform', 'distance'],  # Contoh opsi weight\n",
    "    'KNN__metric': ['euclidean', 'manhattan','minkowski'], # metrik untuk distance\n",
    "    'KNN__p': [1,2]\n",
    "\n",
    "}\n",
    "\n",
    "# call pipeline for modelling\n",
    "clf_grid3 = GridSearchCV(pipe_knn, param_grid=grid_search_params3, cv=8)\n",
    "clf_grid3.fit(X_train, y_train)"
   ]
  },
  {
   "cell_type": "markdown",
   "metadata": {},
   "source": [
    "# **9. MODEL EVALUATION**\n",
    "\n",
    "- Menggunakan metrics evaluasi: f1 - score karena ingin mengevaluasi robustness model dalam menangani setiap kasus pada variabel target (kena atau tidak kena default)."
   ]
  },
  {
   "cell_type": "markdown",
   "metadata": {},
   "source": [
    "### Fungsi yang digunakan:"
   ]
  },
  {
   "cell_type": "code",
   "execution_count": 28,
   "metadata": {},
   "outputs": [],
   "source": [
    "# find best hyperparameter and estimator\n",
    "def best_hyper_estimator(clf_grid):\n",
    "  \n",
    "  best_params = clf_grid.best_params_\n",
    "  best_estimator = clf_grid.best_estimator_\n",
    "\n",
    "  print(\"Best hyperparameter: \", best_params)\n",
    "  print(\"Best estimator: \", best_estimator)"
   ]
  },
  {
   "cell_type": "code",
   "execution_count": 29,
   "metadata": {},
   "outputs": [],
   "source": [
    "# fungsi untuk pengukuran f1 - score\n",
    "def performance_checker(clf, X_train, y_train,X_test, y_test):\n",
    "  \n",
    "  y_pred_train = clf.predict(X_train)\n",
    "  y_pred_test = clf.predict(X_test)\n",
    "    \n",
    "  print(\"Train Set:\")\n",
    "  print(classification_report(y_train, y_pred_train))\n",
    "\n",
    "  print(\"Test Set:\")\n",
    "  print(classification_report(y_test, y_pred_test))"
   ]
  },
  {
   "cell_type": "markdown",
   "metadata": {},
   "source": [
    "### Model Without Pipeline"
   ]
  },
  {
   "cell_type": "markdown",
   "metadata": {},
   "source": [
    "##### Logistic Regression Model"
   ]
  },
  {
   "cell_type": "code",
   "execution_count": 30,
   "metadata": {},
   "outputs": [
    {
     "name": "stdout",
     "output_type": "stream",
     "text": [
      "Classification Metrics Result for Logistic Regression Model\n",
      "Train Set:\n",
      "              precision    recall  f1-score   support\n",
      "\n",
      "           0       0.83      0.97      0.90      1852\n",
      "           1       0.76      0.30      0.43       520\n",
      "\n",
      "    accuracy                           0.83      2372\n",
      "   macro avg       0.79      0.64      0.67      2372\n",
      "weighted avg       0.82      0.83      0.80      2372\n",
      "\n",
      "Test Set:\n",
      "              precision    recall  f1-score   support\n",
      "\n",
      "           0       0.81      0.95      0.88       478\n",
      "           1       0.26      0.07      0.11       115\n",
      "\n",
      "    accuracy                           0.78       593\n",
      "   macro avg       0.53      0.51      0.49       593\n",
      "weighted avg       0.70      0.78      0.73       593\n",
      "\n"
     ]
    },
    {
     "name": "stderr",
     "output_type": "stream",
     "text": [
      "/Users/catherinemulyadi/anaconda3/lib/python3.11/site-packages/sklearn/base.py:432: UserWarning: X has feature names, but LogisticRegression was fitted without feature names\n",
      "  warnings.warn(\n"
     ]
    }
   ],
   "source": [
    "# Check the accuracy of logistic regression model\n",
    "print(\"Classification Metrics Result for Logistic Regression Model\")\n",
    "performance_checker(model_logreg, X_train_scaled, y_train,X_test, y_test)"
   ]
  },
  {
   "cell_type": "markdown",
   "metadata": {},
   "source": [
    "##### SVM Model"
   ]
  },
  {
   "cell_type": "code",
   "execution_count": 31,
   "metadata": {},
   "outputs": [
    {
     "name": "stdout",
     "output_type": "stream",
     "text": [
      "Classification Metrics Result for Support Vector Machine Model\n",
      "Train Set:\n",
      "              precision    recall  f1-score   support\n",
      "\n",
      "           0       0.82      0.37      0.51      1852\n",
      "           1       0.24      0.72      0.36       520\n",
      "\n",
      "    accuracy                           0.45      2372\n",
      "   macro avg       0.53      0.55      0.44      2372\n",
      "weighted avg       0.70      0.45      0.48      2372\n",
      "\n",
      "Test Set:\n",
      "              precision    recall  f1-score   support\n",
      "\n",
      "           0       0.84      0.41      0.55       478\n",
      "           1       0.22      0.69      0.33       115\n",
      "\n",
      "    accuracy                           0.46       593\n",
      "   macro avg       0.53      0.55      0.44       593\n",
      "weighted avg       0.72      0.46      0.51       593\n",
      "\n"
     ]
    },
    {
     "name": "stderr",
     "output_type": "stream",
     "text": [
      "/Users/catherinemulyadi/anaconda3/lib/python3.11/site-packages/sklearn/base.py:432: UserWarning: X has feature names, but SVC was fitted without feature names\n",
      "  warnings.warn(\n",
      "/Users/catherinemulyadi/anaconda3/lib/python3.11/site-packages/sklearn/base.py:432: UserWarning: X has feature names, but SVC was fitted without feature names\n",
      "  warnings.warn(\n"
     ]
    }
   ],
   "source": [
    "# Check the performanceof SVM model\n",
    "print(\"Classification Metrics Result for Support Vector Machine Model\")\n",
    "performance_checker(scaled_svm,X_train, y_train,X_test, y_test)"
   ]
  },
  {
   "cell_type": "markdown",
   "metadata": {},
   "source": [
    "##### KNN Model"
   ]
  },
  {
   "cell_type": "code",
   "execution_count": 32,
   "metadata": {},
   "outputs": [],
   "source": [
    "# Cek nilai y_pred\n",
    "y_pred_train_knn = knn_model.predict(X_train_scaled)\n",
    "y_pred_test_knn = knn_model.predict(X_test_scaled)"
   ]
  },
  {
   "cell_type": "code",
   "execution_count": 33,
   "metadata": {},
   "outputs": [
    {
     "name": "stdout",
     "output_type": "stream",
     "text": [
      "Train Set:\n",
      "              precision    recall  f1-score   support\n",
      "\n",
      "           0       0.90      0.96      0.93      1852\n",
      "           1       0.80      0.60      0.69       520\n",
      "\n",
      "    accuracy                           0.88      2372\n",
      "   macro avg       0.85      0.78      0.81      2372\n",
      "weighted avg       0.87      0.88      0.87      2372\n",
      "\n"
     ]
    }
   ],
   "source": [
    "print(\"Train Set:\")\n",
    "print(classification_report(y_train, y_pred_train_knn))"
   ]
  },
  {
   "cell_type": "code",
   "execution_count": 34,
   "metadata": {},
   "outputs": [
    {
     "name": "stdout",
     "output_type": "stream",
     "text": [
      "Test Set:\n",
      "              precision    recall  f1-score   support\n",
      "\n",
      "           0       0.85      0.90      0.88       478\n",
      "           1       0.45      0.34      0.39       115\n",
      "\n",
      "    accuracy                           0.79       593\n",
      "   macro avg       0.65      0.62      0.63       593\n",
      "weighted avg       0.77      0.79      0.78       593\n",
      "\n"
     ]
    }
   ],
   "source": [
    "print(\"Test Set:\")\n",
    "print(classification_report(y_test, y_pred_test_knn))"
   ]
  },
  {
   "cell_type": "markdown",
   "metadata": {},
   "source": [
    "### With Pipeline and Hyperparameter Tuning"
   ]
  },
  {
   "cell_type": "markdown",
   "metadata": {},
   "source": [
    "##### Logistic Regression Model"
   ]
  },
  {
   "cell_type": "code",
   "execution_count": 35,
   "metadata": {},
   "outputs": [
    {
     "name": "stdout",
     "output_type": "stream",
     "text": [
      "Best hyperparameter:  {'logreg__C': 0.1, 'logreg__class_weight': {0: 1.5, 1: 2.5}, 'logreg__max_iter': 100, 'logreg__multi_class': 'ovr'}\n",
      "Best estimator:  Pipeline(steps=[('scaler', StandardScaler()),\n",
      "                ('logreg',\n",
      "                 LogisticRegression(C=0.1, class_weight={0: 1.5, 1: 2.5},\n",
      "                                    multi_class='ovr', random_state=42))])\n"
     ]
    }
   ],
   "source": [
    "# show the best hyperparameter and estimator setting\n",
    "best_hyper_estimator(clf_grid)"
   ]
  },
  {
   "cell_type": "code",
   "execution_count": 36,
   "metadata": {},
   "outputs": [
    {
     "name": "stdout",
     "output_type": "stream",
     "text": [
      "Coefficient :  [[ 0.06360836 -0.0042411  -0.11620814 -0.08809383  0.66169235  0.05426467\n",
      "   0.1214488   0.00338976  0.23256451 -0.05948146 -0.34338761  0.31117323\n",
      "   0.21744535 -0.52541074  0.30843163  0.00994983 -0.09022252 -0.52445419\n",
      "  -0.18117771 -0.07153766 -0.2181748  -0.12898485]]\n",
      "Intercept   :  [-1.04482529]\n"
     ]
    }
   ],
   "source": [
    "# Get the interdcept and coefficient from the best estimator model from Logistic Regression\n",
    "best_estimator_log = clf_grid.best_estimator_\n",
    "print('Coefficient : ', best_estimator_log.named_steps['logreg'].coef_)\n",
    "print('Intercept   : ', best_estimator_log.named_steps['logreg'].intercept_)"
   ]
  },
  {
   "cell_type": "code",
   "execution_count": 37,
   "metadata": {},
   "outputs": [
    {
     "name": "stdout",
     "output_type": "stream",
     "text": [
      "Train Set:\n",
      "              precision    recall  f1-score   support\n",
      "\n",
      "           0       0.85      0.95      0.90      1852\n",
      "           1       0.69      0.42      0.52       520\n",
      "\n",
      "    accuracy                           0.83      2372\n",
      "   macro avg       0.77      0.68      0.71      2372\n",
      "weighted avg       0.82      0.83      0.82      2372\n",
      "\n",
      "Test Set:\n",
      "              precision    recall  f1-score   support\n",
      "\n",
      "           0       0.88      0.93      0.91       478\n",
      "           1       0.62      0.48      0.54       115\n",
      "\n",
      "    accuracy                           0.84       593\n",
      "   macro avg       0.75      0.70      0.72       593\n",
      "weighted avg       0.83      0.84      0.83       593\n",
      "\n"
     ]
    }
   ],
   "source": [
    "# Hasil best estimator untuk Logistic Regression\n",
    "performance_checker(best_estimator_log, X_train, y_train,X_test, y_test)"
   ]
  },
  {
   "cell_type": "markdown",
   "metadata": {},
   "source": [
    "#### SVM"
   ]
  },
  {
   "cell_type": "code",
   "execution_count": 38,
   "metadata": {},
   "outputs": [
    {
     "name": "stdout",
     "output_type": "stream",
     "text": [
      "Best hyperparameter:  {'svm__C': 10, 'svm__class_weight': {0: 1.5, 1: 2.5}, 'svm__gamma': 0.01, 'svm__kernel': 'rbf'}\n",
      "Best estimator:  Pipeline(steps=[('scaler', StandardScaler()),\n",
      "                ('svm', SVC(C=10, class_weight={0: 1.5, 1: 2.5}, gamma=0.01))])\n"
     ]
    }
   ],
   "source": [
    "# show the best hyperparameter and estimator setting\n",
    "best_hyper_estimator(clf_grid2)"
   ]
  },
  {
   "cell_type": "code",
   "execution_count": 52,
   "metadata": {},
   "outputs": [
    {
     "name": "stdout",
     "output_type": "stream",
     "text": [
      "Intercept   :  [-0.57913353]\n"
     ]
    }
   ],
   "source": [
    "# Get the interdcept and coefficient from the best estimator model from Logistic Regression\n",
    "best_estimator_svm = clf_grid2.best_estimator_\n",
    "# print('Coefficient : ', best_estimator_svm.named_steps['svm'].coef_)\n",
    "print('Intercept   : ', best_estimator_svm.named_steps['svm'].intercept_)"
   ]
  },
  {
   "cell_type": "code",
   "execution_count": 40,
   "metadata": {},
   "outputs": [
    {
     "name": "stdout",
     "output_type": "stream",
     "text": [
      "Train Set:\n",
      "              precision    recall  f1-score   support\n",
      "\n",
      "           0       0.87      0.95      0.91      1852\n",
      "           1       0.72      0.49      0.59       520\n",
      "\n",
      "    accuracy                           0.85      2372\n",
      "   macro avg       0.80      0.72      0.75      2372\n",
      "weighted avg       0.84      0.85      0.84      2372\n",
      "\n",
      "Test Set:\n",
      "              precision    recall  f1-score   support\n",
      "\n",
      "           0       0.88      0.94      0.91       478\n",
      "           1       0.63      0.46      0.53       115\n",
      "\n",
      "    accuracy                           0.84       593\n",
      "   macro avg       0.75      0.70      0.72       593\n",
      "weighted avg       0.83      0.84      0.83       593\n",
      "\n"
     ]
    }
   ],
   "source": [
    "# Hasil best estimator untuk Logistic Regression\n",
    "performance_checker(best_estimator_svm, X_train, y_train,X_test, y_test)"
   ]
  },
  {
   "cell_type": "markdown",
   "metadata": {},
   "source": [
    "#### KNN"
   ]
  },
  {
   "cell_type": "code",
   "execution_count": 41,
   "metadata": {},
   "outputs": [
    {
     "name": "stdout",
     "output_type": "stream",
     "text": [
      "Best hyperparameter:  {'KNN__metric': 'manhattan', 'KNN__n_neighbors': 10, 'KNN__p': 1, 'KNN__weights': 'uniform'}\n",
      "Best estimator:  Pipeline(steps=[('scaler', StandardScaler()),\n",
      "                ('KNN',\n",
      "                 KNeighborsClassifier(metric='manhattan', n_neighbors=10,\n",
      "                                      p=1))])\n"
     ]
    }
   ],
   "source": [
    "# show the best hyperparameter and estimator setting for KNN\n",
    "best_hyper_estimator(clf_grid3)"
   ]
  },
  {
   "cell_type": "code",
   "execution_count": 42,
   "metadata": {},
   "outputs": [
    {
     "name": "stdout",
     "output_type": "stream",
     "text": [
      "Train Set:\n",
      "              precision    recall  f1-score   support\n",
      "\n",
      "           0       0.83      0.98      0.90      1852\n",
      "           1       0.82      0.30      0.44       520\n",
      "\n",
      "    accuracy                           0.83      2372\n",
      "   macro avg       0.82      0.64      0.67      2372\n",
      "weighted avg       0.83      0.83      0.80      2372\n",
      "\n",
      "Test Set:\n",
      "              precision    recall  f1-score   support\n",
      "\n",
      "           0       0.84      0.96      0.90       478\n",
      "           1       0.60      0.23      0.34       115\n",
      "\n",
      "    accuracy                           0.82       593\n",
      "   macro avg       0.72      0.60      0.62       593\n",
      "weighted avg       0.79      0.82      0.79       593\n",
      "\n"
     ]
    }
   ],
   "source": [
    "# Definisikan best estimator untuk KNN\n",
    "best_estimator_knn = clf_grid3.best_estimator_\n",
    "\n",
    "# Hasil best estimator untuk KNN\n",
    "performance_checker(best_estimator_knn, X_train, y_train,X_test, y_test)"
   ]
  },
  {
   "cell_type": "markdown",
   "metadata": {},
   "source": [
    "### **INSIGHT:**\n",
    "- Untuk setiap model (Logistic Regression, SVM, KNN), dibuat model baseline tanpa pipeline (seadanya, mengikuti default, dan hyperparameter simple) dan model dengan pipeline (hyperparameter diset dan dicari yang paling optimal). \n",
    "\n",
    "- Tujuan dari pemisahan model tanpa pipeline dan berpipeline adalah untuk membandingkan robustness model melalui peningkatan f1 - score pada setiap jenis model apabila pipeline digunakan.\n",
    "\n",
    "- Hasil akan dibandingkan berdasarkan tipe model:\n",
    "    - Logistic Regression\n",
    "        - Bila pipeline tidak digunakan, model kurang konsisten dalam menangani kasus penentuan default pada nasabah (default_payment_next_month = 1) karena n f1 - score dari training set lebih tinggi daripada test set (43% turun menjadi 11%).\n",
    "        \n",
    "        - Sedangkan, setelah pipeline dengan hyperparameter tuning dilakukan, model menjadi lebih konsisten dalam menangani kasus penentuan default pada nasabah (default_payment_next_month = 1) karena n f1 - score dari training set kurang lebih sama dengan test set (52% naik menjadi 54%) dengan performa moderat (f1 - score >= 50%).\n",
    "    - SVM\n",
    "        - Jika pipeline tidak digunakan, model memiliki kemampuan moderat cenderung kurang baik dalam menangani kasus baik penentuan default pada nasabah (default_payment_next_month = 1) maupun tidak kena default (default_payment_next_month = 0). Nilai f1 - score dari training set dan test set sama-sama berkisar di 50% untuk kasus non-default. Sedangkan, f1 - score dari training set dan test set pada kasus kena default adalah 30%.\n",
    "\n",
    "        - Setelah pipeline dengan hyperparameter tuning dilakukan, model mengalami peningkatan performa dan konsistensi dalam menangani kasus penentuan default pada nasabah (default_payment_next_month = 1) serta kasus non-default. Hal ini tercermin melalui nilai f1 - score untuk kasus kena default dari training set kurang lebih sama dengan test set (59% turun menjadi 53%). Lalu, penanganan kasus tidak kena default baik karena f1 - score mendekati 1 baik untuk training set sama dengan test set (sama-sama 91%).\n",
    "\n",
    "    - KNN\n",
    "        -Kalau pipeline tidak digunakan, model memiliki kemampuan kurang baik dalam penentuan default pada nasabah (default_payment_next_month = 1), tetapi baik untuk kasus tidak kena default (default_payment_next_month = 0). Nilai f1 - score untuk kasus tidak kena default dari training set dan test set mendekati 1. Namun, f1 - score untuk kasus kena default dari training set mengalami penurunan saat diuji di test set (69% menjadi 39%).\n",
    "\n",
    "        - Selanjutnya, penggunaan pipeline dengan hyperparameter tuning hanya memberi sedikit peningkatan pada f1 - score untuk kasus kena default dari segi kedekatan nilai train set dan test set (44% dan 34%). Tetapi, performa model secara garis besar tetap serupa dan kurang baik.\n",
    "\n",
    "- Salah satu model SVM yang memiliki hyperparameter: 'svm__C': 10, 'svm__class_weight': {0: 1.5, 1: 2.5}, 'svm__gamma': 0.01, 'svm__kernel': 'rbf' dipiih sebagai model terbaik dalam studi ini karena memiliki f1 - score tertinggi baik untuk penanganan kasus tidak kena maupun kena default."
   ]
  },
  {
   "cell_type": "markdown",
   "metadata": {},
   "source": [
    "## **ROC-AUC Curve**\n",
    "`Purpose`: To evaluate the capability of the model in discriminating positive and negative groups."
   ]
  },
  {
   "cell_type": "code",
   "execution_count": 60,
   "metadata": {},
   "outputs": [
    {
     "data": {
      "image/png": "[encoded data removed]",
      "text/plain": [
       "<Figure size 600x600 with 1 Axes>"
      ]
     },
     "metadata": {},
     "output_type": "display_data"
    }
   ],
   "source": [
    "# get the relevant variables\n",
    "y_true = y_test\n",
    "\n",
    "# extract the probability of class 1\n",
    "y_pred_proba_log = best_estimator_log.predict_proba(X_test)[:,1]\n",
    "y_pred_proba_svm = best_estimator_svm.predict_proba(X_test)[:,1]\n",
    "y_pred_proba_knn = best_estimator_knn.predict_proba(X_test)[:,1]\n",
    "\n",
    "\n",
    "# Calculate the ROC curve\n",
    "fpr_log,tpr_log, thresholds_log = roc_curve(y_true, y_pred_proba_log)\n",
    "fpr_svm,tpr_svm, thresholds_svm = roc_curve(y_true, y_pred_proba_svm)\n",
    "fpr_knn,tpr_knn, thresholds_knn = roc_curve(y_true, y_pred_proba_knn)\n",
    "\n",
    "\n",
    "# Find the ROC-AUC score\n",
    "roc_auc_val_log = roc_auc_score(y_true, y_pred_proba_log)\n",
    "roc_auc_val_svm = roc_auc_score(y_true, y_pred_proba_svm)\n",
    "roc_auc_val_knn = roc_auc_score(y_true, y_pred_proba_knn)\n",
    "\n",
    "\n",
    "\n",
    "# Make the plot\n",
    "plt.figure(figsize=(6,6))\n",
    "plt.plot(fpr_log,tpr_log, color = 'lightblue', lw=2, label =f'ROC Curve (AUC of Logistic Regression = {roc_auc_val_log:.2f})')\n",
    "plt.plot(fpr_svm,tpr_svm, color = 'pink', lw=2, label =f'ROC Curve (AUC of SVC = {roc_auc_val_svm:.2f})')\n",
    "plt.plot(fpr_knn,tpr_knn, color = 'lightgrey', lw=2, label =f'ROC Curve (AUC of KNN = {roc_auc_val_knn:.2f})')\n",
    "\n",
    "\n",
    "plt.plot([0,1],[0,1],color = 'gray',linestyle='--')\n",
    "plt.xlim([0.0,1.0])\n",
    "plt.ylim([0.0,1.05])\n",
    "plt.xlabel('False Positive Rate (FPR)')\n",
    "plt.ylabel('True Positive Rate (TPR)')\n",
    "plt.legend(loc='lower right')\n",
    "plt.title(f\"ROC-AUC Curve Results\")\n",
    "plt.show()"
   ]
  },
  {
   "cell_type": "markdown",
   "metadata": {},
   "source": [
    "## **Gini Coefficients**\n",
    "`Purpose`: To calculate the degree of discriminative power of the model.\n",
    "\n",
    "`Equation`: Gini coefficient = 2 * ROC-AUC score - 1"
   ]
  },
  {
   "cell_type": "code",
   "execution_count": 56,
   "metadata": {},
   "outputs": [
    {
     "name": "stdout",
     "output_type": "stream",
     "text": [
      "The Gini coefficient from Logistic Regression is 0.552\n",
      "The Gini coefficient from SVC is 0.539\n",
      "The Gini coefficient from KNN is 0.395\n"
     ]
    }
   ],
   "source": [
    "# Gini score\n",
    "gini_log = 2*roc_auc_val_log-1\n",
    "gini_svc = 2*roc_auc_val_svm-1\n",
    "gini_knn = 2*roc_auc_val_knn-1\n",
    "\n",
    "# print result\n",
    "print(f'The Gini coefficient from Logistic Regression is {round(gini_log,3)}')\n",
    "print(f'The Gini coefficient from SVC is {round(gini_svc,3)}')\n",
    "print(f'The Gini coefficient from KNN is {round(gini_knn,3)}')"
   ]
  },
  {
   "cell_type": "markdown",
   "metadata": {},
   "source": [
    "### **INSIGHT:**\n",
    "\n",
    "- Both ROC-AUC curves and Gini coefficients show that the hyperparameter-tuned logistic regression model performed best.\n",
    "\n",
    "`ROC-AUC curve`\n",
    "\n",
    "- All ROC-AUC scores of hyperparameter-tuned models surpassed the threshold of 0.5 which describing the random classification performance. The highest score is attained by logistic regression model (0.78), followed by SVC (0.77), and KNN (0.70).\n",
    "\n",
    "`Gini coefficients`\n",
    "\n",
    "- Similarly, the Gini coefficients of hyperparameter-tuned models surpassed the threshold of 0 which describing inability to distinguish the two classes. The highest score is attained by logistic regression model (0.552), followed by SVC (0.539), and KNN (0.395)."
   ]
  },
  {
   "cell_type": "markdown",
   "metadata": {},
   "source": [
    "# **10. MODEL SAVING**"
   ]
  },
  {
   "cell_type": "code",
   "execution_count": 58,
   "metadata": {},
   "outputs": [],
   "source": [
    "# Menyimpan file berkaitan dengan model terbaik serta metode scaling\n",
    "with open('model_log.pkl', 'wb') as file_1:\n",
    "  pickle.dump(best_estimator_log, file_1)\n",
    "\n",
    "with open('model_scaler.pkl', 'wb') as file_2:\n",
    "  pickle.dump(scaler_fx, file_2)"
   ]
  },
  {
   "cell_type": "markdown",
   "metadata": {},
   "source": [
    "# **11. CONCLUSION**\n",
    "- Kesimpulan EDA, Evaluasi Model, Analysis Model, Ide Peningkatan Model"
   ]
  },
  {
   "cell_type": "markdown",
   "metadata": {},
   "source": [
    "## <u>Menjawab Conceptual Problems</u>"
   ]
  },
  {
   "cell_type": "markdown",
   "metadata": {},
   "source": [
    "1. Apakah yang dimaksud dengan coefficient pada logistic regression?\n",
    "    - coefficient pada logistic regression melambangkan hubungan antara feature dengan kemungkinan suatu event dari variabel dependen. Logistic regression menggunakan fungsi logit untuk memetakan kemungkinan kejadian yang terjadi pada nilai bilangan nyata (real) sehingga analisis regresi dapat dilakukan.\n",
    "\n",
    "2. Apakah fungsi parameter kernel pada SVM? Jelaskan salah satu kernel yang kalian pahami!\n",
    "    - Kernel adalah sebuah fungsi untuk meningkatkan dimensi feature data ke tingkat yang lebih tinggi dengan membuat decision boundaries. Tujuan dari pengubahan ini adalah untuk membuat pemisahan linear dan klasifikasi dataset lebih mudah.\n",
    "    - Salah satu jenis kernel yang tersedia pada SVM adalah RBF. RBF adalah jenis kernel yang paling versatile karena RBF tidak memerlukan pengetahuan mengenai distribusi data sehingga class non-linear dapat dipisahkan dengan baik meskipun data memiliki variasi tinggi dan outlier. Namun, kernel ini membuat model menjadi complex sehingga memakan waktu lebih lama dibanding kernel lainnya.\n",
    "\n",
    "3. Bagaimana cara memilih K yang optimal pada KNN ?\n",
    "    - Pemilihan nilai K yang optimal pada KKN dapat dilakukan dengan menggunakan metode GridSearchCV (cross validation search) di mana data dibagi dalam k-folds dan dilatih sebanyak k kali. Kemudian, performa model dapat diukur dengan metrik klasifikasi seperti accuracy, f1 - score.\n",
    "\n",
    "4. Apa yang dimaksud dengan metrics-metrics berikut : Accuracy, Precision, Recall, F1 Score, dan kapan waktu yang tepat untuk menggunakannya ?\n",
    "    - Accuracy => metrik untuk mengukur seberapa akurat prediksi model kita dari skala 1 sampai 100%. Akurasi diukur dari rasio antara jumlah prediksi yang tepat / jumlah data. Metrik ini hanya bisa dipakai bila class datanya seimbang.\n",
    "    - Precision/Positive Predictive Value => metrik untuk mengukur seberapa benar hasil prediksi untuk kelas positif. Precision diukur dari rasio antara jumlah data positive yang benar dan jumlah data yang dinyatakan positif oleh model. Cocok ketika ingin nmenurunkan jumlah data False Positive.\n",
    "    - Recall/ Sensitivity/ True Positive Rate (TPR) => metrik untuk mengukur seberapa sering model mendeteksi nilai positif yang benar dari seluruh jumlah data positif sebenarnya yang ada di model. Cocok untuk menurunkan jumlah data False Negative.\n",
    "    - F1 score => penggabungan konsep precision dan recall yang berarti mempertimbangkan pentingnya jumlah data False Positive dan False Negative. Cocok bila ingin menurunkan jumlah False detection serta untuk class yang balanced maupun imbalanced; lebih robust daripada accuracy."
   ]
  },
  {
   "cell_type": "markdown",
   "metadata": {},
   "source": [
    "## <u>EDA</u>"
   ]
  },
  {
   "cell_type": "markdown",
   "metadata": {},
   "source": [
    "Insights dari bar graph mengenai jumlah karyawan berdasarkan gender:\n",
    "- Hasil bar graph menunjukkan bahwa jumlah nasabah wanita (Female) lebih banyak daripada pria (Male). Perbedaan jumlah nasabah wanita dan pria adalah 1802-1163 = 639 nasabah.\n",
    "\n",
    "Insights dari boxplot, descriptive statistics, dan ANOVA test dalam mempelajari hubungan antara gender dan limit_balance:\n",
    "\n",
    "- Hasil  statistika deskriptif dan boxplot, terlihat lebih jelas bahwa limit_balance tiap gender memiliki rata-rata, nilai kuartil, dan distribusi data non-outlier yang serupa (dari 10000 - 500000). Akan tetapi, jumlah outlier limit_balance pada kategori Female lebih banyak daripada Male.\n",
    "\n",
    "- Hasil ANOVA test menyatakan bahwa jumlah limit_balance berbeda berdasarkan gender karena p-value = 0."
   ]
  },
  {
   "cell_type": "markdown",
   "metadata": {},
   "source": [
    "## <u>Model Evaluation and Analysis</u>"
   ]
  },
  {
   "cell_type": "markdown",
   "metadata": {},
   "source": [
    "- Berdasarkan hasil analysis pada bagian model evaluation, disimpulkan bahwa pipeline dapat membantu meningkatkan performa model. Penggunaan pipeline membantu penyediaan hyperparameter tuning yang beragam pada setiap model, kemudian model dengan hyperparameter terbaik dapat dipilih untuk fitting.\n",
    "\n",
    "- Secara umum, semua model (kecuali SVM tanpa hyperparameter tuning) mampu memprediksi kasus nasabah tidak kena default dengan baik karena nilai f1 - score mendekati 1 baik untuk train set maupun test set. Namun, model-model tanpa hyperparameter tuning yang disimpan dalam pipeline memiliki masalah prediksi kasus nasabah kena default karena f1 - score train set lebih tinggi daripada f1 - score test set dan nilainya di bawah 50% (kurang dari moderat).\n",
    "\n",
    "- Tapi, model-model yang mengalami peningkatan signifikan berdasarkan nilai f1 - score untuk kasus prediksi nasabah kena default dengan hyperparameter tuning adalah SVM (paling baik) dan Logistic Regression. Meskipun f1 - score kedua model ini bersifat moderat (sekita 50%), namun, sifat model lebih konsisten saat ditest dengan test set dibandingkan model tanpa hyperparameter tuning.\n",
    "\n",
    "- Di sisi lain, model KNN dengan hyperparameter tuning masih memiliki masalah prediksi kasus nasabah kena default karena f1 - score masih di bawah 50% baik untuk train dan test set. Dibanding model lain, KNN dianggap kurang cocok untuk model prediksi ketentuan default pada nasabah karena performa yang kurang baik."
   ]
  },
  {
   "cell_type": "markdown",
   "metadata": {},
   "source": [
    "## <u>Peningkatan Model</u>"
   ]
  },
  {
   "cell_type": "markdown",
   "metadata": {},
   "source": [
    "- Karena dataset imbalanced (mayoritas data dengan kasus tidak kena default), maka teknik resampling dengan oversampling class minoritas dapat dipertimbangkan. Namun, harus berhati-hati karena dapat membuat data bias dan kehilangan informasi berharga dari dataset.\n",
    "\n",
    "- Penanganan outlier dapat dilakukan sehingga model bisa semakin konsisten dengan membuat generalisasi yang lebih baik, terutama saat menangani data baru (unseen data).\n",
    "\n",
    "- Memahami domain knowledge berkait kasus default dengan mencari tahu feature yang lebih relevan untuk model."
   ]
  }
 ],
 "metadata": {
  "kernelspec": {
   "display_name": "base",
   "language": "python",
   "name": "python3"
  },
  "language_info": {
   "codemirror_mode": {
    "name": "ipython",
    "version": 3
   },
   "file_extension": ".py",
   "mimetype": "text/x-python",
   "name": "python",
   "nbconvert_exporter": "python",
   "pygments_lexer": "ipython3",
   "version": "3.11.5"
  }
 },
 "nbformat": 4,
 "nbformat_minor": 2
}
